{
 "cells": [
  {
   "cell_type": "markdown",
   "metadata": {
    "slideshow": {
     "slide_type": "skip"
    },
    "toc": true
   },
   "source": [
    "<h1>Table of Contents<span class=\"tocSkip\"></span></h1>\n",
    "<div class=\"toc\"><ul class=\"toc-item\"><li><ul class=\"toc-item\"><li><span><a href=\"#Urban-Informatics-and-Visualization\" data-toc-modified-id=\"Urban-Informatics-and-Visualization-0.1\">Urban Informatics and Visualization</a></span></li></ul></li><li><span><a href=\"#2.1-Motivating-Example:-&quot;Brute-Force&quot;-Data-Analysis-in-Python\" data-toc-modified-id=\"2.1-Motivating-Example:-&quot;Brute-Force&quot;-Data-Analysis-in-Python-1\">2.1 Motivating Example: \"Brute Force\" Data Analysis in Python</a></span><ul class=\"toc-item\"><li><span><a href=\"#2.1.1-Row-based-iteration\" data-toc-modified-id=\"2.1.1-Row-based-iteration-1.1\">2.1.1 Row-based iteration</a></span><ul class=\"toc-item\"><li><span><a href=\"#Thought-experiment:\" data-toc-modified-id=\"Thought-experiment:-1.1.1\">Thought experiment:</a></span></li></ul></li><li><span><a href=\"#2.1.2-List-based-iteration\" data-toc-modified-id=\"2.1.2-List-based-iteration-1.2\">2.1.2 List-based iteration</a></span></li><li><span><a href=\"#2.1.3-Vectorization:-an-Alternative-to-Iteration\" data-toc-modified-id=\"2.1.3-Vectorization:-an-Alternative-to-Iteration-1.3\">2.1.3 Vectorization: an Alternative to Iteration</a></span></li></ul></li><li><span><a href=\"#2.2-The-Python-Scientific-Stack\" data-toc-modified-id=\"2.2-The-Python-Scientific-Stack-2\">2.2 The Python Scientific Stack</a></span></li><li><span><a href=\"#2.3-NumPy-Arrays\" data-toc-modified-id=\"2.3-NumPy-Arrays-3\">2.3 NumPy Arrays</a></span><ul class=\"toc-item\"><li><span><a href=\"#2.3.1-Install-vs-Import\" data-toc-modified-id=\"2.3.1-Install-vs-Import-3.1\">2.3.1 Install vs Import</a></span></li><li><span><a href=\"#2.3.2-Arrays-vs.-Lists\" data-toc-modified-id=\"2.3.2-Arrays-vs.-Lists-3.2\">2.3.2 Arrays vs. Lists</a></span></li><li><span><a href=\"#2.3.3-Working-with-Arrays\" data-toc-modified-id=\"2.3.3-Working-with-Arrays-3.3\">2.3.3 Working with Arrays</a></span></li><li><span><a href=\"#2.3.4-Numpy-for-Linear-Algebra\" data-toc-modified-id=\"2.3.4-Numpy-for-Linear-Algebra-3.4\">2.3.4 Numpy for Linear Algebra</a></span></li><li><span><a href=\"#2.3.5-Numpy-Summary\" data-toc-modified-id=\"2.3.5-Numpy-Summary-3.5\">2.3.5 Numpy Summary</a></span></li><li><span><a href=\"#2.3.6-Exercise\" data-toc-modified-id=\"2.3.6-Exercise-3.6\">2.3.6 Exercise</a></span></li></ul></li><li><span><a href=\"#2.4-Graphing-with-matplotlib\" data-toc-modified-id=\"2.4-Graphing-with-matplotlib-4\">2.4 Graphing with <code>matplotlib</code></a></span></li><li><span><a href=\"#2.5-Intro-to-pandas\" data-toc-modified-id=\"2.5-Intro-to-pandas-5\">2.5 Intro to pandas</a></span><ul class=\"toc-item\"><li><span><a href=\"#2.5.1-The-pandas-data-types\" data-toc-modified-id=\"2.5.1-The-pandas-data-types-5.1\">2.5.1 The <code>pandas</code> data types</a></span></li><li><span><a href=\"#2.5.2-Importing-data\" data-toc-modified-id=\"2.5.2-Importing-data-5.2\">2.5.2 Importing data</a></span></li><li><span><a href=\"#2.5.3-Slicing-and-Selecting-Data\" data-toc-modified-id=\"2.5.3-Slicing-and-Selecting-Data-5.3\">2.5.3 Slicing and Selecting Data</a></span><ul class=\"toc-item\"><li><span><a href=\"#2.5.3.1-Indexing\" data-toc-modified-id=\"2.5.3.1-Indexing-5.3.1\">2.5.3.1 Indexing</a></span></li><li><span><a href=\"#2.5.3.2-Boolean-Indexing\" data-toc-modified-id=\"2.5.3.2-Boolean-Indexing-5.3.2\">2.5.3.2 Boolean Indexing</a></span></li></ul></li><li><span><a href=\"#2.5.4-String-functions\" data-toc-modified-id=\"2.5.4-String-functions-5.4\">2.5.4 String functions</a></span></li><li><span><a href=\"#2.5.5-More-pandas-operations\" data-toc-modified-id=\"2.5.5-More-pandas-operations-5.5\">2.5.5 More pandas operations</a></span></li></ul></li><li><span><a href=\"#2.6-Exercises\" data-toc-modified-id=\"2.6-Exercises-6\">2.6 Exercises</a></span><ul class=\"toc-item\"><li><span><a href=\"#2.6.1-Pandas-expressions\" data-toc-modified-id=\"2.6.1-Pandas-expressions-6.1\">2.6.1 Pandas expressions</a></span></li><li><span><a href=\"#2.6.2-COVID-cases-from-NY-Times\" data-toc-modified-id=\"2.6.2-COVID-cases-from-NY-Times-6.2\">2.6.2 COVID cases from NY Times</a></span></li></ul></li><li><span><a href=\"#3.-Intro-to-Data-Analysis\" data-toc-modified-id=\"3.-Intro-to-Data-Analysis-7\">3. Intro to Data Analysis</a></span></li><li><span><a href=\"#3.1-Merges-and-Joins\" data-toc-modified-id=\"3.1-Merges-and-Joins-8\">3.1 Merges and Joins</a></span><ul class=\"toc-item\"><li><span><a href=\"#3.1.1-Merge\" data-toc-modified-id=\"3.1.1-Merge-8.1\">3.1.1 Merge</a></span><ul class=\"toc-item\"><li><span><a href=\"#3.1.1.1-Inner-merge\" data-toc-modified-id=\"3.1.1.1-Inner-merge-8.1.1\">3.1.1.1 Inner merge</a></span></li><li><span><a href=\"#3.1.1.2-Left-merge\" data-toc-modified-id=\"3.1.1.2-Left-merge-8.1.2\">3.1.1.2 Left merge</a></span></li><li><span><a href=\"#3.1.1.3-Outer-Merge\" data-toc-modified-id=\"3.1.1.3-Outer-Merge-8.1.3\">3.1.1.3 Outer Merge</a></span></li></ul></li><li><span><a href=\"#3.1.2-Join\" data-toc-modified-id=\"3.1.2-Join-8.2\">3.1.2 Join</a></span></li><li><span><a href=\"#3.1.3-More-resources-to-learn-about-merges-and-joins\" data-toc-modified-id=\"3.1.3-More-resources-to-learn-about-merges-and-joins-8.3\">3.1.3 More resources to learn about merges and joins</a></span></li></ul></li><li><span><a href=\"#3.2-Using-Merge-and-str-ops-on-Real-Data\" data-toc-modified-id=\"3.2-Using-Merge-and-str-ops-on-Real-Data-9\">3.2 Using Merge and <code>str</code> ops on Real Data</a></span><ul class=\"toc-item\"><li><span><a href=\"#3.2.1-Importing-County-level-Census-Data-for-the-U.S.\" data-toc-modified-id=\"3.2.1-Importing-County-level-Census-Data-for-the-U.S.-9.1\">3.2.1 Importing County level Census Data for the U.S.</a></span><ul class=\"toc-item\"><li><span><a href=\"#3.2.1.1-A-note-on-character-encodings\" data-toc-modified-id=\"3.2.1.1-A-note-on-character-encodings-9.1.1\">3.2.1.1 A note on character encodings</a></span></li></ul></li><li><span><a href=\"#3.2.2-Data-Exploration-and-Cleaning\" data-toc-modified-id=\"3.2.2-Data-Exploration-and-Cleaning-9.2\">3.2.2 Data Exploration and Cleaning</a></span></li><li><span><a href=\"#3.2.3-Merging\" data-toc-modified-id=\"3.2.3-Merging-9.3\">3.2.3 Merging</a></span><ul class=\"toc-item\"><li><span><a href=\"#3.2.3.1-Dealing-with-duplicate-columns\" data-toc-modified-id=\"3.2.3.1-Dealing-with-duplicate-columns-9.3.1\">3.2.3.1 Dealing with duplicate columns</a></span></li></ul></li></ul></li><li><span><a href=\"#3.3-More-Data-Exploration-and-Cleaning:-Berkeley-PD-Calls\" data-toc-modified-id=\"3.3-More-Data-Exploration-and-Cleaning:-Berkeley-PD-Calls-10\">3.3 More Data Exploration and Cleaning: Berkeley PD Calls</a></span><ul class=\"toc-item\"><li><span><a href=\"#3.3.1-Preliminary-observations-on-the-data?\" data-toc-modified-id=\"3.3.1-Preliminary-observations-on-the-data?-10.1\">3.3.1 Preliminary observations on the data?</a></span></li><li><span><a href=\"#3.3.2-Data-analysis\" data-toc-modified-id=\"3.3.2-Data-analysis-10.2\">3.3.2 Data analysis</a></span></li><li><span><a href=\"#3.3.3-Datetime-operations\" data-toc-modified-id=\"3.3.3-Datetime-operations-10.3\">3.3.3 Datetime operations</a></span></li></ul></li></ul></div>"
   ]
  },
  {
   "cell_type": "markdown",
   "metadata": {
    "slideshow": {
     "slide_type": "slide"
    }
   },
   "source": [
    "# CYPLAN255\n",
    "### Urban Informatics and Visualization"
   ]
  },
  {
   "cell_type": "markdown",
   "metadata": {
    "slideshow": {
     "slide_type": "slide"
    }
   },
   "source": [
    "HIT RECORD and TRANSCRIBE"
   ]
  },
  {
   "cell_type": "markdown",
   "metadata": {
    "slideshow": {
     "slide_type": "slide"
    }
   },
   "source": [
    "# Lecture 07 -- Scientific Computing in Python\n",
    "*******\n",
    "February 14, 2022"
   ]
  },
  {
   "cell_type": "markdown",
   "metadata": {
    "slideshow": {
     "slide_type": "slide"
    }
   },
   "source": [
    "# Agenda\n",
    "1. Announcements\n",
    "2. Scientific Computing in Python\n",
    "3. Intro to Data Analysis\n",
    "4. For next time\n",
    "5. Questions\n"
   ]
  },
  {
   "cell_type": "markdown",
   "metadata": {
    "slideshow": {
     "slide_type": "slide"
    }
   },
   "source": [
    "# 1. Announcements"
   ]
  },
  {
   "cell_type": "markdown",
   "metadata": {
    "slideshow": {
     "slide_type": "fragment"
    }
   },
   "source": [
    "1. Assignment 2 due Tuesday\n",
    "2. Assignment 1 redemption opportunity (thank Irene)\n",
    "3. Syllabus updated"
   ]
  },
  {
   "cell_type": "markdown",
   "metadata": {
    "slideshow": {
     "slide_type": "slide"
    }
   },
   "source": [
    "# 2. Scientific Computing in Python"
   ]
  },
  {
   "cell_type": "markdown",
   "metadata": {
    "slideshow": {
     "slide_type": "slide"
    }
   },
   "source": [
    " _\"Scientific computing is the collection of **tools**, **techniques**, and **theories** required to solve on a computer **mathematical models** of **problems in Science and Engineering**\"_\n",
    "\n",
    "<p style='text-align: right;'>-- Gene H. Golub and James M. Ortega. <br><i>Scientific Computing and Differential Equations – An Introduction to Numerical Methods</i>. Academic Press, 1992.</p>"
   ]
  },
  {
   "cell_type": "markdown",
   "metadata": {
    "slideshow": {
     "slide_type": "slide"
    }
   },
   "source": [
    "## 2.1 Motivating Example: \"Brute Force\" Data Analysis in Python"
   ]
  },
  {
   "cell_type": "markdown",
   "metadata": {
    "slideshow": {
     "slide_type": "fragment"
    }
   },
   "source": [
    "Let's use the methods we learned to iterate through the rows of a file in order to process each row, one at a time.  We will load it via the `csv` library and open the file and iterate through the rows to compute the `mean`, `max`, and `min` values of rainfall."
   ]
  },
  {
   "cell_type": "markdown",
   "metadata": {
    "slideshow": {
     "slide_type": "slide"
    }
   },
   "source": [
    "### 2.1.1 Row-based iteration"
   ]
  },
  {
   "cell_type": "code",
   "execution_count": 1,
   "metadata": {
    "slideshow": {
     "slide_type": "slide"
    }
   },
   "outputs": [
    {
     "name": "stdout",
     "output_type": "stream",
     "text": [
      "mean: 3.7 inches\n",
      "max: 5.9 inches\n",
      "min: 0.7 inches\n"
     ]
    }
   ],
   "source": [
    "import csv\n",
    "\n",
    "with open('data/rain.csv', 'r') as csvfile:  # this is how you open a file in Python\n",
    "    \n",
    "    # initialize a counter and variables to contain our descriptive stats\n",
    "    count = 0  # at the end, divide cumulative_sum by this to get the mean\n",
    "    cumulative_sum = 0  # our rolling sum\n",
    "    max_value = -1  # pick a really small number that's guaranteed to be less than the max\n",
    "    min_value = 1000\n",
    "    \n",
    "    # open the file and skip the header row\n",
    "    my_csv = csv.reader(csvfile)\n",
    "    next(my_csv)\n",
    "    \n",
    "    # loop through each data row\n",
    "    for row in my_csv:\n",
    "        \n",
    "        # rainfall amount is in column 1, only process this row's value if not an empty string\n",
    "        if not row[1] == '':\n",
    "            \n",
    "            # increment the counter and extract this row's rainfall as a float\n",
    "            count = count + 1\n",
    "            rainfall = float(row[1])\n",
    "            \n",
    "            # add this row's rainfall to the cumulative sum\n",
    "            cumulative_sum = cumulative_sum + rainfall\n",
    "            \n",
    "            # if this row's rainfall is greater than the current max value, update with the new max\n",
    "            if rainfall > max_value:\n",
    "                max_value = rainfall\n",
    "\n",
    "            # if this row's rainfall is less than the current min value, update with the new min    \n",
    "            if rainfall < min_value:\n",
    "                min_value = rainfall\n",
    "\n",
    "    # after looping through all the rows, divide the cumulative sum by the count and round to get the mean\n",
    "    mean_value = round(cumulative_sum / count, 1)\n",
    "    \n",
    "    # print out the mean and max values\n",
    "    print('mean:', mean_value, 'inches')\n",
    "    print('max:', max_value, 'inches')\n",
    "    print('min:', min_value, 'inches')"
   ]
  },
  {
   "cell_type": "markdown",
   "metadata": {
    "slideshow": {
     "slide_type": "fragment"
    }
   },
   "source": [
    "#### Thought experiment: \n",
    "Can you think of a straightforward way to get the median value of rainfall?"
   ]
  },
  {
   "cell_type": "markdown",
   "metadata": {
    "slideshow": {
     "slide_type": "slide"
    }
   },
   "source": [
    "### 2.1.2 List-based iteration"
   ]
  },
  {
   "cell_type": "markdown",
   "metadata": {
    "slideshow": {
     "slide_type": "fragment"
    }
   },
   "source": [
    "Some things that are hard in the row-based iteration approach above become easier if we can keep store all of the values in one object, like a list.\n",
    "\n",
    "Let's try to reimplement a cleaner version of what we did above by appending the values from each row into a single list, and then performing the calculations we want on the list."
   ]
  },
  {
   "cell_type": "code",
   "execution_count": 2,
   "metadata": {
    "slideshow": {
     "slide_type": "fragment"
    }
   },
   "outputs": [],
   "source": [
    "with open('data/rain.csv', 'r') as csvfile:\n",
    "    x = []\n",
    "    itemreader = csv.reader(csvfile)\n",
    "    # Skip the header row\n",
    "    next(itemreader)\n",
    "    for row in itemreader:\n",
    "        # keep only non-missing values\n",
    "        if row[1] != '':\n",
    "            x.append(float(row[1]))"
   ]
  },
  {
   "cell_type": "code",
   "execution_count": 3,
   "metadata": {
    "slideshow": {
     "slide_type": "slide"
    }
   },
   "outputs": [
    {
     "data": {
      "text/plain": [
       "[5.3, 5.4, 4.8, 4.7, 3.3, 1.2, 0.8, 0.7, 3.9, 4.5, 5.9]"
      ]
     },
     "execution_count": 3,
     "metadata": {},
     "output_type": "execute_result"
    }
   ],
   "source": [
    "x"
   ]
  },
  {
   "cell_type": "code",
   "execution_count": null,
   "id": "012672a0",
   "metadata": {},
   "outputs": [],
   "source": []
  },
  {
   "cell_type": "markdown",
   "metadata": {
    "slideshow": {
     "slide_type": "fragment"
    }
   },
   "source": [
    "X is now a single list object with all the values in the file, whereas initially we just had each row producing one list with one element in it (from one row), and then printing that, before recreating it with the value from the next row.  The iteration approach kept only one row at a time, and we could not easily do calculations like a median.\n",
    "\n",
    "Using the list (x), we should now have an easier time with mean and median calculations, using list methods like sum and len, and sort:"
   ]
  },
  {
   "cell_type": "code",
   "execution_count": 4,
   "metadata": {
    "slideshow": {
     "slide_type": "fragment"
    }
   },
   "outputs": [
    {
     "name": "stdout",
     "output_type": "stream",
     "text": [
      "3.7\n"
     ]
    }
   ],
   "source": [
    "mean_x = round(sum(x) / len(x), 1)\n",
    "print(mean_x)"
   ]
  },
  {
   "cell_type": "markdown",
   "metadata": {
    "slideshow": {
     "slide_type": "fragment"
    }
   },
   "source": [
    "We can solve the median problem (approximately) by sorting the list, and getting the value that is halfway through the list:"
   ]
  },
  {
   "cell_type": "code",
   "execution_count": 5,
   "metadata": {
    "slideshow": {
     "slide_type": "fragment"
    }
   },
   "outputs": [
    {
     "name": "stdout",
     "output_type": "stream",
     "text": [
      "4.5\n"
     ]
    }
   ],
   "source": [
    "x.sort()\n",
    "median = x[int(len(x) / 2)]\n",
    "print(median)"
   ]
  },
  {
   "cell_type": "markdown",
   "metadata": {
    "slideshow": {
     "slide_type": "slide"
    }
   },
   "source": [
    "It is also simple to get the min and max, using built-in list indexes to get the first and last element from the sorted list:"
   ]
  },
  {
   "cell_type": "code",
   "execution_count": 6,
   "metadata": {
    "slideshow": {
     "slide_type": "fragment"
    }
   },
   "outputs": [
    {
     "data": {
      "text/plain": [
       "0.7"
      ]
     },
     "execution_count": 6,
     "metadata": {},
     "output_type": "execute_result"
    }
   ],
   "source": [
    "min_x = x[0]\n",
    "min_x"
   ]
  },
  {
   "cell_type": "code",
   "execution_count": 7,
   "metadata": {
    "slideshow": {
     "slide_type": "fragment"
    }
   },
   "outputs": [
    {
     "data": {
      "text/plain": [
       "5.9"
      ]
     },
     "execution_count": 7,
     "metadata": {},
     "output_type": "execute_result"
    }
   ],
   "source": [
    "max_x = x[-1]\n",
    "max_x"
   ]
  },
  {
   "cell_type": "markdown",
   "metadata": {
    "slideshow": {
     "slide_type": "slide"
    }
   },
   "source": [
    "OK, this is progress.  Can we now do other math on the data, like multiply each value by 5?"
   ]
  },
  {
   "cell_type": "code",
   "execution_count": 8,
   "metadata": {
    "slideshow": {
     "slide_type": "fragment"
    }
   },
   "outputs": [
    {
     "name": "stdout",
     "output_type": "stream",
     "text": [
      "[0.7, 0.8, 1.2, 3.3, 3.9, 4.5, 4.7, 4.8, 5.3, 5.4, 5.9, 0.7, 0.8, 1.2, 3.3, 3.9, 4.5, 4.7, 4.8, 5.3, 5.4, 5.9, 0.7, 0.8, 1.2, 3.3, 3.9, 4.5, 4.7, 4.8, 5.3, 5.4, 5.9, 0.7, 0.8, 1.2, 3.3, 3.9, 4.5, 4.7, 4.8, 5.3, 5.4, 5.9, 0.7, 0.8, 1.2, 3.3, 3.9, 4.5, 4.7, 4.8, 5.3, 5.4, 5.9]\n"
     ]
    }
   ],
   "source": [
    "y = x * 5\n",
    "print(y)"
   ]
  },
  {
   "cell_type": "markdown",
   "metadata": {
    "slideshow": {
     "slide_type": "fragment"
    }
   },
   "source": [
    "Not what we wanted. That just concatenated 5 copies of the list together! Let's try a different approach."
   ]
  },
  {
   "cell_type": "code",
   "execution_count": 9,
   "metadata": {
    "slideshow": {
     "slide_type": "fragment"
    }
   },
   "outputs": [
    {
     "data": {
      "text/plain": [
       "[3.5, 4.0, 6.0, 16.5, 19.5, 22.5, 23.5, 24.0, 26.5, 27.0, 29.5]"
      ]
     },
     "execution_count": 9,
     "metadata": {},
     "output_type": "execute_result"
    }
   ],
   "source": [
    "y = []\n",
    "for item in range(len(x)):\n",
    "    y.append(x[item] * 5)\n",
    "y"
   ]
  },
  {
   "cell_type": "markdown",
   "metadata": {
    "slideshow": {
     "slide_type": "fragment"
    }
   },
   "source": [
    "Alright, this is a big improvement over the iteration-by-rows approach, but it still a bit tedious, especially if we had a much larger list of items."
   ]
  },
  {
   "cell_type": "markdown",
   "metadata": {
    "slideshow": {
     "slide_type": "slide"
    }
   },
   "source": [
    "### 2.1.3 Vectorization: an Alternative to Iteration\n",
    "\n",
    "**Vectorization** is a more computationally efficient approach to performing repeated operations over a sequence of data. Rather than having Python perform an operation on one item at a time until it reaches the end of the sequence, we can tell Python to do it all at once. This is vast oversimplification of what's actually going on behind the scenes when we employ vectorization, but its close enough."
   ]
  },
  {
   "cell_type": "markdown",
   "metadata": {
    "slideshow": {
     "slide_type": "fragment"
    }
   },
   "source": [
    "In Python, vectorization is made possible through the use of a data type called an `array`, which is defined by the NumPy library. We'll take a closer look at NumPy arrays in a minute, but for now let's admire how they allow us to perform the same exact analysis we just did without ever having to use a for loop:"
   ]
  },
  {
   "cell_type": "code",
   "execution_count": 10,
   "metadata": {
    "slideshow": {
     "slide_type": "fragment"
    }
   },
   "outputs": [
    {
     "name": "stdout",
     "output_type": "stream",
     "text": [
      "3.7\n",
      "4.5\n",
      "0.7\n",
      "5.9\n"
     ]
    }
   ],
   "source": [
    "import numpy as np\n",
    "\n",
    "rain = np.array(x)\n",
    "print(round(np.mean(rain),1))\n",
    "print(np.median(rain))\n",
    "print(np.min(rain))\n",
    "print(np.max(rain))"
   ]
  },
  {
   "cell_type": "markdown",
   "metadata": {
    "slideshow": {
     "slide_type": "slide"
    }
   },
   "source": [
    "Much easier than coding for loops and counters, don't you think?  And a lot faster on large datasets, too. In addition to vectorization, NumPy provides us with access to more complex mathematical operations like variance and standard deviation, and integrates nicely with the most common plotting libraries you'll use in Python.\n",
    "\n",
    "Let's look at a sorted list of the elements in the array as a percentage of total rainfall."
   ]
  },
  {
   "cell_type": "code",
   "execution_count": 11,
   "metadata": {
    "slideshow": {
     "slide_type": "fragment"
    }
   },
   "outputs": [
    {
     "data": {
      "text/plain": [
       "[<matplotlib.lines.Line2D at 0x2b97fdcffc8>]"
      ]
     },
     "execution_count": 11,
     "metadata": {},
     "output_type": "execute_result"
    },
    {
     "data": {
      "image/png": "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\n",
      "text/plain": [
       "<Figure size 432x288 with 1 Axes>"
      ]
     },
     "metadata": {
      "needs_background": "light"
     },
     "output_type": "display_data"
    }
   ],
   "source": [
    "import matplotlib.pyplot as plt\n",
    "%matplotlib inline\n",
    "\n",
    "plt.plot(np.sort(rain) / np.sum(rain))"
   ]
  },
  {
   "cell_type": "markdown",
   "metadata": {
    "slideshow": {
     "slide_type": "slide"
    }
   },
   "source": [
    "## 2.2 The Python Scientific Stack"
   ]
  },
  {
   "cell_type": "markdown",
   "metadata": {
    "slideshow": {
     "slide_type": "fragment"
    }
   },
   "source": [
    "NumPy and Matplotlib are key components of what is commonly referred to as the **Python Scientific Stack**, which includes:"
   ]
  },
  {
   "cell_type": "markdown",
   "metadata": {
    "slideshow": {
     "slide_type": "fragment"
    }
   },
   "source": [
    "- NumPy\n",
    "- SciPy\n",
    "- Matplotlib\n",
    "- Scikit-learn\n",
    "- IPython\n",
    "- pandas\n",
    "- Jupyter\n",
    "- Dask\n",
    "- NetworkX\n",
    "- Ray"
   ]
  },
  {
   "cell_type": "markdown",
   "metadata": {
    "collapsed": true,
    "slideshow": {
     "slide_type": "slide"
    }
   },
   "source": [
    "## 2.3 NumPy Arrays\n",
    "\n",
    "The **array** is the data type which underpins all nearly all scientific computing in Python. Arrays are formally defined in the **NumPy** library, and since NumPy is not a built-in module (like `math` for example), the `array` is not a built-in data type. This means we have to install NumPy and then import it in order to use it and its many methods. Fortunately, the version of Python you installed from Anaconda came with NumPy pre-installed, so the following `import` statement should work without you having to do anything more."
   ]
  },
  {
   "cell_type": "code",
   "execution_count": 12,
   "metadata": {
    "slideshow": {
     "slide_type": "fragment"
    }
   },
   "outputs": [],
   "source": [
    "import numpy as np  # we \"alias\" numpy with \"np\" to make it easier to call it later"
   ]
  },
  {
   "cell_type": "markdown",
   "metadata": {
    "slideshow": {
     "slide_type": "slide"
    }
   },
   "source": [
    "If Python tells you that it can't find the NumPy module when you run the cell above, you'll have to install it yourself. To do that, use the following instructions:\n",
    "\n",
    "1. Open up a bash terminal\n",
    "2. Activate the right conda environment using `conda activate <env name>`. By default this is `base`.\n",
    "3. Run `conda install numpy`\n",
    "4. Restart your Juypter Notebook"
   ]
  },
  {
   "cell_type": "markdown",
   "metadata": {
    "slideshow": {
     "slide_type": "slide"
    }
   },
   "source": [
    "### 2.3.1 Install vs Import\n",
    "\n",
    "Nearly all of the Python libraries for scientific computing are designed to work with arrays. This makes NumPy a **dependency** of each of them. In other words, you cannot import those other libraries unless you already have NumPy **installed** in your Python environment. This is because as soon as you do `import scipy` for example, SciPy is going to do `import numpy` behind the scenes. This means you do not need to import NumPy yourself everytime you want to use SciPy; it just needs to be _installed_."
   ]
  },
  {
   "cell_type": "markdown",
   "metadata": {
    "slideshow": {
     "slide_type": "slide"
    }
   },
   "source": [
    "### 2.3.2 Arrays vs. Lists\n",
    "\n",
    "Arrays look a lot like `list` types, but don't be fooled: they are much more powerful. In general, an `array` allows you to _vectorize_ your calculations instead of iterating over a list and applying an operation element by element. Although they are convenient and readable, _for loops are very slow_. Especially when datasets are large, the **computational efficiency** gained by using vectorized calculations can be significant. In addition to speed, arrays are a convenient data structure for implementing the numerical methods from linear algebra and statistics which comprise the majority of applications of scientific computing applications used in data science.\n",
    "\n",
    "Let's start by creating a list, and then creating an array from that list.  Then let's compare how the list of integers works compared to the array."
   ]
  },
  {
   "cell_type": "code",
   "execution_count": 13,
   "metadata": {
    "slideshow": {
     "slide_type": "fragment"
    }
   },
   "outputs": [],
   "source": [
    "x = list(range(1, 6))\n",
    "y = np.array(x)"
   ]
  },
  {
   "cell_type": "code",
   "execution_count": 14,
   "metadata": {
    "slideshow": {
     "slide_type": "slide"
    }
   },
   "outputs": [
    {
     "name": "stdout",
     "output_type": "stream",
     "text": [
      "[1, 2, 3, 4, 5]\n"
     ]
    }
   ],
   "source": [
    "x"
   ]
  },
  {
   "cell_type": "code",
   "execution_count": 31,
   "metadata": {
    "slideshow": {
     "slide_type": "fragment"
    }
   },
   "outputs": [
    {
     "name": "stdout",
     "output_type": "stream",
     "text": [
      "[1 2 3 4 5]\n"
     ]
    }
   ],
   "source": [
    "y"
   ]
  },
  {
   "cell_type": "markdown",
   "metadata": {
    "slideshow": {
     "slide_type": "fragment"
    }
   },
   "source": [
    "These two objects x and y look almost the same ... but they are not."
   ]
  },
  {
   "cell_type": "code",
   "execution_count": 16,
   "metadata": {
    "slideshow": {
     "slide_type": "fragment"
    }
   },
   "outputs": [
    {
     "data": {
      "text/plain": [
       "list"
      ]
     },
     "execution_count": 16,
     "metadata": {},
     "output_type": "execute_result"
    }
   ],
   "source": [
    "type(x)"
   ]
  },
  {
   "cell_type": "code",
   "execution_count": 17,
   "metadata": {
    "slideshow": {
     "slide_type": "fragment"
    }
   },
   "outputs": [
    {
     "data": {
      "text/plain": [
       "numpy.ndarray"
      ]
     },
     "execution_count": 17,
     "metadata": {},
     "output_type": "execute_result"
    }
   ],
   "source": [
    "type(y)"
   ]
  },
  {
   "cell_type": "markdown",
   "metadata": {
    "slideshow": {
     "slide_type": "slide"
    }
   },
   "source": [
    "Let's see how we can do math operations on these two versions of our data."
   ]
  },
  {
   "cell_type": "code",
   "execution_count": 18,
   "metadata": {
    "slideshow": {
     "slide_type": "fragment"
    }
   },
   "outputs": [
    {
     "data": {
      "text/plain": [
       "15"
      ]
     },
     "execution_count": 18,
     "metadata": {},
     "output_type": "execute_result"
    }
   ],
   "source": [
    "sum(x)"
   ]
  },
  {
   "cell_type": "code",
   "execution_count": 19,
   "metadata": {
    "slideshow": {
     "slide_type": "fragment"
    }
   },
   "outputs": [
    {
     "data": {
      "text/plain": [
       "15"
      ]
     },
     "execution_count": 19,
     "metadata": {},
     "output_type": "execute_result"
    }
   ],
   "source": [
    "sum(y)"
   ]
  },
  {
   "cell_type": "code",
   "execution_count": 20,
   "metadata": {
    "slideshow": {
     "slide_type": "fragment"
    }
   },
   "outputs": [
    {
     "data": {
      "text/plain": [
       "1"
      ]
     },
     "execution_count": 20,
     "metadata": {},
     "output_type": "execute_result"
    }
   ],
   "source": [
    "min(x)"
   ]
  },
  {
   "cell_type": "code",
   "execution_count": 21,
   "metadata": {
    "slideshow": {
     "slide_type": "fragment"
    }
   },
   "outputs": [
    {
     "data": {
      "text/plain": [
       "1"
      ]
     },
     "execution_count": 21,
     "metadata": {},
     "output_type": "execute_result"
    }
   ],
   "source": [
    "min(y)"
   ]
  },
  {
   "cell_type": "markdown",
   "metadata": {
    "slideshow": {
     "slide_type": "fragment"
    }
   },
   "source": [
    "So far so good -- not easy to tell the difference between lists and arrays...but we haven't really gotten NumPy involved yet. Let's see how we might use NumPy to perform some operations beyond the simply min/max/sum."
   ]
  },
  {
   "cell_type": "markdown",
   "metadata": {
    "slideshow": {
     "slide_type": "slide"
    }
   },
   "source": [
    "In some cases, we can use a Numpy method and apply it to a list of numbers like we have in this case:"
   ]
  },
  {
   "cell_type": "code",
   "execution_count": 22,
   "metadata": {
    "slideshow": {
     "slide_type": "fragment"
    }
   },
   "outputs": [
    {
     "data": {
      "text/plain": [
       "3.0"
      ]
     },
     "execution_count": 22,
     "metadata": {},
     "output_type": "execute_result"
    }
   ],
   "source": [
    "np.mean(x)"
   ]
  },
  {
   "cell_type": "code",
   "execution_count": 23,
   "metadata": {
    "slideshow": {
     "slide_type": "fragment"
    }
   },
   "outputs": [
    {
     "data": {
      "text/plain": [
       "3.0"
      ]
     },
     "execution_count": 23,
     "metadata": {},
     "output_type": "execute_result"
    }
   ],
   "source": [
    "np.mean(y)"
   ]
  },
  {
   "cell_type": "code",
   "execution_count": 24,
   "metadata": {
    "slideshow": {
     "slide_type": "fragment"
    }
   },
   "outputs": [
    {
     "data": {
      "text/plain": [
       "3.0"
      ]
     },
     "execution_count": 24,
     "metadata": {},
     "output_type": "execute_result"
    }
   ],
   "source": [
    "np.median(x)"
   ]
  },
  {
   "cell_type": "code",
   "execution_count": 25,
   "metadata": {
    "slideshow": {
     "slide_type": "fragment"
    }
   },
   "outputs": [
    {
     "data": {
      "text/plain": [
       "3.0"
      ]
     },
     "execution_count": 25,
     "metadata": {},
     "output_type": "execute_result"
    }
   ],
   "source": [
    "np.median(y)"
   ]
  },
  {
   "cell_type": "code",
   "execution_count": 26,
   "metadata": {
    "scrolled": true,
    "slideshow": {
     "slide_type": "fragment"
    }
   },
   "outputs": [
    {
     "data": {
      "text/plain": [
       "5"
      ]
     },
     "execution_count": 26,
     "metadata": {},
     "output_type": "execute_result"
    }
   ],
   "source": [
    "np.size(x)"
   ]
  },
  {
   "cell_type": "code",
   "execution_count": 27,
   "metadata": {
    "slideshow": {
     "slide_type": "fragment"
    }
   },
   "outputs": [
    {
     "data": {
      "text/plain": [
       "5"
      ]
     },
     "execution_count": 27,
     "metadata": {},
     "output_type": "execute_result"
    }
   ],
   "source": [
    "np.size(y)"
   ]
  },
  {
   "cell_type": "code",
   "execution_count": 28,
   "metadata": {
    "slideshow": {
     "slide_type": "fragment"
    }
   },
   "outputs": [
    {
     "data": {
      "text/plain": [
       "array([0.1, 0.2, 0.3, 0.4, 0.5])"
      ]
     },
     "execution_count": 28,
     "metadata": {},
     "output_type": "execute_result"
    }
   ],
   "source": [
    "y / 10"
   ]
  },
  {
   "cell_type": "code",
   "execution_count": 122,
   "metadata": {
    "slideshow": {
     "slide_type": "fragment"
    }
   },
   "outputs": [],
   "source": [
    "# x / 10 no divide \"/\" in the list"
   ]
  },
  {
   "cell_type": "markdown",
   "metadata": {
    "slideshow": {
     "slide_type": "slide"
    }
   },
   "source": [
    "When you apply the `/` operator to an `array`, NumPy knows that you want to divide each element rather than the array itself. Python will not make this same assumption for a `list` type. To perform the same operation on a list, we'd have to use iteration:\n"
   ]
  },
  {
   "cell_type": "code",
   "execution_count": 32,
   "metadata": {
    "slideshow": {
     "slide_type": "fragment"
    }
   },
   "outputs": [],
   "source": [
    "xscaled = [z / 10 for z in x]"
   ]
  },
  {
   "cell_type": "markdown",
   "metadata": {
    "slideshow": {
     "slide_type": "fragment"
    }
   },
   "source": [
    "For arrays/lists as small as these, the advantage of vectorization might not seem obvious. Maybe bigger objects and more complex operations might make it more clear:"
   ]
  },
  {
   "cell_type": "code",
   "execution_count": 33,
   "metadata": {
    "slideshow": {
     "slide_type": "fragment"
    }
   },
   "outputs": [],
   "source": [
    "x = list(range(1, int(1e6)))  # 1 million numbers\n",
    "y = np.array(x)"
   ]
  },
  {
   "cell_type": "code",
   "execution_count": 34,
   "metadata": {
    "slideshow": {
     "slide_type": "fragment"
    }
   },
   "outputs": [
    {
     "name": "stdout",
     "output_type": "stream",
     "text": [
      "Wall time: 872 ms\n"
     ]
    }
   ],
   "source": [
    "%time xscaled = [(z ** 2)/ 10 for z in x]"
   ]
  },
  {
   "cell_type": "code",
   "execution_count": 35,
   "metadata": {
    "slideshow": {
     "slide_type": "fragment"
    }
   },
   "outputs": [
    {
     "name": "stdout",
     "output_type": "stream",
     "text": [
      "Wall time: 11.2 ms\n"
     ]
    }
   ],
   "source": [
    "%time yscaled = (y ** 2) / 10"
   ]
  },
  {
   "cell_type": "markdown",
   "metadata": {
    "slideshow": {
     "slide_type": "fragment"
    }
   },
   "source": [
    "36 times faster!"
   ]
  },
  {
   "cell_type": "markdown",
   "metadata": {
    "slideshow": {
     "slide_type": "slide"
    }
   },
   "source": [
    "### 2.3.3 Working with Arrays"
   ]
  },
  {
   "cell_type": "markdown",
   "metadata": {
    "slideshow": {
     "slide_type": "fragment"
    }
   },
   "source": [
    "The easiest ways to create arrays:\n",
    "1. Convert a list:\n",
    "```\n",
    "np.array([1, 2, 3])\n",
    "```\n",
    "2. Initialize an array of the shape you want filled with all zeros or all ones:"
   ]
  },
  {
   "cell_type": "code",
   "execution_count": 36,
   "metadata": {
    "scrolled": true,
    "slideshow": {
     "slide_type": "fragment"
    }
   },
   "outputs": [
    {
     "name": "stdout",
     "output_type": "stream",
     "text": [
      "[0. 0. 0. 0. 0. 0. 0. 0. 0. 0.]\n"
     ]
    }
   ],
   "source": [
    "Z = np.zeros(10)\n",
    "Z"
   ]
  },
  {
   "cell_type": "markdown",
   "metadata": {
    "slideshow": {
     "slide_type": "fragment"
    }
   },
   "source": [
    "And we can set values in the arrays by index value -- meaning they are **mutable**."
   ]
  },
  {
   "cell_type": "code",
   "execution_count": 37,
   "metadata": {
    "scrolled": false,
    "slideshow": {
     "slide_type": "fragment"
    }
   },
   "outputs": [
    {
     "name": "stdout",
     "output_type": "stream",
     "text": [
      "[0. 0. 0. 0. 1. 0. 0. 0. 0. 0.]\n"
     ]
    }
   ],
   "source": [
    "Z[4] = 1\n",
    "print(Z)"
   ]
  },
  {
   "cell_type": "markdown",
   "metadata": {
    "slideshow": {
     "slide_type": "slide"
    }
   },
   "source": [
    "Arrays are not always simple one-dimensional arrays like a column in a spreadsheet.  They could be 2 dimensional like a table, or 3 dimensional like a set of tables, or many dimensional."
   ]
  },
  {
   "cell_type": "code",
   "execution_count": 38,
   "metadata": {
    "scrolled": false,
    "slideshow": {
     "slide_type": "fragment"
    }
   },
   "outputs": [
    {
     "name": "stdout",
     "output_type": "stream",
     "text": [
      "[[0 1 2]\n",
      " [3 4 5]\n",
      " [6 7 8]]\n"
     ]
    }
   ],
   "source": [
    "Z = np.arange(9).reshape(3, 3)\n",
    "Z"
   ]
  },
  {
   "cell_type": "code",
   "execution_count": null,
   "id": "58afc730",
   "metadata": {},
   "outputs": [],
   "source": [
    "np.sum(Z[:, 2])"
   ]
  },
  {
   "cell_type": "markdown",
   "metadata": {
    "slideshow": {
     "slide_type": "fragment"
    }
   },
   "source": [
    "`np.arange()`? `np.reshape()`?"
   ]
  },
  {
   "cell_type": "markdown",
   "metadata": {
    "slideshow": {
     "slide_type": "slide"
    }
   },
   "source": [
    "Of course if you have a 2-dimensional array, your indexing into the array becomes two dimensional as well, with row, then column index values:"
   ]
  },
  {
   "cell_type": "code",
   "execution_count": 39,
   "metadata": {
    "slideshow": {
     "slide_type": "fragment"
    }
   },
   "outputs": [
    {
     "data": {
      "text/plain": [
       "array([[0, 1, 9],\n",
       "       [3, 4, 5],\n",
       "       [6, 7, 8]])"
      ]
     },
     "execution_count": 39,
     "metadata": {},
     "output_type": "execute_result"
    }
   ],
   "source": [
    "Z[0, 2] = 9\n",
    "Z"
   ]
  },
  {
   "cell_type": "code",
   "execution_count": 40,
   "metadata": {
    "slideshow": {
     "slide_type": "fragment"
    }
   },
   "outputs": [
    {
     "data": {
      "text/plain": [
       "(3, 3)"
      ]
     },
     "execution_count": 40,
     "metadata": {},
     "output_type": "execute_result"
    }
   ],
   "source": [
    "Z.shape"
   ]
  },
  {
   "cell_type": "code",
   "execution_count": 41,
   "metadata": {
    "scrolled": true,
    "slideshow": {
     "slide_type": "fragment"
    }
   },
   "outputs": [
    {
     "data": {
      "text/plain": [
       "9"
      ]
     },
     "execution_count": 41,
     "metadata": {},
     "output_type": "execute_result"
    }
   ],
   "source": [
    "Z.size"
   ]
  },
  {
   "cell_type": "markdown",
   "metadata": {
    "slideshow": {
     "slide_type": "slide"
    }
   },
   "source": [
    "You might or might not have noticed that when we do calculations on arrays like adding two arrays together, the default behavior is element by element.  Look at thr result of adding Z to itself:"
   ]
  },
  {
   "cell_type": "code",
   "execution_count": 42,
   "metadata": {
    "scrolled": true,
    "slideshow": {
     "slide_type": "fragment"
    }
   },
   "outputs": [
    {
     "data": {
      "text/plain": [
       "array([[ 0,  2, 18],\n",
       "       [ 6,  8, 10],\n",
       "       [12, 14, 16]])"
      ]
     },
     "execution_count": 42,
     "metadata": {},
     "output_type": "execute_result"
    }
   ],
   "source": [
    "Z + Z"
   ]
  },
  {
   "cell_type": "markdown",
   "metadata": {
    "slideshow": {
     "slide_type": "fragment"
    }
   },
   "source": [
    "Or multiplying it by itself:"
   ]
  },
  {
   "cell_type": "code",
   "execution_count": 43,
   "metadata": {
    "scrolled": true,
    "slideshow": {
     "slide_type": "fragment"
    }
   },
   "outputs": [
    {
     "data": {
      "text/plain": [
       "array([[ 0,  1, 81],\n",
       "       [ 9, 16, 25],\n",
       "       [36, 49, 64]])"
      ]
     },
     "execution_count": 43,
     "metadata": {},
     "output_type": "execute_result"
    }
   ],
   "source": [
    "Z * Z"
   ]
  },
  {
   "cell_type": "markdown",
   "metadata": {
    "slideshow": {
     "slide_type": "slide"
    }
   },
   "source": [
    "In this example we create a 10 x 10 array of random numbers and find the min and max of the array:"
   ]
  },
  {
   "cell_type": "code",
<<<<<<< HEAD
   "execution_count": 44,
=======
   "execution_count": null,
   "id": "8dc28546",
   "metadata": {},
   "outputs": [],
   "source": [
    "Z"
   ]
  },
  {
   "cell_type": "code",
   "execution_count": null,
   "id": "29e22647",
>>>>>>> b29ccfe24745ae7d4ee025057dc4dd640781773b
   "metadata": {
    "slideshow": {
     "slide_type": "fragment"
    }
   },
   "outputs": [
    {
     "name": "stdout",
     "output_type": "stream",
     "text": [
      "0.02933139741936286 0.9955367010642345\n"
     ]
    }
   ],
   "source": [
    "Z = np.random.randint(0, 100, (10, 10))\n",
    "Zmin, Zmax = Z.min(), Z.max()\n",
    "print(Zmin, Zmax)"
   ]
  },
  {
   "cell_type": "markdown",
   "metadata": {
    "slideshow": {
     "slide_type": "fragment"
    }
   },
   "source": [
    "Some NumPy operations are available as array methods. But others are only defined as NumPy functions, like median and percentile"
   ]
  },
  {
   "cell_type": "code",
   "execution_count": 45,
   "metadata": {
    "slideshow": {
     "slide_type": "fragment"
    }
   },
   "outputs": [
    {
     "name": "stdout",
     "output_type": "stream",
     "text": [
      "0.513308235238959\n",
      "0.513308235238959\n"
     ]
    }
   ],
   "source": [
    "print(np.mean(Z))  # function\n",
    "print(Z.mean())  # method"
   ]
  },
  {
   "cell_type": "code",
<<<<<<< HEAD
   "execution_count": 46,
=======
   "execution_count": null,
   "id": "75153671",
   "metadata": {},
   "outputs": [],
   "source": []
  },
  {
   "cell_type": "code",
   "execution_count": null,
   "id": "a938dfb2",
>>>>>>> b29ccfe24745ae7d4ee025057dc4dd640781773b
   "metadata": {
    "slideshow": {
     "slide_type": "fragment"
    }
   },
   "outputs": [
    {
     "name": "stdout",
     "output_type": "stream",
     "text": [
      "0.5246055375143819\n"
     ]
    }
   ],
   "source": [
    "print(np.median(Z))"
   ]
  },
  {
   "cell_type": "code",
   "execution_count": 121,
   "metadata": {
    "slideshow": {
     "slide_type": "fragment"
    }
   },
   "outputs": [],
   "source": [
    "#  print(Z.median()) only np.functions"
   ]
  },
  {
   "cell_type": "markdown",
   "metadata": {
    "slideshow": {
     "slide_type": "slide"
    }
   },
   "source": [
    "Remember this example from the first class?  It was using Numpy arrays and the Matplotlib library for plotting."
   ]
  },
  {
   "cell_type": "code",
   "execution_count": 48,
   "metadata": {
    "slideshow": {
     "slide_type": "fragment"
    }
   },
   "outputs": [],
   "source": [
    "import matplotlib.pyplot as plt\n",
    "%matplotlib inline"
   ]
  },
  {
   "cell_type": "code",
   "execution_count": 49,
   "metadata": {
    "scrolled": true,
    "slideshow": {
     "slide_type": "fragment"
    }
   },
   "outputs": [
    {
     "data": {
      "text/plain": [
       "[<matplotlib.lines.Line2D at 0x2b9026a4c08>]"
      ]
     },
     "execution_count": 49,
     "metadata": {},
     "output_type": "execute_result"
    },
    {
     "data": {
      "image/png": "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\n",
      "text/plain": [
       "<Figure size 432x288 with 1 Axes>"
      ]
     },
     "metadata": {
      "needs_background": "light"
     },
     "output_type": "display_data"
    }
   ],
   "source": [
    "x = range(100)\n",
    "y = np.sin(x)\n",
    "plt.plot(x * y)"
   ]
  },
  {
   "cell_type": "markdown",
   "metadata": {
    "slideshow": {
     "slide_type": "slide"
    }
   },
   "source": [
    "### 2.3.4 Numpy for Linear Algebra"
   ]
  },
  {
   "cell_type": "markdown",
   "metadata": {
    "slideshow": {
     "slide_type": "fragment"
    }
   },
   "source": [
    "If you have used a program like Matlab, R, Gauss, Octave or any other matrix - based language for doing linear algebra or statistics, this is not what you expect.  Instead, multiplying two matrices would be expected to produce a dot product, or matrix multiplication.  NumPy can do that too, but it just uses a different syntax:"
   ]
  },
  {
   "cell_type": "code",
   "execution_count": 50,
   "metadata": {
    "scrolled": false,
    "slideshow": {
     "slide_type": "fragment"
    }
   },
   "outputs": [
    {
     "name": "stdout",
     "output_type": "stream",
     "text": [
      "[[0 1 2]\n",
      " [3 4 5]\n",
      " [6 7 8]]\n"
     ]
    }
   ],
   "source": [
    "Z = np.arange(9).reshape(3, 3)\n",
    "print(Z)"
   ]
  },
  {
   "cell_type": "code",
   "execution_count": 51,
   "metadata": {
    "slideshow": {
     "slide_type": "fragment"
    }
   },
   "outputs": [
    {
     "data": {
      "text/plain": [
       "array([[ 15,  18,  21],\n",
       "       [ 42,  54,  66],\n",
       "       [ 69,  90, 111]])"
      ]
     },
     "execution_count": 51,
     "metadata": {},
     "output_type": "execute_result"
    }
   ],
   "source": [
    "Z.dot(Z)"
   ]
  },
  {
   "cell_type": "markdown",
   "metadata": {
    "slideshow": {
     "slide_type": "fragment"
    }
   },
   "source": [
    "You can also do a matrix transpose (switching axes):"
   ]
  },
  {
   "cell_type": "code",
   "execution_count": 52,
   "metadata": {
    "slideshow": {
     "slide_type": "fragment"
    }
   },
   "outputs": [
    {
     "data": {
      "text/plain": [
       "True"
      ]
     },
     "execution_count": 52,
     "metadata": {},
     "output_type": "execute_result"
    }
   ],
   "source": [
    "np.array_equal(np.transpose(Z), Z.T)"
   ]
  },
  {
   "cell_type": "markdown",
   "metadata": {
    "slideshow": {
     "slide_type": "fragment"
    }
   },
   "source": [
    "And easily compute an identity matrix:"
   ]
  },
  {
   "cell_type": "code",
   "execution_count": 53,
   "metadata": {
    "scrolled": true,
    "slideshow": {
     "slide_type": "fragment"
    }
   },
   "outputs": [
    {
     "data": {
      "text/plain": [
       "array([[1., 0., 0.],\n",
       "       [0., 1., 0.],\n",
       "       [0., 0., 1.]])"
      ]
     },
     "execution_count": 53,
     "metadata": {},
     "output_type": "execute_result"
    }
   ],
   "source": [
    "np.eye(3, 3)"
   ]
  },
  {
   "cell_type": "markdown",
   "metadata": {
    "slideshow": {
     "slide_type": "slide"
    }
   },
   "source": [
    "### 2.3.5 Numpy Summary\n",
    "\n",
    "NumPy is a very powerful multi-dimensional array processing library for Python, and it is very fast because the underlying implementation is actually in the C programming language.\n",
    "\n",
    "The Scientific Python ecosystem we will be using in this course uses NumPy heavily, but usually it is \"under the hood\", and we use it through the Pandas library which makes it much easier to use and to handle data as tables.  But you might find significant value in learning more about NumPy if you need lower level functionality or want to code something very computationally intensive. It is not expected that you use it heavily in this course, however.\n",
    "\n",
    "As we will learn later in the course, we can use the NumPy multi-dimensional array library and other libraries built on it to do statistical analysis and machine learning. NumPy solves one of the main limitations of the Python language, which is that it is very slow at iterating or looping through calculations once the size of the data becomes large. But NumPy does those same operations very efficiently by using vectorized computation. For example, it multiplies two arrays all at once rather than looping through each row and multiplying the elements."
   ]
  },
  {
   "cell_type": "markdown",
   "metadata": {
    "slideshow": {
     "slide_type": "slide"
    }
   },
   "source": [
    "### 2.3.6 Exercise\n",
    "\n",
    "Now do some experimenting with Numpy to get more familiar with it.\n",
    "\n",
    "Try creating a 100 x 100 element array with random numbers\n",
    "\n",
    "Multiply those by 2\n",
    "\n",
    "Calculate the 75% percentile value of the array\n",
    "\n",
    "Calculate minimum, maximum, median, and 10th and 90th percentile values\n"
   ]
  },
  {
   "cell_type": "code",
   "execution_count": 113,
   "metadata": {
    "slideshow": {
     "slide_type": "fragment"
    }
   },
   "outputs": [
    {
     "name": "stdout",
     "output_type": "stream",
     "text": [
      "min 6.310728616653111e-09\n",
      "max 0.7499890108726699\n",
      "median 0.1923801513295202\n"
     ]
    }
   ],
   "source": [
    "exe = np.random.random((100,100))\n",
    "exe_2 = exe * exe\n",
    "exe_2 = 0.75 * exe_2\n",
    "print(\"min\",exe_2.min())\n",
    "print(\"max\",exe_2.max())\n",
    "print(\"median\",np.median(exe_2))"
   ]
  },
  {
   "cell_type": "code",
   "execution_count": 119,
   "metadata": {},
   "outputs": [
    {
     "data": {
      "text/plain": [
       "0.007211315227260474"
      ]
     },
     "execution_count": 119,
     "metadata": {},
     "output_type": "execute_result"
    }
   ],
   "source": [
    "exe_10 = np.percentile(exe_2,10)\n",
    "exe_10"
   ]
  },
  {
   "cell_type": "code",
   "execution_count": 120,
   "metadata": {},
   "outputs": [
    {
     "data": {
      "text/plain": [
       "0.6113930548304861"
      ]
     },
     "execution_count": 120,
     "metadata": {},
     "output_type": "execute_result"
    }
   ],
   "source": [
    "exe_90 = np.percentile(exe_2,90)\n",
    "exe_90"
   ]
  },
  {
   "cell_type": "markdown",
   "metadata": {
    "slideshow": {
     "slide_type": "slide"
    }
   },
   "source": [
    "## 2.4 Graphing with `matplotlib`\n",
    "The `matplotlib` library includes a variety of functions that allow us to build plots of data. There are lots of different data viz libraries in Python we'll be exploring later, but most of them are built on top of Matplotlib (kind of like NumPy for data analysis)."
   ]
  },
  {
   "cell_type": "markdown",
   "metadata": {
    "slideshow": {
     "slide_type": "fragment"
    }
   },
   "source": [
    " Once again, you must first import the library before you can use it."
   ]
  },
  {
   "cell_type": "code",
   "execution_count": 54,
   "metadata": {
    "slideshow": {
     "slide_type": "fragment"
    }
   },
   "outputs": [
    {
     "name": "stderr",
     "output_type": "stream",
     "text": [
      "UsageError: unrecognized arguments: # display to nicely in the notebook.\n"
     ]
    }
   ],
   "source": [
    "import matplotlib.pyplot as plt  # import matplotlib\n",
    "%matplotlib inline   # display to nicely in the notebook."
   ]
  },
  {
   "cell_type": "markdown",
   "metadata": {
    "slideshow": {
     "slide_type": "slide"
    }
   },
   "source": [
    "Before you can use the plotting functions, you must first have some data to plot. Below are some data on Berkeley restaurants taken from Yelp."
   ]
  },
  {
   "cell_type": "code",
   "execution_count": 55,
   "metadata": {
    "slideshow": {
     "slide_type": "fragment"
    }
   },
   "outputs": [],
   "source": [
    "restaurants = [\"Gypsy's\", \"Tacos Sinaloa\", \"Sliver\", \"Muracci's\", \"Brazil Cafe\", \"Thai Basil\"]\n",
    "rating = [4, 4, 4, 3.5, 4.5, 3.5]\n",
    "number_of_ratings = [1666, 347, 1308, 294, 1246, 904]"
   ]
  },
  {
   "cell_type": "markdown",
   "metadata": {
    "slideshow": {
     "slide_type": "fragment"
    }
   },
   "source": [
    "You may be interested in seeing if there is a relationship between the number of ratings a restaurant has and their rating out 5 stars. It is difficult to determine this from looking at the numbers directly, so a plot can come in handy."
   ]
  },
  {
   "cell_type": "code",
   "execution_count": 56,
   "metadata": {
    "slideshow": {
     "slide_type": "fragment"
    }
   },
   "outputs": [
    {
     "data": {
      "image/png": "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\n",
      "text/plain": [
       "<Figure size 432x288 with 1 Axes>"
      ]
     },
     "metadata": {
      "needs_background": "light"
     },
     "output_type": "display_data"
    }
   ],
   "source": [
    "plt.scatter(number_of_ratings, rating)  # create a scatter plot\n",
    "plt.show()  # show the plot"
   ]
  },
  {
   "cell_type": "markdown",
   "metadata": {
    "slideshow": {
     "slide_type": "slide"
    }
   },
   "source": [
    "Out of context, this plot is not very helpful because it doesn't have axis labels or a title. These components can be added using other `matplotlib` functions."
   ]
  },
  {
   "cell_type": "code",
   "execution_count": 57,
   "metadata": {
    "slideshow": {
     "slide_type": "fragment"
    }
   },
   "outputs": [
    {
     "data": {
      "image/png": "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\n",
      "text/plain": [
       "<Figure size 432x288 with 1 Axes>"
      ]
     },
     "metadata": {
      "needs_background": "light"
     },
     "output_type": "display_data"
    }
   ],
   "source": [
    "plt.scatter(number_of_ratings, rating)  # create a scatter plot\n",
    "plt.xlabel(\"Number of Ratings\")  # add the x-axis label\n",
    "plt.ylabel(\"Star Rating (out of 5)\")  # add the y-axis label\n",
    "plt.title(\"Berkeley Restaurant Star Ratings by Number of Ratings\")  # add a title\n",
    "plt.show()  # show the plot"
   ]
  },
  {
   "cell_type": "markdown",
   "metadata": {
    "slideshow": {
     "slide_type": "slide"
    }
   },
   "source": [
    "There are many other attributes you can add to plots and many more types of plots you can create using this library. For a comprehensive description, visit the [documentation](https://matplotlib.org/api/pyplot_api.html)! Included here are some basic plots that you may find useful for this class."
   ]
  },
  {
   "cell_type": "code",
   "execution_count": 58,
   "metadata": {
    "slideshow": {
     "slide_type": "fragment"
    }
   },
   "outputs": [
    {
     "data": {
      "image/png": "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\n",
      "text/plain": [
       "<Figure size 432x288 with 1 Axes>"
      ]
     },
     "metadata": {
      "needs_background": "light"
     },
     "output_type": "display_data"
    }
   ],
   "source": [
    "# create a bar plot\n",
    "plt.bar(restaurants, number_of_ratings)\n",
    "\n",
    "# add the x-axis label\n",
    "plt.xlabel(\"Restaurant\")\n",
    "\n",
    "# add the y-axis label\n",
    "plt.ylabel(\"Number of Ratings\")\n",
    "\n",
    "# add a title\n",
    "plt.title(\"Berkeley Restaurant Star Ratings\")\n",
    "\n",
    "# show the plot\n",
    "plt.show()"
   ]
  },
  {
   "cell_type": "code",
   "execution_count": 59,
   "metadata": {
    "slideshow": {
     "slide_type": "fragment"
    }
   },
   "outputs": [
    {
     "data": {
      "image/png": "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\n",
      "text/plain": [
       "<Figure size 432x288 with 1 Axes>"
      ]
     },
     "metadata": {
      "needs_background": "light"
     },
     "output_type": "display_data"
    }
   ],
   "source": [
    "# create a histogram\n",
    "plt.hist(rating)\n",
    "\n",
    "# add the x-axis label\n",
    "plt.xlabel(\"Star Rating (out of 5)\")\n",
    "\n",
    "# add the y-axis label\n",
    "plt.ylabel(\"Frequency\")\n",
    "\n",
    "# add a title\n",
    "plt.title(\"Berkeley Restaurant Star Rating Frequencies\")\n",
    "\n",
    "# show the plot\n",
    "plt.show()"
   ]
  },
  {
   "cell_type": "markdown",
   "metadata": {
    "slideshow": {
     "slide_type": "slide"
    }
   },
   "source": [
    "It is also possible to overlay multiple lines on a single plot. Below are some made up data about the number of people with each height in two different classes."
   ]
  },
  {
   "cell_type": "code",
   "execution_count": 60,
   "metadata": {
    "slideshow": {
     "slide_type": "fragment"
    }
   },
   "outputs": [],
   "source": [
    "height = [60, 61, 62, 63, 64, 65, 66, 67, 68, 69, 70, 71, 72]\n",
    "class_one = [1, 1, 0, 3, 7, 4, 3, 7, 8, 3, 1, 2, 1]\n",
    "class_two = [0, 0, 3, 1, 3, 4, 1, 2, 6, 2, 8, 5, 2]"
   ]
  },
  {
   "cell_type": "markdown",
   "metadata": {
    "slideshow": {
     "slide_type": "fragment"
    }
   },
   "source": [
    "You can use the `.plot()` function to plot both of these functions as line plots. If you run multiple calls to plotting functions in the same cell, Python will simply layer the resulting plots on the same plot."
   ]
  },
  {
   "cell_type": "code",
   "execution_count": 61,
   "metadata": {
    "slideshow": {
     "slide_type": "fragment"
    }
   },
   "outputs": [
    {
     "data": {
      "image/png": "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\n",
      "text/plain": [
       "<Figure size 432x288 with 1 Axes>"
      ]
     },
     "metadata": {
      "needs_background": "light"
     },
     "output_type": "display_data"
    }
   ],
   "source": [
    "# create a line plot for the first class\n",
    "# label this line as class one for the legend\n",
    "plt.plot(height, class_one, label = \"class one\")\n",
    "\n",
    "# create a line plot for the second class\n",
    "# label this line as class two for the legend\n",
    "plt.plot(height, class_two, label = \"class two\")\n",
    "\n",
    "# add the x-axis label\n",
    "plt.xlabel(\"Height (in)\")\n",
    "\n",
    "# add the y-axis label\n",
    "plt.ylabel(\"Frequency\")\n",
    "\n",
    "# add the legend\n",
    "plt.legend()\n",
    "\n",
    "# add the title\n",
    "plt.title(\"Frequencies of Different Heights for Two Classes\")\n",
    "\n",
    "# show the plot\n",
    "plt.show()"
   ]
  },
  {
   "cell_type": "markdown",
   "metadata": {
    "slideshow": {
     "slide_type": "slide"
    }
   },
   "source": [
    "## 2.5 Intro to pandas"
   ]
  },
  {
   "cell_type": "markdown",
   "metadata": {
    "slideshow": {
     "slide_type": "fragment"
    }
   },
   "source": [
    "`pandas` is the most popular library for doing data analysis in Python. The Wes McKinney book you've been reading is basically just a guide to Pandas. I wince every time I have to say the word \"pandas\" because I think it's a dumb name, but I wind up having to wince a lot because it is so fundamental to what I use Python for on a day-to-day basis."
   ]
  },
  {
   "cell_type": "markdown",
   "metadata": {
    "slideshow": {
     "slide_type": "fragment"
    }
   },
   "source": [
    "Just like NumPy, we'll import pandas and give it the alias `pd`. This is just convention. You could give it any alias you like, or no alias at all."
   ]
  },
  {
   "cell_type": "code",
   "execution_count": 62,
   "metadata": {
    "slideshow": {
     "slide_type": "fragment"
    }
   },
   "outputs": [],
   "source": [
    "import pandas as pd"
   ]
  },
  {
   "cell_type": "markdown",
   "metadata": {
    "slideshow": {
     "slide_type": "slide"
    }
   },
   "source": [
    "### 2.5.1 The `pandas` data types"
   ]
  },
  {
   "cell_type": "markdown",
   "metadata": {
    "slideshow": {
     "slide_type": "fragment"
    }
   },
   "source": [
    "\n",
    "The pandas library provides us with two new data types, both of which are built on the NumPy `array`:\n",
    "1. `pandas.Series`: a 1d named array with a named index.\n",
    "2. `pandas.DataFrame`: a 2d array (table) of `pandas.Series` columns which share a named index."
   ]
  },
  {
   "cell_type": "markdown",
   "metadata": {
    "slideshow": {
     "slide_type": "fragment"
    }
   },
   "source": [
    "`Series` objects are basically dictionaries, where the keys are now an index and the values are an array of all the same type. A `DataFrame` is like a table where the values are a 2d array or matrix and each column is comprised of a `Series`.\n",
    "\n",
    "You can create a `Series` from a list or a DataFrame from a list of lists:"
   ]
  },
  {
   "cell_type": "code",
<<<<<<< HEAD
   "execution_count": 63,
=======
   "execution_count": null,
   "id": "5bac075a",
   "metadata": {},
   "outputs": [],
   "source": [
    "['person_' + str(i) for i in range(len(height))]"
   ]
  },
  {
   "cell_type": "code",
   "execution_count": null,
   "id": "297871e7",
   "metadata": {},
   "outputs": [],
   "source": [
    "height"
   ]
  },
  {
   "cell_type": "code",
   "execution_count": null,
   "id": "08ad2409",
>>>>>>> b29ccfe24745ae7d4ee025057dc4dd640781773b
   "metadata": {
    "slideshow": {
     "slide_type": "slide"
    }
   },
   "outputs": [
    {
     "data": {
      "text/plain": [
       "person_0     60\n",
       "person_1     61\n",
       "person_2     62\n",
       "person_3     63\n",
       "person_4     64\n",
       "person_5     65\n",
       "person_6     66\n",
       "person_7     67\n",
       "person_8     68\n",
       "person_9     69\n",
       "person_10    70\n",
       "person_11    71\n",
       "person_12    72\n",
       "Name: height, dtype: int64"
      ]
     },
     "execution_count": 63,
     "metadata": {},
     "output_type": "execute_result"
    }
   ],
   "source": [
    "pd.Series(height, index=['person_' + str(i) for i in range(len(height))], name='height')"
   ]
  },
  {
   "cell_type": "code",
   "execution_count": 64,
   "metadata": {
    "slideshow": {
     "slide_type": "slide"
    }
   },
   "outputs": [
    {
     "data": {
      "text/html": [
       "<div>\n",
       "<style scoped>\n",
       "    .dataframe tbody tr th:only-of-type {\n",
       "        vertical-align: middle;\n",
       "    }\n",
       "\n",
       "    .dataframe tbody tr th {\n",
       "        vertical-align: top;\n",
       "    }\n",
       "\n",
       "    .dataframe thead th {\n",
       "        text-align: right;\n",
       "    }\n",
       "</style>\n",
       "<table border=\"1\" class=\"dataframe\">\n",
       "  <thead>\n",
       "    <tr style=\"text-align: right;\">\n",
       "      <th></th>\n",
       "      <th>height</th>\n",
       "      <th>class_one</th>\n",
       "      <th>class_two</th>\n",
       "    </tr>\n",
       "  </thead>\n",
       "  <tbody>\n",
       "    <tr>\n",
       "      <th>person_0</th>\n",
       "      <td>60</td>\n",
       "      <td>1</td>\n",
       "      <td>0</td>\n",
       "    </tr>\n",
       "    <tr>\n",
       "      <th>person_1</th>\n",
       "      <td>61</td>\n",
       "      <td>1</td>\n",
       "      <td>0</td>\n",
       "    </tr>\n",
       "    <tr>\n",
       "      <th>person_2</th>\n",
       "      <td>62</td>\n",
       "      <td>0</td>\n",
       "      <td>3</td>\n",
       "    </tr>\n",
       "    <tr>\n",
       "      <th>person_3</th>\n",
       "      <td>63</td>\n",
       "      <td>3</td>\n",
       "      <td>1</td>\n",
       "    </tr>\n",
       "    <tr>\n",
       "      <th>person_4</th>\n",
       "      <td>64</td>\n",
       "      <td>7</td>\n",
       "      <td>3</td>\n",
       "    </tr>\n",
       "    <tr>\n",
       "      <th>person_5</th>\n",
       "      <td>65</td>\n",
       "      <td>4</td>\n",
       "      <td>4</td>\n",
       "    </tr>\n",
       "    <tr>\n",
       "      <th>person_6</th>\n",
       "      <td>66</td>\n",
       "      <td>3</td>\n",
       "      <td>1</td>\n",
       "    </tr>\n",
       "    <tr>\n",
       "      <th>person_7</th>\n",
       "      <td>67</td>\n",
       "      <td>7</td>\n",
       "      <td>2</td>\n",
       "    </tr>\n",
       "    <tr>\n",
       "      <th>person_8</th>\n",
       "      <td>68</td>\n",
       "      <td>8</td>\n",
       "      <td>6</td>\n",
       "    </tr>\n",
       "    <tr>\n",
       "      <th>person_9</th>\n",
       "      <td>69</td>\n",
       "      <td>3</td>\n",
       "      <td>2</td>\n",
       "    </tr>\n",
       "    <tr>\n",
       "      <th>person_10</th>\n",
       "      <td>70</td>\n",
       "      <td>1</td>\n",
       "      <td>8</td>\n",
       "    </tr>\n",
       "    <tr>\n",
       "      <th>person_11</th>\n",
       "      <td>71</td>\n",
       "      <td>2</td>\n",
       "      <td>5</td>\n",
       "    </tr>\n",
       "    <tr>\n",
       "      <th>person_12</th>\n",
       "      <td>72</td>\n",
       "      <td>1</td>\n",
       "      <td>2</td>\n",
       "    </tr>\n",
       "  </tbody>\n",
       "</table>\n",
       "</div>"
      ],
      "text/plain": [
       "           height  class_one  class_two\n",
       "person_0       60          1          0\n",
       "person_1       61          1          0\n",
       "person_2       62          0          3\n",
       "person_3       63          3          1\n",
       "person_4       64          7          3\n",
       "person_5       65          4          4\n",
       "person_6       66          3          1\n",
       "person_7       67          7          2\n",
       "person_8       68          8          6\n",
       "person_9       69          3          2\n",
       "person_10      70          1          8\n",
       "person_11      71          2          5\n",
       "person_12      72          1          2"
      ]
     },
     "execution_count": 64,
     "metadata": {},
     "output_type": "execute_result"
    }
   ],
   "source": [
    "df = pd.DataFrame(\n",
    "    [height, class_one, class_two],\n",
    "    index=['height','class_one', 'class_two'],\n",
    "    columns=['person_' + str(i) for i in range(len(height))]).T"
   ]
  },
  {
   "cell_type": "code",
   "execution_count": null,
   "id": "425bec57",
   "metadata": {},
   "outputs": [],
   "source": [
    "df['height']"
   ]
  },
  {
   "cell_type": "markdown",
   "metadata": {
    "slideshow": {
     "slide_type": "slide"
    }
   },
   "source": [
    "### 2.5.2 Importing data"
   ]
  },
  {
   "cell_type": "markdown",
   "metadata": {
    "slideshow": {
     "slide_type": "fragment"
    }
   },
   "source": [
    "Typically, however, we'll create DataFrames by reading in data that is already in a tabular format, like a .csv. Let's look at our rain data again:"
   ]
  },
  {
   "cell_type": "code",
   "execution_count": 136,
   "metadata": {
    "slideshow": {
     "slide_type": "fragment"
    }
   },
   "outputs": [],
   "source": [
    "df = pd.read_csv('data/rain.csv')"
   ]
  },
  {
   "cell_type": "code",
   "execution_count": null,
   "id": "06f391aa",
   "metadata": {
    "scrolled": true
   },
   "outputs": [],
   "source": [
    "df.head()"
   ]
  },
  {
   "cell_type": "code",
   "execution_count": null,
   "id": "5098ac94",
   "metadata": {},
   "outputs": [],
   "source": [
    "df.dtypes"
   ]
  },
  {
   "cell_type": "markdown",
   "metadata": {
    "slideshow": {
     "slide_type": "slide"
    }
   },
   "source": [
    "Notice a few things that have happened here.\n",
    "\n",
    "1. `pd.read_csv()` had enough built-in smarts to read the first row of the file as a header.\n",
    "1. It then read all rows in the file at once to create a table of NumPy arrays.\n",
    "1. It created an automatic unique index, beginning with zero.\n",
    "1. It inferred the type of each variable from the data.\n",
    "\n",
    "Let's explore this pandas `DataFrame` to learn some of its features. Note that a pandas Series is like one column of this DataFrame, coupled with its own index column. So the main difference between a Series and a DataFrame is that the latter has multiple columns. Columns can be of different data types, but within a column, must be consistent."
   ]
  },
  {
   "cell_type": "code",
   "execution_count": 137,
   "metadata": {
    "slideshow": {
     "slide_type": "fragment"
    }
   },
   "outputs": [
    {
     "data": {
      "text/plain": [
       "(12, 2)"
      ]
     },
     "execution_count": 137,
     "metadata": {},
     "output_type": "execute_result"
    }
   ],
   "source": [
    "df.shape"
   ]
  },
  {
   "cell_type": "code",
   "execution_count": 138,
   "metadata": {
    "slideshow": {
     "slide_type": "fragment"
    }
   },
   "outputs": [
    {
     "data": {
      "text/plain": [
       "Index(['month_2014', 'rainfall_inches'], dtype='object')"
      ]
     },
     "execution_count": 138,
     "metadata": {},
     "output_type": "execute_result"
    }
   ],
   "source": [
    "df.columns"
   ]
  },
  {
   "cell_type": "code",
   "execution_count": 139,
   "metadata": {
    "slideshow": {
     "slide_type": "fragment"
    }
   },
   "outputs": [
    {
     "data": {
      "text/plain": [
       "month_2014          object\n",
       "rainfall_inches    float64\n",
       "dtype: object"
      ]
     },
     "execution_count": 139,
     "metadata": {},
     "output_type": "execute_result"
    }
   ],
   "source": [
    "df.dtypes"
   ]
  },
  {
   "cell_type": "markdown",
   "metadata": {
    "slideshow": {
     "slide_type": "slide"
    }
   },
   "source": [
    "We can select subsets of the rows by indexing, and select specific columns by their name:"
   ]
  },
  {
   "cell_type": "code",
   "execution_count": 140,
   "metadata": {
    "slideshow": {
     "slide_type": "fragment"
    }
   },
   "outputs": [
    {
     "data": {
      "text/plain": [
       "0    5.3\n",
       "1    5.4\n",
       "2    4.8\n",
       "3    4.7\n",
       "4    3.3\n",
       "5    1.2\n",
       "Name: rainfall_inches, dtype: float64"
      ]
     },
     "execution_count": 140,
     "metadata": {},
     "output_type": "execute_result"
    }
   ],
   "source": [
    "df['rainfall_inches'][:6]"
   ]
  },
  {
   "cell_type": "markdown",
   "metadata": {
    "slideshow": {
     "slide_type": "fragment"
    }
   },
   "source": [
    "We can get all of our statistics on the rainfall_inches column in one short command:"
   ]
  },
  {
   "cell_type": "code",
   "execution_count": 141,
   "metadata": {
    "slideshow": {
     "slide_type": "fragment"
    }
   },
   "outputs": [
    {
     "data": {
      "text/plain": [
       "count    11.000000\n",
       "mean      3.681818\n",
       "std       1.923444\n",
       "min       0.700000\n",
       "25%       2.250000\n",
       "50%       4.500000\n",
       "75%       5.050000\n",
       "max       5.900000\n",
       "Name: rainfall_inches, dtype: float64"
      ]
     },
     "execution_count": 141,
     "metadata": {},
     "output_type": "execute_result"
    }
   ],
   "source": [
    "df['rainfall_inches'].describe()"
   ]
  },
  {
   "cell_type": "markdown",
   "metadata": {
    "slideshow": {
     "slide_type": "fragment"
    }
   },
   "source": [
    "Notice how it silently handled the missing value for September and gave the correct statistical results?"
   ]
  },
  {
   "cell_type": "markdown",
   "metadata": {
    "slideshow": {
     "slide_type": "slide"
    }
   },
   "source": [
    "You can also get these values 'a la carte'.  You might recognize that these are essentially NumPy functions which Pandas has provided access to."
   ]
  },
  {
   "cell_type": "code",
   "execution_count": 142,
   "metadata": {
    "slideshow": {
     "slide_type": "fragment"
    }
   },
   "outputs": [
    {
     "data": {
      "text/plain": [
       "5.9"
      ]
     },
     "execution_count": 142,
     "metadata": {},
     "output_type": "execute_result"
    }
   ],
   "source": [
    "df['rainfall_inches'].max()"
   ]
  },
  {
   "cell_type": "code",
   "execution_count": 143,
   "metadata": {
    "slideshow": {
     "slide_type": "fragment"
    }
   },
   "outputs": [
    {
     "data": {
      "text/plain": [
       "4.5"
      ]
     },
     "execution_count": 143,
     "metadata": {},
     "output_type": "execute_result"
    }
   ],
   "source": [
    "df['rainfall_inches'].median()"
   ]
  },
  {
   "cell_type": "code",
   "execution_count": 144,
   "metadata": {
    "slideshow": {
     "slide_type": "fragment"
    }
   },
   "outputs": [
    {
     "data": {
      "text/plain": [
       "0.7"
      ]
     },
     "execution_count": 144,
     "metadata": {},
     "output_type": "execute_result"
    }
   ],
   "source": [
    "df['rainfall_inches'].min()"
   ]
  },
  {
   "cell_type": "markdown",
   "metadata": {
    "slideshow": {
     "slide_type": "slide"
    }
   },
   "source": [
    "Notice that there is some flexibility in syntax, with multiple ways to perform certain operations:"
   ]
  },
  {
   "cell_type": "code",
   "execution_count": 145,
   "metadata": {
    "slideshow": {
     "slide_type": "fragment"
    }
   },
   "outputs": [
    {
     "data": {
      "text/plain": [
       "0.7"
      ]
     },
     "execution_count": 145,
     "metadata": {},
     "output_type": "execute_result"
    }
   ],
   "source": [
    "df['rainfall_inches'].min()"
   ]
  },
  {
   "cell_type": "code",
   "execution_count": 146,
   "metadata": {
    "slideshow": {
     "slide_type": "fragment"
    }
   },
   "outputs": [
    {
     "data": {
      "text/plain": [
       "0.7"
      ]
     },
     "execution_count": 146,
     "metadata": {},
     "output_type": "execute_result"
    }
   ],
   "source": [
    "df.rainfall_inches.min()"
   ]
  },
  {
   "cell_type": "code",
   "execution_count": 147,
   "metadata": {
    "slideshow": {
     "slide_type": "fragment"
    }
   },
   "outputs": [
    {
     "data": {
      "text/plain": [
       "0.7"
      ]
     },
     "execution_count": 147,
     "metadata": {},
     "output_type": "execute_result"
    }
   ],
   "source": [
    "np.min(df.rainfall_inches)"
   ]
  },
  {
   "cell_type": "markdown",
   "metadata": {
    "slideshow": {
     "slide_type": "slide"
    }
   },
   "source": [
    "Pandas also provides access to some of the basic functionality of `matplotlib`:"
   ]
  },
  {
   "cell_type": "code",
   "execution_count": 148,
   "metadata": {
    "scrolled": false,
    "slideshow": {
     "slide_type": "fragment"
    }
   },
   "outputs": [
    {
     "data": {
      "text/plain": [
       "<matplotlib.axes._subplots.AxesSubplot at 0x2b90878e288>"
      ]
     },
     "execution_count": 148,
     "metadata": {},
     "output_type": "execute_result"
    },
    {
     "data": {
      "image/png": "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\n",
      "text/plain": [
       "<Figure size 432x288 with 1 Axes>"
      ]
     },
     "metadata": {
      "needs_background": "light"
     },
     "output_type": "display_data"
    }
   ],
   "source": [
    "df.plot(y = 'rainfall_inches', x = 'month_2014')"
   ]
  },
  {
   "cell_type": "markdown",
   "metadata": {
    "slideshow": {
     "slide_type": "slide"
    }
   },
   "source": [
    "### 2.5.3 Slicing and Selecting Data\n",
    "\n",
    "#### 2.5.3.1 Indexing\n",
    "\n",
    "pandas provides two indexing methods for getting slices of rows and columns from your data: `loc` and `iloc`. Both of them use the same square bracket notation you should be used to by now:\n",
    "\n",
    "```\n",
    "[<row index>, <column index>]\n",
    "```\n",
    "\n",
    "The `iloc` method lets you index a pandas `DataFrame` like indexing a 2d NumPy `array`, using integers to represent the _positions_ of rows and columns:\n"
   ]
  },
  {
   "cell_type": "code",
   "execution_count": 149,
   "metadata": {
    "slideshow": {
     "slide_type": "fragment"
    }
   },
   "outputs": [
    {
     "data": {
      "text/html": [
       "<div>\n",
       "<style scoped>\n",
       "    .dataframe tbody tr th:only-of-type {\n",
       "        vertical-align: middle;\n",
       "    }\n",
       "\n",
       "    .dataframe tbody tr th {\n",
       "        vertical-align: top;\n",
       "    }\n",
       "\n",
       "    .dataframe thead th {\n",
       "        text-align: right;\n",
       "    }\n",
       "</style>\n",
       "<table border=\"1\" class=\"dataframe\">\n",
       "  <thead>\n",
       "    <tr style=\"text-align: right;\">\n",
       "      <th></th>\n",
       "      <th>month_2014</th>\n",
       "      <th>rainfall_inches</th>\n",
       "    </tr>\n",
       "  </thead>\n",
       "  <tbody>\n",
       "    <tr>\n",
       "      <th>0</th>\n",
       "      <td>jan</td>\n",
       "      <td>5.3</td>\n",
       "    </tr>\n",
       "    <tr>\n",
       "      <th>1</th>\n",
       "      <td>feb</td>\n",
       "      <td>5.4</td>\n",
       "    </tr>\n",
       "    <tr>\n",
       "      <th>2</th>\n",
       "      <td>mar</td>\n",
       "      <td>4.8</td>\n",
       "    </tr>\n",
       "    <tr>\n",
       "      <th>3</th>\n",
       "      <td>apr</td>\n",
       "      <td>4.7</td>\n",
       "    </tr>\n",
       "    <tr>\n",
       "      <th>4</th>\n",
       "      <td>may</td>\n",
       "      <td>3.3</td>\n",
       "    </tr>\n",
       "    <tr>\n",
       "      <th>5</th>\n",
       "      <td>jun</td>\n",
       "      <td>1.2</td>\n",
       "    </tr>\n",
       "  </tbody>\n",
       "</table>\n",
       "</div>"
      ],
      "text/plain": [
       "  month_2014  rainfall_inches\n",
       "0        jan              5.3\n",
       "1        feb              5.4\n",
       "2        mar              4.8\n",
       "3        apr              4.7\n",
       "4        may              3.3\n",
       "5        jun              1.2"
      ]
     },
     "execution_count": 149,
     "metadata": {},
     "output_type": "execute_result"
    }
   ],
   "source": [
    "df.iloc[0:6, 0:2]"
   ]
  },
  {
   "cell_type": "markdown",
   "metadata": {
    "slideshow": {
     "slide_type": "slide"
    }
   },
   "source": [
    "The `loc` method lets us use the index _labels_ to get data."
   ]
  },
  {
   "cell_type": "code",
   "execution_count": 150,
   "metadata": {
    "scrolled": true,
    "slideshow": {
     "slide_type": "fragment"
    }
   },
   "outputs": [
    {
     "data": {
      "text/html": [
       "<div>\n",
       "<style scoped>\n",
       "    .dataframe tbody tr th:only-of-type {\n",
       "        vertical-align: middle;\n",
       "    }\n",
       "\n",
       "    .dataframe tbody tr th {\n",
       "        vertical-align: top;\n",
       "    }\n",
       "\n",
       "    .dataframe thead th {\n",
       "        text-align: right;\n",
       "    }\n",
       "</style>\n",
       "<table border=\"1\" class=\"dataframe\">\n",
       "  <thead>\n",
       "    <tr style=\"text-align: right;\">\n",
       "      <th></th>\n",
       "      <th>month_2014</th>\n",
       "      <th>rainfall_inches</th>\n",
       "    </tr>\n",
       "  </thead>\n",
       "  <tbody>\n",
       "    <tr>\n",
       "      <th>0</th>\n",
       "      <td>jan</td>\n",
       "      <td>5.3</td>\n",
       "    </tr>\n",
       "    <tr>\n",
       "      <th>1</th>\n",
       "      <td>feb</td>\n",
       "      <td>5.4</td>\n",
       "    </tr>\n",
       "    <tr>\n",
       "      <th>2</th>\n",
       "      <td>mar</td>\n",
       "      <td>4.8</td>\n",
       "    </tr>\n",
       "    <tr>\n",
       "      <th>3</th>\n",
       "      <td>apr</td>\n",
       "      <td>4.7</td>\n",
       "    </tr>\n",
       "    <tr>\n",
       "      <th>4</th>\n",
       "      <td>may</td>\n",
       "      <td>3.3</td>\n",
       "    </tr>\n",
       "    <tr>\n",
       "      <th>5</th>\n",
       "      <td>jun</td>\n",
       "      <td>1.2</td>\n",
       "    </tr>\n",
       "    <tr>\n",
       "      <th>6</th>\n",
       "      <td>jul</td>\n",
       "      <td>0.8</td>\n",
       "    </tr>\n",
       "  </tbody>\n",
       "</table>\n",
       "</div>"
      ],
      "text/plain": [
       "  month_2014  rainfall_inches\n",
       "0        jan              5.3\n",
       "1        feb              5.4\n",
       "2        mar              4.8\n",
       "3        apr              4.7\n",
       "4        may              3.3\n",
       "5        jun              1.2\n",
       "6        jul              0.8"
      ]
     },
     "execution_count": 150,
     "metadata": {},
     "output_type": "execute_result"
    }
   ],
   "source": [
    "df.loc[0:6, :'rainfall_inches']"
   ]
  },
  {
   "cell_type": "markdown",
   "metadata": {
    "slideshow": {
     "slide_type": "fragment"
    }
   },
   "source": [
    "Since `loc` does not use positional indexing, notice how the rules of positional indexing do not apply."
   ]
  },
  {
   "cell_type": "markdown",
   "metadata": {
    "slideshow": {
     "slide_type": "fragment"
    }
   },
   "source": [
    "That's right, label-based slicing is **endpoint inclusive**. More on this [here](https://pandas.pydata.org/docs/user_guide/advanced.html#advanced-endpoints-are-inclusive)."
   ]
  },
  {
   "cell_type": "markdown",
   "metadata": {
    "slideshow": {
     "slide_type": "slide"
    }
   },
   "source": [
    "Sometimes it's useful to give your index a meaningful name"
   ]
  },
  {
   "cell_type": "code",
   "execution_count": 151,
   "metadata": {
    "slideshow": {
     "slide_type": "fragment"
    }
   },
   "outputs": [
    {
     "data": {
      "text/html": [
       "<div>\n",
       "<style scoped>\n",
       "    .dataframe tbody tr th:only-of-type {\n",
       "        vertical-align: middle;\n",
       "    }\n",
       "\n",
       "    .dataframe tbody tr th {\n",
       "        vertical-align: top;\n",
       "    }\n",
       "\n",
       "    .dataframe thead th {\n",
       "        text-align: right;\n",
       "    }\n",
       "</style>\n",
       "<table border=\"1\" class=\"dataframe\">\n",
       "  <thead>\n",
       "    <tr style=\"text-align: right;\">\n",
       "      <th></th>\n",
       "      <th>month_2014</th>\n",
       "      <th>rainfall_inches</th>\n",
       "    </tr>\n",
       "    <tr>\n",
       "      <th>obs_id</th>\n",
       "      <th></th>\n",
       "      <th></th>\n",
       "    </tr>\n",
       "  </thead>\n",
       "  <tbody>\n",
       "    <tr>\n",
       "      <th>0</th>\n",
       "      <td>jan</td>\n",
       "      <td>5.3</td>\n",
       "    </tr>\n",
       "    <tr>\n",
       "      <th>1</th>\n",
       "      <td>feb</td>\n",
       "      <td>5.4</td>\n",
       "    </tr>\n",
       "    <tr>\n",
       "      <th>2</th>\n",
       "      <td>mar</td>\n",
       "      <td>4.8</td>\n",
       "    </tr>\n",
       "    <tr>\n",
       "      <th>3</th>\n",
       "      <td>apr</td>\n",
       "      <td>4.7</td>\n",
       "    </tr>\n",
       "    <tr>\n",
       "      <th>4</th>\n",
       "      <td>may</td>\n",
       "      <td>3.3</td>\n",
       "    </tr>\n",
       "  </tbody>\n",
       "</table>\n",
       "</div>"
      ],
      "text/plain": [
       "       month_2014  rainfall_inches\n",
       "obs_id                            \n",
       "0             jan              5.3\n",
       "1             feb              5.4\n",
       "2             mar              4.8\n",
       "3             apr              4.7\n",
       "4             may              3.3"
      ]
     },
     "execution_count": 151,
     "metadata": {},
     "output_type": "execute_result"
    }
   ],
   "source": [
    "df.index.name = 'obs_id'\n",
    "df.head()"
   ]
  },
  {
   "cell_type": "markdown",
   "metadata": {
    "slideshow": {
     "slide_type": "slide"
    }
   },
   "source": [
    "#### 2.5.3.2 Boolean Indexing\n",
    "\n",
    "You can easily filter rows of a dataframe by applying one or more boolean expressions to values in one or more columns. Below we filter `df` to select only months with less than 4 inches of rainfall.  "
   ]
  },
  {
   "cell_type": "code",
   "execution_count": 152,
   "metadata": {
    "scrolled": true,
    "slideshow": {
     "slide_type": "fragment"
    }
   },
   "outputs": [
    {
     "data": {
      "text/html": [
       "<div>\n",
       "<style scoped>\n",
       "    .dataframe tbody tr th:only-of-type {\n",
       "        vertical-align: middle;\n",
       "    }\n",
       "\n",
       "    .dataframe tbody tr th {\n",
       "        vertical-align: top;\n",
       "    }\n",
       "\n",
       "    .dataframe thead th {\n",
       "        text-align: right;\n",
       "    }\n",
       "</style>\n",
       "<table border=\"1\" class=\"dataframe\">\n",
       "  <thead>\n",
       "    <tr style=\"text-align: right;\">\n",
       "      <th></th>\n",
       "      <th>month_2014</th>\n",
       "      <th>rainfall_inches</th>\n",
       "    </tr>\n",
       "    <tr>\n",
       "      <th>obs_id</th>\n",
       "      <th></th>\n",
       "      <th></th>\n",
       "    </tr>\n",
       "  </thead>\n",
       "  <tbody>\n",
       "    <tr>\n",
       "      <th>4</th>\n",
       "      <td>may</td>\n",
       "      <td>3.3</td>\n",
       "    </tr>\n",
       "    <tr>\n",
       "      <th>5</th>\n",
       "      <td>jun</td>\n",
       "      <td>1.2</td>\n",
       "    </tr>\n",
       "    <tr>\n",
       "      <th>6</th>\n",
       "      <td>jul</td>\n",
       "      <td>0.8</td>\n",
       "    </tr>\n",
       "    <tr>\n",
       "      <th>7</th>\n",
       "      <td>aug</td>\n",
       "      <td>0.7</td>\n",
       "    </tr>\n",
       "    <tr>\n",
       "      <th>9</th>\n",
       "      <td>oct</td>\n",
       "      <td>3.9</td>\n",
       "    </tr>\n",
       "  </tbody>\n",
       "</table>\n",
       "</div>"
      ],
      "text/plain": [
       "       month_2014  rainfall_inches\n",
       "obs_id                            \n",
       "4             may              3.3\n",
       "5             jun              1.2\n",
       "6             jul              0.8\n",
       "7             aug              0.7\n",
       "9             oct              3.9"
      ]
     },
     "execution_count": 152,
     "metadata": {},
     "output_type": "execute_result"
    }
   ],
   "source": [
    "df[df['rainfall_inches'] < 4]"
   ]
  },
  {
   "cell_type": "markdown",
   "metadata": {
    "slideshow": {
     "slide_type": "fragment"
    }
   },
   "source": [
    "Notice the nested use of df.  What happens if you don't do that?"
   ]
  },
  {
   "cell_type": "code",
   "execution_count": 153,
   "metadata": {
    "scrolled": false,
    "slideshow": {
     "slide_type": "fragment"
    }
   },
   "outputs": [
    {
     "data": {
      "text/plain": [
       "obs_id\n",
       "0     False\n",
       "1     False\n",
       "2     False\n",
       "3     False\n",
       "4      True\n",
       "5      True\n",
       "6      True\n",
       "7      True\n",
       "8     False\n",
       "9      True\n",
       "10    False\n",
       "11    False\n",
       "Name: rainfall_inches, dtype: bool"
      ]
     },
     "execution_count": 153,
     "metadata": {},
     "output_type": "execute_result"
    }
   ],
   "source": [
    "mask = df['rainfall_inches'] < 4"
   ]
  },
  {
   "cell_type": "code",
   "execution_count": null,
   "id": "0c8eeba6",
   "metadata": {},
   "outputs": [],
   "source": [
    "df[mask]"
   ]
  },
  {
   "cell_type": "markdown",
   "metadata": {
    "slideshow": {
     "slide_type": "slide"
    }
   },
   "source": [
    "You can also select rows based on the values of more than one column.  Just remember to nest the individual conditions within parentheses:"
   ]
  },
  {
   "cell_type": "code",
   "execution_count": 154,
   "metadata": {
    "slideshow": {
     "slide_type": "fragment"
    }
   },
   "outputs": [
    {
     "data": {
      "text/html": [
       "<div>\n",
       "<style scoped>\n",
       "    .dataframe tbody tr th:only-of-type {\n",
       "        vertical-align: middle;\n",
       "    }\n",
       "\n",
       "    .dataframe tbody tr th {\n",
       "        vertical-align: top;\n",
       "    }\n",
       "\n",
       "    .dataframe thead th {\n",
       "        text-align: right;\n",
       "    }\n",
       "</style>\n",
       "<table border=\"1\" class=\"dataframe\">\n",
       "  <thead>\n",
       "    <tr style=\"text-align: right;\">\n",
       "      <th></th>\n",
       "      <th>month_2014</th>\n",
       "      <th>rainfall_inches</th>\n",
       "    </tr>\n",
       "    <tr>\n",
       "      <th>obs_id</th>\n",
       "      <th></th>\n",
       "      <th></th>\n",
       "    </tr>\n",
       "  </thead>\n",
       "  <tbody>\n",
       "    <tr>\n",
       "      <th>0</th>\n",
       "      <td>jan</td>\n",
       "      <td>5.3</td>\n",
       "    </tr>\n",
       "  </tbody>\n",
       "</table>\n",
       "</div>"
      ],
      "text/plain": [
       "       month_2014  rainfall_inches\n",
       "obs_id                            \n",
       "0             jan              5.3"
      ]
     },
     "execution_count": 154,
     "metadata": {},
     "output_type": "execute_result"
    }
   ],
   "source": [
    "df[(df['month_2014'] == 'jan') & (df['rainfall_inches'] > 5)]"
   ]
  },
  {
   "cell_type": "markdown",
   "metadata": {
    "slideshow": {
     "slide_type": "fragment"
    }
   },
   "source": [
    "pandas lets us get pretty fancy with our boolean expressions to extract exactly the data we want from our table.\n",
    "\n",
    "For example, we can filter based on string matching:"
   ]
  },
  {
   "cell_type": "code",
   "execution_count": 155,
   "metadata": {
    "scrolled": true,
    "slideshow": {
     "slide_type": "fragment"
    }
   },
   "outputs": [
    {
     "data": {
      "text/html": [
       "<div>\n",
       "<style scoped>\n",
       "    .dataframe tbody tr th:only-of-type {\n",
       "        vertical-align: middle;\n",
       "    }\n",
       "\n",
       "    .dataframe tbody tr th {\n",
       "        vertical-align: top;\n",
       "    }\n",
       "\n",
       "    .dataframe thead th {\n",
       "        text-align: right;\n",
       "    }\n",
       "</style>\n",
       "<table border=\"1\" class=\"dataframe\">\n",
       "  <thead>\n",
       "    <tr style=\"text-align: right;\">\n",
       "      <th></th>\n",
       "      <th>month_2014</th>\n",
       "      <th>rainfall_inches</th>\n",
       "    </tr>\n",
       "    <tr>\n",
       "      <th>obs_id</th>\n",
       "      <th></th>\n",
       "      <th></th>\n",
       "    </tr>\n",
       "  </thead>\n",
       "  <tbody>\n",
       "    <tr>\n",
       "      <th>0</th>\n",
       "      <td>jan</td>\n",
       "      <td>5.3</td>\n",
       "    </tr>\n",
       "    <tr>\n",
       "      <th>5</th>\n",
       "      <td>jun</td>\n",
       "      <td>1.2</td>\n",
       "    </tr>\n",
       "    <tr>\n",
       "      <th>6</th>\n",
       "      <td>jul</td>\n",
       "      <td>0.8</td>\n",
       "    </tr>\n",
       "  </tbody>\n",
       "</table>\n",
       "</div>"
      ],
      "text/plain": [
       "       month_2014  rainfall_inches\n",
       "obs_id                            \n",
       "0             jan              5.3\n",
       "5             jun              1.2\n",
       "6             jul              0.8"
      ]
     },
     "execution_count": 155,
     "metadata": {},
     "output_type": "execute_result"
    }
   ],
   "source": [
    "df[df['month_2014'].str.contains('j')]  # more on this later"
   ]
  },
  {
   "cell_type": "markdown",
   "metadata": {
    "slideshow": {
     "slide_type": "slide"
    }
   },
   "source": [
    "We can filter out missing data:"
   ]
  },
  {
   "cell_type": "code",
   "execution_count": 156,
   "metadata": {
    "scrolled": false,
    "slideshow": {
     "slide_type": "fragment"
    }
   },
   "outputs": [
    {
     "data": {
      "text/html": [
       "<div>\n",
       "<style scoped>\n",
       "    .dataframe tbody tr th:only-of-type {\n",
       "        vertical-align: middle;\n",
       "    }\n",
       "\n",
       "    .dataframe tbody tr th {\n",
       "        vertical-align: top;\n",
       "    }\n",
       "\n",
       "    .dataframe thead th {\n",
       "        text-align: right;\n",
       "    }\n",
       "</style>\n",
       "<table border=\"1\" class=\"dataframe\">\n",
       "  <thead>\n",
       "    <tr style=\"text-align: right;\">\n",
       "      <th></th>\n",
       "      <th>month_2014</th>\n",
       "      <th>rainfall_inches</th>\n",
       "    </tr>\n",
       "    <tr>\n",
       "      <th>obs_id</th>\n",
       "      <th></th>\n",
       "      <th></th>\n",
       "    </tr>\n",
       "  </thead>\n",
       "  <tbody>\n",
       "    <tr>\n",
       "      <th>0</th>\n",
       "      <td>jan</td>\n",
       "      <td>5.3</td>\n",
       "    </tr>\n",
       "    <tr>\n",
       "      <th>1</th>\n",
       "      <td>feb</td>\n",
       "      <td>5.4</td>\n",
       "    </tr>\n",
       "    <tr>\n",
       "      <th>2</th>\n",
       "      <td>mar</td>\n",
       "      <td>4.8</td>\n",
       "    </tr>\n",
       "    <tr>\n",
       "      <th>3</th>\n",
       "      <td>apr</td>\n",
       "      <td>4.7</td>\n",
       "    </tr>\n",
       "    <tr>\n",
       "      <th>4</th>\n",
       "      <td>may</td>\n",
       "      <td>3.3</td>\n",
       "    </tr>\n",
       "    <tr>\n",
       "      <th>5</th>\n",
       "      <td>jun</td>\n",
       "      <td>1.2</td>\n",
       "    </tr>\n",
       "    <tr>\n",
       "      <th>6</th>\n",
       "      <td>jul</td>\n",
       "      <td>0.8</td>\n",
       "    </tr>\n",
       "    <tr>\n",
       "      <th>7</th>\n",
       "      <td>aug</td>\n",
       "      <td>0.7</td>\n",
       "    </tr>\n",
       "    <tr>\n",
       "      <th>9</th>\n",
       "      <td>oct</td>\n",
       "      <td>3.9</td>\n",
       "    </tr>\n",
       "    <tr>\n",
       "      <th>10</th>\n",
       "      <td>nov</td>\n",
       "      <td>4.5</td>\n",
       "    </tr>\n",
       "    <tr>\n",
       "      <th>11</th>\n",
       "      <td>dec</td>\n",
       "      <td>5.9</td>\n",
       "    </tr>\n",
       "  </tbody>\n",
       "</table>\n",
       "</div>"
      ],
      "text/plain": [
       "       month_2014  rainfall_inches\n",
       "obs_id                            \n",
       "0             jan              5.3\n",
       "1             feb              5.4\n",
       "2             mar              4.8\n",
       "3             apr              4.7\n",
       "4             may              3.3\n",
       "5             jun              1.2\n",
       "6             jul              0.8\n",
       "7             aug              0.7\n",
       "9             oct              3.9\n",
       "10            nov              4.5\n",
       "11            dec              5.9"
      ]
     },
     "execution_count": 156,
     "metadata": {},
     "output_type": "execute_result"
    }
   ],
   "source": [
    "df[df['rainfall_inches'].notnull()]"
   ]
  },
  {
   "cell_type": "markdown",
   "metadata": {
    "slideshow": {
     "slide_type": "fragment"
    }
   },
   "source": [
    "Or do the opposite:"
   ]
  },
  {
   "cell_type": "code",
<<<<<<< HEAD
   "execution_count": 157,
=======
   "execution_count": null,
   "id": "989da172",
   "metadata": {},
   "outputs": [],
   "source": [
    "df = df.reset_index()\n",
    "df[df['obs_id'].isin([5,6,7])]"
   ]
  },
  {
   "cell_type": "code",
   "execution_count": null,
   "id": "ec768ae1",
>>>>>>> b29ccfe24745ae7d4ee025057dc4dd640781773b
   "metadata": {
    "slideshow": {
     "slide_type": "fragment"
    }
   },
   "outputs": [
    {
     "data": {
      "text/html": [
       "<div>\n",
       "<style scoped>\n",
       "    .dataframe tbody tr th:only-of-type {\n",
       "        vertical-align: middle;\n",
       "    }\n",
       "\n",
       "    .dataframe tbody tr th {\n",
       "        vertical-align: top;\n",
       "    }\n",
       "\n",
       "    .dataframe thead th {\n",
       "        text-align: right;\n",
       "    }\n",
       "</style>\n",
       "<table border=\"1\" class=\"dataframe\">\n",
       "  <thead>\n",
       "    <tr style=\"text-align: right;\">\n",
       "      <th></th>\n",
       "      <th>month_2014</th>\n",
       "      <th>rainfall_inches</th>\n",
       "    </tr>\n",
       "    <tr>\n",
       "      <th>obs_id</th>\n",
       "      <th></th>\n",
       "      <th></th>\n",
       "    </tr>\n",
       "  </thead>\n",
       "  <tbody>\n",
       "    <tr>\n",
       "      <th>8</th>\n",
       "      <td>sep</td>\n",
       "      <td>NaN</td>\n",
       "    </tr>\n",
       "  </tbody>\n",
       "</table>\n",
       "</div>"
      ],
      "text/plain": [
       "       month_2014  rainfall_inches\n",
       "obs_id                            \n",
       "8             sep              NaN"
      ]
     },
     "execution_count": 157,
     "metadata": {},
     "output_type": "execute_result"
    }
   ],
   "source": [
    "df[df['rainfall_inches'].isnull()]"
   ]
  },
  {
   "cell_type": "markdown",
   "metadata": {
    "slideshow": {
     "slide_type": "slide"
    }
   },
   "source": [
    "Let's say we know that the value for \"sep\" should be 2.5. We can use `loc` to perform assignment in pandas:"
   ]
  },
  {
   "cell_type": "code",
   "execution_count": 158,
   "metadata": {
    "slideshow": {
     "slide_type": "fragment"
    }
   },
   "outputs": [
    {
     "data": {
      "text/html": [
       "<div>\n",
       "<style scoped>\n",
       "    .dataframe tbody tr th:only-of-type {\n",
       "        vertical-align: middle;\n",
       "    }\n",
       "\n",
       "    .dataframe tbody tr th {\n",
       "        vertical-align: top;\n",
       "    }\n",
       "\n",
       "    .dataframe thead th {\n",
       "        text-align: right;\n",
       "    }\n",
       "</style>\n",
       "<table border=\"1\" class=\"dataframe\">\n",
       "  <thead>\n",
       "    <tr style=\"text-align: right;\">\n",
       "      <th></th>\n",
       "      <th>month_2014</th>\n",
       "      <th>rainfall_inches</th>\n",
       "    </tr>\n",
       "    <tr>\n",
       "      <th>obs_id</th>\n",
       "      <th></th>\n",
       "      <th></th>\n",
       "    </tr>\n",
       "  </thead>\n",
       "  <tbody>\n",
       "  </tbody>\n",
       "</table>\n",
       "</div>"
      ],
      "text/plain": [
       "Empty DataFrame\n",
       "Columns: [month_2014, rainfall_inches]\n",
       "Index: []"
      ]
     },
     "execution_count": 158,
     "metadata": {},
     "output_type": "execute_result"
    }
   ],
   "source": [
    "df.loc[df['month_2014'] == 'sep', 'rainfall_inches'] = 2.5  # boolean row-index + label-based col index\n",
    "df[df['rainfall_inches'].isnull()]"
   ]
  },
  {
   "cell_type": "markdown",
   "metadata": {
    "slideshow": {
     "slide_type": "fragment"
    }
   },
   "source": [
    "If we want to preserve this change, we can save the DataFrame to to disk as a new .csv:"
   ]
  },
  {
   "cell_type": "code",
   "execution_count": 159,
   "metadata": {
    "slideshow": {
     "slide_type": "fragment"
    }
   },
   "outputs": [],
   "source": [
    "df.to_csv('data/rain_updated.csv', index=False)"
   ]
  },
  {
   "cell_type": "markdown",
   "metadata": {
    "slideshow": {
     "slide_type": "slide"
    }
   },
   "source": [
    "### 2.5.4 String functions"
   ]
  },
  {
   "cell_type": "markdown",
   "metadata": {
    "slideshow": {
     "slide_type": "fragment"
    }
   },
   "source": [
    "We briefly saw an example of string matching above. pandas comes with a number of very powerful functions more operating on `str` type Series. Let's investigate them using some California Census data I've already prepared for you:"
   ]
  },
  {
   "cell_type": "code",
   "execution_count": 160,
   "metadata": {
    "slideshow": {
     "slide_type": "fragment"
    }
   },
   "outputs": [],
   "source": [
<<<<<<< HEAD
    "df_cleaned = pd.read_csv('data/ca_tracts_pop_cleaned.csv')"
=======
    "census_df = pd.read_csv('data/ca_tracts_pop_cleaned.csv')"
>>>>>>> b29ccfe24745ae7d4ee025057dc4dd640781773b
   ]
  },
  {
   "cell_type": "code",
   "execution_count": 161,
   "metadata": {
    "slideshow": {
     "slide_type": "fragment"
    }
   },
   "outputs": [
    {
     "data": {
      "text/html": [
       "<div>\n",
       "<style scoped>\n",
       "    .dataframe tbody tr th:only-of-type {\n",
       "        vertical-align: middle;\n",
       "    }\n",
       "\n",
       "    .dataframe tbody tr th {\n",
       "        vertical-align: top;\n",
       "    }\n",
       "\n",
       "    .dataframe thead th {\n",
       "        text-align: right;\n",
       "    }\n",
       "</style>\n",
       "<table border=\"1\" class=\"dataframe\">\n",
       "  <thead>\n",
       "    <tr style=\"text-align: right;\">\n",
       "      <th></th>\n",
       "      <th>POPGROUP</th>\n",
       "      <th>label</th>\n",
       "      <th>GEOIDLONG</th>\n",
       "      <th>GEOID</th>\n",
       "      <th>geodisplay</th>\n",
       "      <th>Population</th>\n",
       "    </tr>\n",
       "  </thead>\n",
       "  <tbody>\n",
       "    <tr>\n",
       "      <th>0</th>\n",
       "      <td>1</td>\n",
       "      <td>Total population</td>\n",
       "      <td>1400000US06001400100</td>\n",
       "      <td>6001400100</td>\n",
       "      <td>Census Tract 4001, Alameda County, California</td>\n",
       "      <td>2937</td>\n",
       "    </tr>\n",
       "    <tr>\n",
       "      <th>1</th>\n",
       "      <td>1</td>\n",
       "      <td>Total population</td>\n",
       "      <td>1400000US06001400200</td>\n",
       "      <td>6001400200</td>\n",
       "      <td>Census Tract 4002, Alameda County, California</td>\n",
       "      <td>1974</td>\n",
       "    </tr>\n",
       "    <tr>\n",
       "      <th>2</th>\n",
       "      <td>1</td>\n",
       "      <td>Total population</td>\n",
       "      <td>1400000US06001400300</td>\n",
       "      <td>6001400300</td>\n",
       "      <td>Census Tract 4003, Alameda County, California</td>\n",
       "      <td>4865</td>\n",
       "    </tr>\n",
       "    <tr>\n",
       "      <th>3</th>\n",
       "      <td>1</td>\n",
       "      <td>Total population</td>\n",
       "      <td>1400000US06001400400</td>\n",
       "      <td>6001400400</td>\n",
       "      <td>Census Tract 4004, Alameda County, California</td>\n",
       "      <td>3703</td>\n",
       "    </tr>\n",
       "    <tr>\n",
       "      <th>4</th>\n",
       "      <td>1</td>\n",
       "      <td>Total population</td>\n",
       "      <td>1400000US06001400500</td>\n",
       "      <td>6001400500</td>\n",
       "      <td>Census Tract 4005, Alameda County, California</td>\n",
       "      <td>3517</td>\n",
       "    </tr>\n",
       "  </tbody>\n",
       "</table>\n",
       "</div>"
      ],
      "text/plain": [
       "   POPGROUP             label             GEOIDLONG       GEOID  \\\n",
       "0         1  Total population  1400000US06001400100  6001400100   \n",
       "1         1  Total population  1400000US06001400200  6001400200   \n",
       "2         1  Total population  1400000US06001400300  6001400300   \n",
       "3         1  Total population  1400000US06001400400  6001400400   \n",
       "4         1  Total population  1400000US06001400500  6001400500   \n",
       "\n",
       "                                      geodisplay  Population  \n",
       "0  Census Tract 4001, Alameda County, California        2937  \n",
       "1  Census Tract 4002, Alameda County, California        1974  \n",
       "2  Census Tract 4003, Alameda County, California        4865  \n",
       "3  Census Tract 4004, Alameda County, California        3703  \n",
       "4  Census Tract 4005, Alameda County, California        3517  "
      ]
     },
     "execution_count": 161,
     "metadata": {},
     "output_type": "execute_result"
    }
   ],
   "source": [
<<<<<<< HEAD
    "df_cleaned.head()"
=======
    "census_df.head()"
>>>>>>> b29ccfe24745ae7d4ee025057dc4dd640781773b
   ]
  },
  {
   "cell_type": "markdown",
   "metadata": {
    "slideshow": {
     "slide_type": "slide"
    }
   },
   "source": [
    "Let's create a new column, called \"state\", and populate it by getting the last element in the \"geodisplay\" field. This is a very common type of data processing you might need to do on data you acquire for your own projects."
   ]
  },
  {
   "cell_type": "code",
   "execution_count": 162,
   "metadata": {
    "scrolled": false,
    "slideshow": {
     "slide_type": "fragment"
    }
   },
   "outputs": [
    {
     "data": {
      "text/html": [
       "<div>\n",
       "<style scoped>\n",
       "    .dataframe tbody tr th:only-of-type {\n",
       "        vertical-align: middle;\n",
       "    }\n",
       "\n",
       "    .dataframe tbody tr th {\n",
       "        vertical-align: top;\n",
       "    }\n",
       "\n",
       "    .dataframe thead th {\n",
       "        text-align: right;\n",
       "    }\n",
       "</style>\n",
       "<table border=\"1\" class=\"dataframe\">\n",
       "  <thead>\n",
       "    <tr style=\"text-align: right;\">\n",
       "      <th></th>\n",
       "      <th>POPGROUP</th>\n",
       "      <th>label</th>\n",
       "      <th>GEOIDLONG</th>\n",
       "      <th>GEOID</th>\n",
       "      <th>geodisplay</th>\n",
       "      <th>Population</th>\n",
       "      <th>state</th>\n",
       "    </tr>\n",
       "  </thead>\n",
       "  <tbody>\n",
       "    <tr>\n",
       "      <th>0</th>\n",
       "      <td>1</td>\n",
       "      <td>Total population</td>\n",
       "      <td>1400000US06001400100</td>\n",
       "      <td>6001400100</td>\n",
       "      <td>Census Tract 4001, Alameda County, California</td>\n",
       "      <td>2937</td>\n",
       "      <td>California</td>\n",
       "    </tr>\n",
       "    <tr>\n",
       "      <th>1</th>\n",
       "      <td>1</td>\n",
       "      <td>Total population</td>\n",
       "      <td>1400000US06001400200</td>\n",
       "      <td>6001400200</td>\n",
       "      <td>Census Tract 4002, Alameda County, California</td>\n",
       "      <td>1974</td>\n",
       "      <td>California</td>\n",
       "    </tr>\n",
       "    <tr>\n",
       "      <th>2</th>\n",
       "      <td>1</td>\n",
       "      <td>Total population</td>\n",
       "      <td>1400000US06001400300</td>\n",
       "      <td>6001400300</td>\n",
       "      <td>Census Tract 4003, Alameda County, California</td>\n",
       "      <td>4865</td>\n",
       "      <td>California</td>\n",
       "    </tr>\n",
       "    <tr>\n",
       "      <th>3</th>\n",
       "      <td>1</td>\n",
       "      <td>Total population</td>\n",
       "      <td>1400000US06001400400</td>\n",
       "      <td>6001400400</td>\n",
       "      <td>Census Tract 4004, Alameda County, California</td>\n",
       "      <td>3703</td>\n",
       "      <td>California</td>\n",
       "    </tr>\n",
       "    <tr>\n",
       "      <th>4</th>\n",
       "      <td>1</td>\n",
       "      <td>Total population</td>\n",
       "      <td>1400000US06001400500</td>\n",
       "      <td>6001400500</td>\n",
       "      <td>Census Tract 4005, Alameda County, California</td>\n",
       "      <td>3517</td>\n",
       "      <td>California</td>\n",
       "    </tr>\n",
       "  </tbody>\n",
       "</table>\n",
       "</div>"
      ],
      "text/plain": [
       "   POPGROUP             label             GEOIDLONG       GEOID  \\\n",
       "0         1  Total population  1400000US06001400100  6001400100   \n",
       "1         1  Total population  1400000US06001400200  6001400200   \n",
       "2         1  Total population  1400000US06001400300  6001400300   \n",
       "3         1  Total population  1400000US06001400400  6001400400   \n",
       "4         1  Total population  1400000US06001400500  6001400500   \n",
       "\n",
       "                                      geodisplay  Population        state  \n",
       "0  Census Tract 4001, Alameda County, California        2937   California  \n",
       "1  Census Tract 4002, Alameda County, California        1974   California  \n",
       "2  Census Tract 4003, Alameda County, California        4865   California  \n",
       "3  Census Tract 4004, Alameda County, California        3703   California  \n",
       "4  Census Tract 4005, Alameda County, California        3517   California  "
      ]
     },
     "execution_count": 162,
     "metadata": {},
     "output_type": "execute_result"
    }
   ],
   "source": [
<<<<<<< HEAD
    "df_cleaned['state'] = df_cleaned['geodisplay'].str.split(',').str[2]\n",
    "df_cleaned.head()"
=======
    "census_df['state'] = census_df['geodisplay'].str.split(',').str[2]\n",
    "census_df.head()"
>>>>>>> b29ccfe24745ae7d4ee025057dc4dd640781773b
   ]
  },
  {
   "cell_type": "markdown",
   "metadata": {
    "slideshow": {
     "slide_type": "slide"
    }
   },
   "source": [
    "We use the same approach to add a 'county' column to our dataframe, pulling the values from the geodisplay column."
   ]
  },
  {
   "cell_type": "code",
   "execution_count": 163,
   "metadata": {
    "scrolled": true,
    "slideshow": {
     "slide_type": "fragment"
    }
   },
   "outputs": [
    {
     "data": {
      "text/html": [
       "<div>\n",
       "<style scoped>\n",
       "    .dataframe tbody tr th:only-of-type {\n",
       "        vertical-align: middle;\n",
       "    }\n",
       "\n",
       "    .dataframe tbody tr th {\n",
       "        vertical-align: top;\n",
       "    }\n",
       "\n",
       "    .dataframe thead th {\n",
       "        text-align: right;\n",
       "    }\n",
       "</style>\n",
       "<table border=\"1\" class=\"dataframe\">\n",
       "  <thead>\n",
       "    <tr style=\"text-align: right;\">\n",
       "      <th></th>\n",
       "      <th>POPGROUP</th>\n",
       "      <th>label</th>\n",
       "      <th>GEOIDLONG</th>\n",
       "      <th>GEOID</th>\n",
       "      <th>geodisplay</th>\n",
       "      <th>Population</th>\n",
       "      <th>state</th>\n",
       "      <th>county</th>\n",
       "    </tr>\n",
       "  </thead>\n",
       "  <tbody>\n",
       "    <tr>\n",
       "      <th>0</th>\n",
       "      <td>1</td>\n",
       "      <td>Total population</td>\n",
       "      <td>1400000US06001400100</td>\n",
       "      <td>6001400100</td>\n",
       "      <td>Census Tract 4001, Alameda County, California</td>\n",
       "      <td>2937</td>\n",
       "      <td>California</td>\n",
       "      <td>Alameda</td>\n",
       "    </tr>\n",
       "    <tr>\n",
       "      <th>1</th>\n",
       "      <td>1</td>\n",
       "      <td>Total population</td>\n",
       "      <td>1400000US06001400200</td>\n",
       "      <td>6001400200</td>\n",
       "      <td>Census Tract 4002, Alameda County, California</td>\n",
       "      <td>1974</td>\n",
       "      <td>California</td>\n",
       "      <td>Alameda</td>\n",
       "    </tr>\n",
       "    <tr>\n",
       "      <th>2</th>\n",
       "      <td>1</td>\n",
       "      <td>Total population</td>\n",
       "      <td>1400000US06001400300</td>\n",
       "      <td>6001400300</td>\n",
       "      <td>Census Tract 4003, Alameda County, California</td>\n",
       "      <td>4865</td>\n",
       "      <td>California</td>\n",
       "      <td>Alameda</td>\n",
       "    </tr>\n",
       "    <tr>\n",
       "      <th>3</th>\n",
       "      <td>1</td>\n",
       "      <td>Total population</td>\n",
       "      <td>1400000US06001400400</td>\n",
       "      <td>6001400400</td>\n",
       "      <td>Census Tract 4004, Alameda County, California</td>\n",
       "      <td>3703</td>\n",
       "      <td>California</td>\n",
       "      <td>Alameda</td>\n",
       "    </tr>\n",
       "    <tr>\n",
       "      <th>4</th>\n",
       "      <td>1</td>\n",
       "      <td>Total population</td>\n",
       "      <td>1400000US06001400500</td>\n",
       "      <td>6001400500</td>\n",
       "      <td>Census Tract 4005, Alameda County, California</td>\n",
       "      <td>3517</td>\n",
       "      <td>California</td>\n",
       "      <td>Alameda</td>\n",
       "    </tr>\n",
       "  </tbody>\n",
       "</table>\n",
       "</div>"
      ],
      "text/plain": [
       "   POPGROUP             label             GEOIDLONG       GEOID  \\\n",
       "0         1  Total population  1400000US06001400100  6001400100   \n",
       "1         1  Total population  1400000US06001400200  6001400200   \n",
       "2         1  Total population  1400000US06001400300  6001400300   \n",
       "3         1  Total population  1400000US06001400400  6001400400   \n",
       "4         1  Total population  1400000US06001400500  6001400500   \n",
       "\n",
       "                                      geodisplay  Population        state  \\\n",
       "0  Census Tract 4001, Alameda County, California        2937   California   \n",
       "1  Census Tract 4002, Alameda County, California        1974   California   \n",
       "2  Census Tract 4003, Alameda County, California        4865   California   \n",
       "3  Census Tract 4004, Alameda County, California        3703   California   \n",
       "4  Census Tract 4005, Alameda County, California        3517   California   \n",
       "\n",
       "     county  \n",
       "0   Alameda  \n",
       "1   Alameda  \n",
       "2   Alameda  \n",
       "3   Alameda  \n",
       "4   Alameda  "
      ]
     },
     "execution_count": 163,
     "metadata": {},
     "output_type": "execute_result"
    }
   ],
   "source": [
<<<<<<< HEAD
    "df_cleaned['county'] = df_cleaned['geodisplay'].str.split(',').str[1].str.replace(' County', '')\n",
    "df_cleaned.head()"
=======
    "census_df['county'] = census_df['geodisplay'].str.split(',').str[1].str.replace(' County', '')\n",
    "census_df.head()"
>>>>>>> b29ccfe24745ae7d4ee025057dc4dd640781773b
   ]
  },
  {
   "cell_type": "markdown",
   "metadata": {
    "slideshow": {
     "slide_type": "fragment"
    }
   },
   "source": [
    "Now let's see what the full list of unique county names is..."
   ]
  },
  {
   "cell_type": "code",
   "execution_count": 164,
   "metadata": {
    "slideshow": {
     "slide_type": "fragment"
    }
   },
   "outputs": [
    {
     "data": {
      "text/plain": [
       "array([' Alameda', ' Alpine', ' Amador', ' Butte', ' Calaveras',\n",
       "       ' Colusa', ' Contra Costa', ' Del Norte', ' El Dorado', ' Fresno',\n",
       "       ' Glenn', ' Humboldt', ' Imperial', ' Inyo', ' Kern', ' Kings',\n",
       "       ' Lake', ' Lassen', ' Los Angeles', ' Madera', ' Marin',\n",
       "       ' Mariposa', ' Mendocino', ' Merced', ' Modoc', ' Mono',\n",
       "       ' Monterey', ' Napa', ' Nevada', ' Orange', ' Placer', ' Plumas',\n",
       "       ' Riverside', ' Sacramento', ' San Benito', ' San Bernardino',\n",
       "       ' San Diego', ' San Francisco', ' San Joaquin', ' San Luis Obispo',\n",
       "       ' San Mateo', ' Santa Barbara', ' Santa Clara', ' Santa Cruz',\n",
       "       ' Shasta', ' Sierra', ' Siskiyou', ' Solano', ' Sonoma',\n",
       "       ' Stanislaus', ' Sutter', ' Tehama', ' Trinity', ' Tulare',\n",
       "       ' Tuolumne', ' Ventura', ' Yolo', ' Yuba'], dtype=object)"
      ]
     },
     "execution_count": 164,
     "metadata": {},
     "output_type": "execute_result"
    }
   ],
   "source": [
<<<<<<< HEAD
    "df_cleaned['county'].unique()"
=======
    "census_df['county'].unique()"
>>>>>>> b29ccfe24745ae7d4ee025057dc4dd640781773b
   ]
  },
  {
   "cell_type": "markdown",
   "metadata": {
    "slideshow": {
     "slide_type": "slide"
    }
   },
   "source": [
    "Now let's create a census tract column."
   ]
  },
  {
   "cell_type": "code",
   "execution_count": 165,
   "metadata": {
    "scrolled": false,
    "slideshow": {
     "slide_type": "fragment"
    }
   },
   "outputs": [
    {
     "data": {
      "text/html": [
       "<div>\n",
       "<style scoped>\n",
       "    .dataframe tbody tr th:only-of-type {\n",
       "        vertical-align: middle;\n",
       "    }\n",
       "\n",
       "    .dataframe tbody tr th {\n",
       "        vertical-align: top;\n",
       "    }\n",
       "\n",
       "    .dataframe thead th {\n",
       "        text-align: right;\n",
       "    }\n",
       "</style>\n",
       "<table border=\"1\" class=\"dataframe\">\n",
       "  <thead>\n",
       "    <tr style=\"text-align: right;\">\n",
       "      <th></th>\n",
       "      <th>POPGROUP</th>\n",
       "      <th>label</th>\n",
       "      <th>GEOIDLONG</th>\n",
       "      <th>GEOID</th>\n",
       "      <th>geodisplay</th>\n",
       "      <th>Population</th>\n",
       "      <th>state</th>\n",
       "      <th>county</th>\n",
       "      <th>Tract</th>\n",
       "    </tr>\n",
       "  </thead>\n",
       "  <tbody>\n",
       "    <tr>\n",
       "      <th>0</th>\n",
       "      <td>1</td>\n",
       "      <td>Total population</td>\n",
       "      <td>1400000US06001400100</td>\n",
       "      <td>6001400100</td>\n",
       "      <td>Census Tract 4001, Alameda County, California</td>\n",
       "      <td>2937</td>\n",
       "      <td>California</td>\n",
       "      <td>Alameda</td>\n",
       "      <td>4001</td>\n",
       "    </tr>\n",
       "    <tr>\n",
       "      <th>1</th>\n",
       "      <td>1</td>\n",
       "      <td>Total population</td>\n",
       "      <td>1400000US06001400200</td>\n",
       "      <td>6001400200</td>\n",
       "      <td>Census Tract 4002, Alameda County, California</td>\n",
       "      <td>1974</td>\n",
       "      <td>California</td>\n",
       "      <td>Alameda</td>\n",
       "      <td>4002</td>\n",
       "    </tr>\n",
       "    <tr>\n",
       "      <th>2</th>\n",
       "      <td>1</td>\n",
       "      <td>Total population</td>\n",
       "      <td>1400000US06001400300</td>\n",
       "      <td>6001400300</td>\n",
       "      <td>Census Tract 4003, Alameda County, California</td>\n",
       "      <td>4865</td>\n",
       "      <td>California</td>\n",
       "      <td>Alameda</td>\n",
       "      <td>4003</td>\n",
       "    </tr>\n",
       "    <tr>\n",
       "      <th>3</th>\n",
       "      <td>1</td>\n",
       "      <td>Total population</td>\n",
       "      <td>1400000US06001400400</td>\n",
       "      <td>6001400400</td>\n",
       "      <td>Census Tract 4004, Alameda County, California</td>\n",
       "      <td>3703</td>\n",
       "      <td>California</td>\n",
       "      <td>Alameda</td>\n",
       "      <td>4004</td>\n",
       "    </tr>\n",
       "    <tr>\n",
       "      <th>4</th>\n",
       "      <td>1</td>\n",
       "      <td>Total population</td>\n",
       "      <td>1400000US06001400500</td>\n",
       "      <td>6001400500</td>\n",
       "      <td>Census Tract 4005, Alameda County, California</td>\n",
       "      <td>3517</td>\n",
       "      <td>California</td>\n",
       "      <td>Alameda</td>\n",
       "      <td>4005</td>\n",
       "    </tr>\n",
       "  </tbody>\n",
       "</table>\n",
       "</div>"
      ],
      "text/plain": [
       "   POPGROUP             label             GEOIDLONG       GEOID  \\\n",
       "0         1  Total population  1400000US06001400100  6001400100   \n",
       "1         1  Total population  1400000US06001400200  6001400200   \n",
       "2         1  Total population  1400000US06001400300  6001400300   \n",
       "3         1  Total population  1400000US06001400400  6001400400   \n",
       "4         1  Total population  1400000US06001400500  6001400500   \n",
       "\n",
       "                                      geodisplay  Population        state  \\\n",
       "0  Census Tract 4001, Alameda County, California        2937   California   \n",
       "1  Census Tract 4002, Alameda County, California        1974   California   \n",
       "2  Census Tract 4003, Alameda County, California        4865   California   \n",
       "3  Census Tract 4004, Alameda County, California        3703   California   \n",
       "4  Census Tract 4005, Alameda County, California        3517   California   \n",
       "\n",
       "     county Tract  \n",
       "0   Alameda  4001  \n",
       "1   Alameda  4002  \n",
       "2   Alameda  4003  \n",
       "3   Alameda  4004  \n",
       "4   Alameda  4005  "
      ]
     },
     "execution_count": 165,
     "metadata": {},
     "output_type": "execute_result"
    }
   ],
   "source": [
<<<<<<< HEAD
    "df_cleaned['Tract'] = df_cleaned['geodisplay'].str.split(',').str[0].str.split().str[2]\n",
    "df_cleaned.head()"
=======
    "census_df['Tract'] = census_df['geodisplay'].str.split(',').str[0].str.split().str[2]\n",
    "census_df.head()"
>>>>>>> b29ccfe24745ae7d4ee025057dc4dd640781773b
   ]
  },
  {
   "cell_type": "markdown",
   "metadata": {
    "slideshow": {
     "slide_type": "slide"
    }
   },
   "source": [
    "Could you have extracted the Tract number from the \"GEOIDLONG\" column instead?"
   ]
  },
  {
   "cell_type": "code",
   "execution_count": 167,
   "metadata": {
    "scrolled": true,
    "slideshow": {
     "slide_type": "fragment"
    }
   },
   "outputs": [
    {
     "data": {
      "text/html": [
       "<div>\n",
       "<style scoped>\n",
       "    .dataframe tbody tr th:only-of-type {\n",
       "        vertical-align: middle;\n",
       "    }\n",
       "\n",
       "    .dataframe tbody tr th {\n",
       "        vertical-align: top;\n",
       "    }\n",
       "\n",
       "    .dataframe thead th {\n",
       "        text-align: right;\n",
       "    }\n",
       "</style>\n",
       "<table border=\"1\" class=\"dataframe\">\n",
       "  <thead>\n",
       "    <tr style=\"text-align: right;\">\n",
       "      <th></th>\n",
       "      <th>POPGROUP</th>\n",
       "      <th>label</th>\n",
       "      <th>GEOIDLONG</th>\n",
       "      <th>GEOID</th>\n",
       "      <th>geodisplay</th>\n",
       "      <th>Population</th>\n",
       "      <th>state</th>\n",
       "      <th>county</th>\n",
       "      <th>Tract</th>\n",
       "    </tr>\n",
       "  </thead>\n",
       "  <tbody>\n",
       "    <tr>\n",
       "      <th>0</th>\n",
       "      <td>1</td>\n",
       "      <td>Total population</td>\n",
       "      <td>1400000US06001400100</td>\n",
       "      <td>6001400100</td>\n",
       "      <td>Census Tract 4001, Alameda County, California</td>\n",
       "      <td>2937</td>\n",
       "      <td>California</td>\n",
       "      <td>Alameda</td>\n",
       "      <td>4001.00</td>\n",
       "    </tr>\n",
       "    <tr>\n",
       "      <th>1</th>\n",
       "      <td>1</td>\n",
       "      <td>Total population</td>\n",
       "      <td>1400000US06001400200</td>\n",
       "      <td>6001400200</td>\n",
       "      <td>Census Tract 4002, Alameda County, California</td>\n",
       "      <td>1974</td>\n",
       "      <td>California</td>\n",
       "      <td>Alameda</td>\n",
       "      <td>4002.00</td>\n",
       "    </tr>\n",
       "    <tr>\n",
       "      <th>2</th>\n",
       "      <td>1</td>\n",
       "      <td>Total population</td>\n",
       "      <td>1400000US06001400300</td>\n",
       "      <td>6001400300</td>\n",
       "      <td>Census Tract 4003, Alameda County, California</td>\n",
       "      <td>4865</td>\n",
       "      <td>California</td>\n",
       "      <td>Alameda</td>\n",
       "      <td>4003.00</td>\n",
       "    </tr>\n",
       "    <tr>\n",
       "      <th>3</th>\n",
       "      <td>1</td>\n",
       "      <td>Total population</td>\n",
       "      <td>1400000US06001400400</td>\n",
       "      <td>6001400400</td>\n",
       "      <td>Census Tract 4004, Alameda County, California</td>\n",
       "      <td>3703</td>\n",
       "      <td>California</td>\n",
       "      <td>Alameda</td>\n",
       "      <td>4004.00</td>\n",
       "    </tr>\n",
       "    <tr>\n",
       "      <th>4</th>\n",
       "      <td>1</td>\n",
       "      <td>Total population</td>\n",
       "      <td>1400000US06001400500</td>\n",
       "      <td>6001400500</td>\n",
       "      <td>Census Tract 4005, Alameda County, California</td>\n",
       "      <td>3517</td>\n",
       "      <td>California</td>\n",
       "      <td>Alameda</td>\n",
       "      <td>4005.00</td>\n",
       "    </tr>\n",
       "  </tbody>\n",
       "</table>\n",
       "</div>"
      ],
      "text/plain": [
       "   POPGROUP             label             GEOIDLONG       GEOID  \\\n",
       "0         1  Total population  1400000US06001400100  6001400100   \n",
       "1         1  Total population  1400000US06001400200  6001400200   \n",
       "2         1  Total population  1400000US06001400300  6001400300   \n",
       "3         1  Total population  1400000US06001400400  6001400400   \n",
       "4         1  Total population  1400000US06001400500  6001400500   \n",
       "\n",
       "                                      geodisplay  Population        state  \\\n",
       "0  Census Tract 4001, Alameda County, California        2937   California   \n",
       "1  Census Tract 4002, Alameda County, California        1974   California   \n",
       "2  Census Tract 4003, Alameda County, California        4865   California   \n",
       "3  Census Tract 4004, Alameda County, California        3703   California   \n",
       "4  Census Tract 4005, Alameda County, California        3517   California   \n",
       "\n",
       "     county    Tract  \n",
       "0   Alameda  4001.00  \n",
       "1   Alameda  4002.00  \n",
       "2   Alameda  4003.00  \n",
       "3   Alameda  4004.00  \n",
       "4   Alameda  4005.00  "
      ]
     },
     "execution_count": 167,
     "metadata": {},
     "output_type": "execute_result"
    }
   ],
   "source": [
<<<<<<< HEAD
    "df_cleaned['Tract'] = df_cleaned['GEOIDLONG'].str[-6:-2] + '.' + df_cleaned['GEOIDLONG'].str[-2:]\n",
    "df_cleaned.head()"
=======
    "census_df['Tract'] = census_df['GEOIDLONG'].str[-6:-2] + '.' + census_df['GEOIDLONG'].str[-2:]\n",
    "census_df.head()"
>>>>>>> b29ccfe24745ae7d4ee025057dc4dd640781773b
   ]
  },
  {
   "cell_type": "markdown",
   "metadata": {
    "slideshow": {
     "slide_type": "fragment"
    }
   },
   "source": [
    "Can you spot the difference?"
   ]
  },
  {
   "cell_type": "markdown",
   "metadata": {
    "slideshow": {
     "slide_type": "slide"
    }
   },
   "source": [
    "### 2.5.5 More pandas operations"
   ]
  },
  {
   "cell_type": "markdown",
   "metadata": {
    "slideshow": {
     "slide_type": "fragment"
    }
   },
   "source": [
    "Let's go back to our rainfall data\n",
    "\n",
    "**Summary stats**\n",
    "pandas makes it really easy to quickly summarize and parse your data:"
   ]
  },
  {
   "cell_type": "code",
   "execution_count": 168,
   "metadata": {
    "slideshow": {
     "slide_type": "fragment"
    }
   },
   "outputs": [
    {
     "data": {
      "text/html": [
       "<div>\n",
       "<style scoped>\n",
       "    .dataframe tbody tr th:only-of-type {\n",
       "        vertical-align: middle;\n",
       "    }\n",
       "\n",
       "    .dataframe tbody tr th {\n",
       "        vertical-align: top;\n",
       "    }\n",
       "\n",
       "    .dataframe thead th {\n",
       "        text-align: right;\n",
       "    }\n",
       "</style>\n",
       "<table border=\"1\" class=\"dataframe\">\n",
       "  <thead>\n",
       "    <tr style=\"text-align: right;\">\n",
       "      <th></th>\n",
       "      <th>POPGROUP</th>\n",
       "      <th>label</th>\n",
       "      <th>GEOIDLONG</th>\n",
       "      <th>GEOID</th>\n",
       "      <th>geodisplay</th>\n",
       "      <th>Population</th>\n",
       "      <th>state</th>\n",
       "      <th>county</th>\n",
       "      <th>Tract</th>\n",
       "    </tr>\n",
       "  </thead>\n",
       "  <tbody>\n",
       "    <tr>\n",
       "      <th>0</th>\n",
       "      <td>1</td>\n",
       "      <td>Total population</td>\n",
       "      <td>1400000US06001400100</td>\n",
       "      <td>6001400100</td>\n",
       "      <td>Census Tract 4001, Alameda County, California</td>\n",
       "      <td>2937</td>\n",
       "      <td>California</td>\n",
       "      <td>Alameda</td>\n",
       "      <td>4001.00</td>\n",
       "    </tr>\n",
       "    <tr>\n",
       "      <th>1</th>\n",
       "      <td>1</td>\n",
       "      <td>Total population</td>\n",
       "      <td>1400000US06001400200</td>\n",
       "      <td>6001400200</td>\n",
       "      <td>Census Tract 4002, Alameda County, California</td>\n",
       "      <td>1974</td>\n",
       "      <td>California</td>\n",
       "      <td>Alameda</td>\n",
       "      <td>4002.00</td>\n",
       "    </tr>\n",
       "    <tr>\n",
       "      <th>2</th>\n",
       "      <td>1</td>\n",
       "      <td>Total population</td>\n",
       "      <td>1400000US06001400300</td>\n",
       "      <td>6001400300</td>\n",
       "      <td>Census Tract 4003, Alameda County, California</td>\n",
       "      <td>4865</td>\n",
       "      <td>California</td>\n",
       "      <td>Alameda</td>\n",
       "      <td>4003.00</td>\n",
       "    </tr>\n",
       "    <tr>\n",
       "      <th>3</th>\n",
       "      <td>1</td>\n",
       "      <td>Total population</td>\n",
       "      <td>1400000US06001400400</td>\n",
       "      <td>6001400400</td>\n",
       "      <td>Census Tract 4004, Alameda County, California</td>\n",
       "      <td>3703</td>\n",
       "      <td>California</td>\n",
       "      <td>Alameda</td>\n",
       "      <td>4004.00</td>\n",
       "    </tr>\n",
       "    <tr>\n",
       "      <th>4</th>\n",
       "      <td>1</td>\n",
       "      <td>Total population</td>\n",
       "      <td>1400000US06001400500</td>\n",
       "      <td>6001400500</td>\n",
       "      <td>Census Tract 4005, Alameda County, California</td>\n",
       "      <td>3517</td>\n",
       "      <td>California</td>\n",
       "      <td>Alameda</td>\n",
       "      <td>4005.00</td>\n",
       "    </tr>\n",
       "  </tbody>\n",
       "</table>\n",
       "</div>"
      ],
      "text/plain": [
       "   POPGROUP             label             GEOIDLONG       GEOID  \\\n",
       "0         1  Total population  1400000US06001400100  6001400100   \n",
       "1         1  Total population  1400000US06001400200  6001400200   \n",
       "2         1  Total population  1400000US06001400300  6001400300   \n",
       "3         1  Total population  1400000US06001400400  6001400400   \n",
       "4         1  Total population  1400000US06001400500  6001400500   \n",
       "\n",
       "                                      geodisplay  Population        state  \\\n",
       "0  Census Tract 4001, Alameda County, California        2937   California   \n",
       "1  Census Tract 4002, Alameda County, California        1974   California   \n",
       "2  Census Tract 4003, Alameda County, California        4865   California   \n",
       "3  Census Tract 4004, Alameda County, California        3703   California   \n",
       "4  Census Tract 4005, Alameda County, California        3517   California   \n",
       "\n",
       "     county    Tract  \n",
       "0   Alameda  4001.00  \n",
       "1   Alameda  4002.00  \n",
       "2   Alameda  4003.00  \n",
       "3   Alameda  4004.00  \n",
       "4   Alameda  4005.00  "
      ]
     },
     "execution_count": 168,
     "metadata": {},
     "output_type": "execute_result"
    }
   ],
   "source": [
    "df_cleaned.head()  # first 5 rows"
   ]
  },
  {
   "cell_type": "code",
   "execution_count": 169,
   "metadata": {},
   "outputs": [
    {
     "data": {
      "text/html": [
       "<div>\n",
       "<style scoped>\n",
       "    .dataframe tbody tr th:only-of-type {\n",
       "        vertical-align: middle;\n",
       "    }\n",
       "\n",
       "    .dataframe tbody tr th {\n",
       "        vertical-align: top;\n",
       "    }\n",
       "\n",
       "    .dataframe thead th {\n",
       "        text-align: right;\n",
       "    }\n",
       "</style>\n",
       "<table border=\"1\" class=\"dataframe\">\n",
       "  <thead>\n",
       "    <tr style=\"text-align: right;\">\n",
       "      <th></th>\n",
       "      <th>POPGROUP</th>\n",
       "      <th>label</th>\n",
       "      <th>GEOIDLONG</th>\n",
       "      <th>GEOID</th>\n",
       "      <th>geodisplay</th>\n",
       "      <th>Population</th>\n",
       "      <th>state</th>\n",
       "      <th>county</th>\n",
       "      <th>Tract</th>\n",
       "    </tr>\n",
       "  </thead>\n",
       "  <tbody>\n",
       "    <tr>\n",
       "      <th>2593</th>\n",
       "      <td>1</td>\n",
       "      <td>Total population</td>\n",
       "      <td>1400000US06037481800</td>\n",
       "      <td>6037481800</td>\n",
       "      <td>Census Tract 4818, Los Angeles County, California</td>\n",
       "      <td>2596</td>\n",
       "      <td>California</td>\n",
       "      <td>Los Angeles</td>\n",
       "      <td>4818.00</td>\n",
       "    </tr>\n",
       "    <tr>\n",
       "      <th>5838</th>\n",
       "      <td>1</td>\n",
       "      <td>Total population</td>\n",
       "      <td>1400000US06073009507</td>\n",
       "      <td>6073009507</td>\n",
       "      <td>Census Tract 95.07, San Diego County, California</td>\n",
       "      <td>3369</td>\n",
       "      <td>California</td>\n",
       "      <td>San Diego</td>\n",
       "      <td>0095.07</td>\n",
       "    </tr>\n",
       "    <tr>\n",
       "      <th>5388</th>\n",
       "      <td>1</td>\n",
       "      <td>Total population</td>\n",
       "      <td>1400000US06071003101</td>\n",
       "      <td>6071003101</td>\n",
       "      <td>Census Tract 31.01, San Bernardino County, Cal...</td>\n",
       "      <td>5040</td>\n",
       "      <td>California</td>\n",
       "      <td>San Bernardino</td>\n",
       "      <td>0031.01</td>\n",
       "    </tr>\n",
       "  </tbody>\n",
       "</table>\n",
       "</div>"
      ],
      "text/plain": [
       "      POPGROUP             label             GEOIDLONG       GEOID  \\\n",
       "2593         1  Total population  1400000US06037481800  6037481800   \n",
       "5838         1  Total population  1400000US06073009507  6073009507   \n",
       "5388         1  Total population  1400000US06071003101  6071003101   \n",
       "\n",
       "                                             geodisplay  Population  \\\n",
       "2593  Census Tract 4818, Los Angeles County, California        2596   \n",
       "5838   Census Tract 95.07, San Diego County, California        3369   \n",
       "5388  Census Tract 31.01, San Bernardino County, Cal...        5040   \n",
       "\n",
       "            state           county    Tract  \n",
       "2593   California      Los Angeles  4818.00  \n",
       "5838   California        San Diego  0095.07  \n",
       "5388   California   San Bernardino  0031.01  "
      ]
     },
     "execution_count": 169,
     "metadata": {},
     "output_type": "execute_result"
    }
   ],
   "source": [
    "df_cleaned.sample(3)  # random 3 rows"
   ]
  },
  {
   "cell_type": "code",
   "execution_count": 170,
   "metadata": {
    "slideshow": {
     "slide_type": "fragment"
    }
   },
   "outputs": [
    {
     "data": {
      "text/html": [
       "<div>\n",
       "<style scoped>\n",
       "    .dataframe tbody tr th:only-of-type {\n",
       "        vertical-align: middle;\n",
       "    }\n",
       "\n",
       "    .dataframe tbody tr th {\n",
       "        vertical-align: top;\n",
       "    }\n",
       "\n",
       "    .dataframe thead th {\n",
       "        text-align: right;\n",
       "    }\n",
       "</style>\n",
       "<table border=\"1\" class=\"dataframe\">\n",
       "  <thead>\n",
       "    <tr style=\"text-align: right;\">\n",
       "      <th></th>\n",
       "      <th>POPGROUP</th>\n",
       "      <th>GEOID</th>\n",
       "      <th>Population</th>\n",
       "    </tr>\n",
       "  </thead>\n",
       "  <tbody>\n",
       "    <tr>\n",
       "      <th>count</th>\n",
       "      <td>8000.0</td>\n",
       "      <td>8.000000e+03</td>\n",
       "      <td>8000.000000</td>\n",
       "    </tr>\n",
       "    <tr>\n",
       "      <th>mean</th>\n",
       "      <td>1.0</td>\n",
       "      <td>6.054926e+09</td>\n",
       "      <td>4656.669625</td>\n",
       "    </tr>\n",
       "    <tr>\n",
       "      <th>std</th>\n",
       "      <td>0.0</td>\n",
       "      <td>2.653339e+07</td>\n",
       "      <td>1953.036084</td>\n",
       "    </tr>\n",
       "    <tr>\n",
       "      <th>min</th>\n",
       "      <td>1.0</td>\n",
       "      <td>6.001400e+09</td>\n",
       "      <td>112.000000</td>\n",
       "    </tr>\n",
       "    <tr>\n",
       "      <th>25%</th>\n",
       "      <td>1.0</td>\n",
       "      <td>6.037263e+09</td>\n",
       "      <td>3372.000000</td>\n",
       "    </tr>\n",
       "    <tr>\n",
       "      <th>50%</th>\n",
       "      <td>1.0</td>\n",
       "      <td>6.059053e+09</td>\n",
       "      <td>4422.000000</td>\n",
       "    </tr>\n",
       "    <tr>\n",
       "      <th>75%</th>\n",
       "      <td>1.0</td>\n",
       "      <td>6.073016e+09</td>\n",
       "      <td>5662.000000</td>\n",
       "    </tr>\n",
       "    <tr>\n",
       "      <th>max</th>\n",
       "      <td>1.0</td>\n",
       "      <td>6.115041e+09</td>\n",
       "      <td>37452.000000</td>\n",
       "    </tr>\n",
       "  </tbody>\n",
       "</table>\n",
       "</div>"
      ],
      "text/plain": [
       "       POPGROUP         GEOID    Population\n",
       "count    8000.0  8.000000e+03   8000.000000\n",
       "mean        1.0  6.054926e+09   4656.669625\n",
       "std         0.0  2.653339e+07   1953.036084\n",
       "min         1.0  6.001400e+09    112.000000\n",
       "25%         1.0  6.037263e+09   3372.000000\n",
       "50%         1.0  6.059053e+09   4422.000000\n",
       "75%         1.0  6.073016e+09   5662.000000\n",
       "max         1.0  6.115041e+09  37452.000000"
      ]
     },
     "execution_count": 170,
     "metadata": {},
     "output_type": "execute_result"
    }
   ],
   "source": [
    "df_cleaned.describe()"
   ]
  },
  {
   "cell_type": "code",
   "execution_count": 171,
   "metadata": {},
   "outputs": [
    {
     "data": {
      "text/html": [
       "<div>\n",
       "<style scoped>\n",
       "    .dataframe tbody tr th:only-of-type {\n",
       "        vertical-align: middle;\n",
       "    }\n",
       "\n",
       "    .dataframe tbody tr th {\n",
       "        vertical-align: top;\n",
       "    }\n",
       "\n",
       "    .dataframe thead th {\n",
       "        text-align: right;\n",
       "    }\n",
       "</style>\n",
       "<table border=\"1\" class=\"dataframe\">\n",
       "  <thead>\n",
       "    <tr style=\"text-align: right;\">\n",
       "      <th></th>\n",
       "      <th>month_2014</th>\n",
       "      <th>rainfall_inches</th>\n",
       "    </tr>\n",
       "    <tr>\n",
       "      <th>obs_id</th>\n",
       "      <th></th>\n",
       "      <th></th>\n",
       "    </tr>\n",
       "  </thead>\n",
       "  <tbody>\n",
       "    <tr>\n",
       "      <th>0</th>\n",
       "      <td>jan</td>\n",
       "      <td>5.3</td>\n",
       "    </tr>\n",
       "    <tr>\n",
       "      <th>1</th>\n",
       "      <td>feb</td>\n",
       "      <td>5.4</td>\n",
       "    </tr>\n",
       "    <tr>\n",
       "      <th>2</th>\n",
       "      <td>mar</td>\n",
       "      <td>4.8</td>\n",
       "    </tr>\n",
       "    <tr>\n",
       "      <th>3</th>\n",
       "      <td>apr</td>\n",
       "      <td>4.7</td>\n",
       "    </tr>\n",
       "    <tr>\n",
       "      <th>4</th>\n",
       "      <td>may</td>\n",
       "      <td>3.3</td>\n",
       "    </tr>\n",
       "  </tbody>\n",
       "</table>\n",
       "</div>"
      ],
      "text/plain": [
       "       month_2014  rainfall_inches\n",
       "obs_id                            \n",
       "0             jan              5.3\n",
       "1             feb              5.4\n",
       "2             mar              4.8\n",
       "3             apr              4.7\n",
       "4             may              3.3"
      ]
     },
     "execution_count": 171,
     "metadata": {},
     "output_type": "execute_result"
    }
   ],
   "source": [
    "df.head()"
   ]
  },
  {
   "cell_type": "markdown",
   "metadata": {
    "slideshow": {
     "slide_type": "slide"
    }
   },
   "source": [
    "**Sorting**"
   ]
  },
  {
   "cell_type": "code",
   "execution_count": 172,
   "metadata": {
    "slideshow": {
     "slide_type": "fragment"
    }
   },
   "outputs": [
    {
     "data": {
      "text/html": [
       "<div>\n",
       "<style scoped>\n",
       "    .dataframe tbody tr th:only-of-type {\n",
       "        vertical-align: middle;\n",
       "    }\n",
       "\n",
       "    .dataframe tbody tr th {\n",
       "        vertical-align: top;\n",
       "    }\n",
       "\n",
       "    .dataframe thead th {\n",
       "        text-align: right;\n",
       "    }\n",
       "</style>\n",
       "<table border=\"1\" class=\"dataframe\">\n",
       "  <thead>\n",
       "    <tr style=\"text-align: right;\">\n",
       "      <th></th>\n",
       "      <th>month_2014</th>\n",
       "      <th>rainfall_inches</th>\n",
       "    </tr>\n",
       "    <tr>\n",
       "      <th>obs_id</th>\n",
       "      <th></th>\n",
       "      <th></th>\n",
       "    </tr>\n",
       "  </thead>\n",
       "  <tbody>\n",
       "    <tr>\n",
       "      <th>11</th>\n",
       "      <td>dec</td>\n",
       "      <td>5.9</td>\n",
       "    </tr>\n",
       "    <tr>\n",
       "      <th>1</th>\n",
       "      <td>feb</td>\n",
       "      <td>5.4</td>\n",
       "    </tr>\n",
       "    <tr>\n",
       "      <th>0</th>\n",
       "      <td>jan</td>\n",
       "      <td>5.3</td>\n",
       "    </tr>\n",
       "    <tr>\n",
       "      <th>2</th>\n",
       "      <td>mar</td>\n",
       "      <td>4.8</td>\n",
       "    </tr>\n",
       "    <tr>\n",
       "      <th>3</th>\n",
       "      <td>apr</td>\n",
       "      <td>4.7</td>\n",
       "    </tr>\n",
       "    <tr>\n",
       "      <th>10</th>\n",
       "      <td>nov</td>\n",
       "      <td>4.5</td>\n",
       "    </tr>\n",
       "    <tr>\n",
       "      <th>9</th>\n",
       "      <td>oct</td>\n",
       "      <td>3.9</td>\n",
       "    </tr>\n",
       "    <tr>\n",
       "      <th>4</th>\n",
       "      <td>may</td>\n",
       "      <td>3.3</td>\n",
       "    </tr>\n",
       "    <tr>\n",
       "      <th>8</th>\n",
       "      <td>sep</td>\n",
       "      <td>2.5</td>\n",
       "    </tr>\n",
       "    <tr>\n",
       "      <th>5</th>\n",
       "      <td>jun</td>\n",
       "      <td>1.2</td>\n",
       "    </tr>\n",
       "    <tr>\n",
       "      <th>6</th>\n",
       "      <td>jul</td>\n",
       "      <td>0.8</td>\n",
       "    </tr>\n",
       "    <tr>\n",
       "      <th>7</th>\n",
       "      <td>aug</td>\n",
       "      <td>0.7</td>\n",
       "    </tr>\n",
       "  </tbody>\n",
       "</table>\n",
       "</div>"
      ],
      "text/plain": [
       "       month_2014  rainfall_inches\n",
       "obs_id                            \n",
       "11            dec              5.9\n",
       "1             feb              5.4\n",
       "0             jan              5.3\n",
       "2             mar              4.8\n",
       "3             apr              4.7\n",
       "10            nov              4.5\n",
       "9             oct              3.9\n",
       "4             may              3.3\n",
       "8             sep              2.5\n",
       "5             jun              1.2\n",
       "6             jul              0.8\n",
       "7             aug              0.7"
      ]
     },
     "execution_count": 172,
     "metadata": {},
     "output_type": "execute_result"
    }
   ],
   "source": [
    "df.sort_values(['rainfall_inches'], ascending=False)"
   ]
  },
  {
   "cell_type": "markdown",
   "metadata": {
    "slideshow": {
     "slide_type": "slide"
    }
   },
   "source": [
    "**Basic Aggregations**"
   ]
  },
  {
   "cell_type": "code",
   "execution_count": 173,
   "metadata": {
    "slideshow": {
     "slide_type": "fragment"
    }
   },
   "outputs": [
    {
     "data": {
      "text/plain": [
       "array(['jan', 'feb', 'mar', 'apr', 'may', 'jun', 'jul', 'aug', 'sep',\n",
       "       'oct', 'nov', 'dec'], dtype=object)"
      ]
     },
     "execution_count": 173,
     "metadata": {},
     "output_type": "execute_result"
    }
   ],
   "source": [
    "df['month_2014'].unique()"
   ]
  },
  {
   "cell_type": "code",
   "execution_count": 174,
   "metadata": {
    "slideshow": {
     "slide_type": "fragment"
    }
   },
   "outputs": [
    {
     "data": {
      "text/plain": [
       "12"
      ]
     },
     "execution_count": 174,
     "metadata": {},
     "output_type": "execute_result"
    }
   ],
   "source": [
    "df['month_2014'].count()"
   ]
  },
  {
   "cell_type": "code",
   "execution_count": 175,
   "metadata": {
    "slideshow": {
     "slide_type": "fragment"
    }
   },
   "outputs": [
    {
     "data": {
      "text/plain": [
       "mar    1\n",
       "sep    1\n",
       "feb    1\n",
       "jan    1\n",
       "jul    1\n",
       "jun    1\n",
       "aug    1\n",
       "dec    1\n",
       "nov    1\n",
       "oct    1\n",
       "apr    1\n",
       "may    1\n",
       "Name: month_2014, dtype: int64"
      ]
     },
     "execution_count": 175,
     "metadata": {},
     "output_type": "execute_result"
    }
   ],
   "source": [
    "df['month_2014'].value_counts()"
   ]
  },
  {
   "cell_type": "markdown",
   "metadata": {
    "slideshow": {
     "slide_type": "slide"
    }
   },
   "source": [
    "Remember, DataFrames are just NumPy arrays with some frills on top. The `array` form is stored as an **attribute** of the DataFrame named \"values\":"
   ]
  },
  {
   "cell_type": "code",
   "execution_count": 176,
   "metadata": {
    "slideshow": {
     "slide_type": "fragment"
    }
   },
   "outputs": [
    {
     "name": "stdout",
     "output_type": "stream",
     "text": [
      "[['jan' 5.3]\n",
      " ['feb' 5.4]\n",
      " ['mar' 4.8]\n",
      " ['apr' 4.7]\n",
      " ['may' 3.3]\n",
      " ['jun' 1.2]\n",
      " ['jul' 0.8]\n",
      " ['aug' 0.7]\n",
      " ['sep' 2.5]\n",
      " ['oct' 3.9]\n",
      " ['nov' 4.5]\n",
      " ['dec' 5.9]]\n",
      "<class 'numpy.ndarray'>\n"
     ]
    }
   ],
   "source": [
    "print(df.values)\n",
    "print(type(df.values))"
   ]
  },
  {
   "cell_type": "markdown",
   "metadata": {
    "slideshow": {
     "slide_type": "slide"
    }
   },
   "source": [
    "**Column selection**"
   ]
  },
  {
   "cell_type": "markdown",
   "metadata": {
    "slideshow": {
     "slide_type": "fragment"
    }
   },
   "source": [
    "You can also easily create a DataFrame from a dictionary. Let's follow an example from the Python for Data Analysis book:"
   ]
  },
  {
   "cell_type": "code",
   "execution_count": 177,
   "metadata": {
    "slideshow": {
     "slide_type": "fragment"
    }
   },
   "outputs": [],
   "source": [
    "data = {\n",
    "    'state': ['Ohio', 'Ohio', 'Ohio', 'Nevada', 'Nevada'],\n",
    "    'year': [2000, 2001, 2002, 2001, 2002],\n",
    "    'pop': [1.5, 1.7, 3.6, 2.4, 2.9]}\n",
    "sp = pd.DataFrame(data)"
   ]
  },
  {
   "cell_type": "markdown",
   "metadata": {
    "slideshow": {
     "slide_type": "slide"
    }
   },
   "source": [
    "Let's investigate the contents of `sp`:"
   ]
  },
  {
   "cell_type": "code",
   "execution_count": 178,
   "metadata": {
    "scrolled": true,
    "slideshow": {
     "slide_type": "fragment"
    }
   },
   "outputs": [
    {
     "data": {
      "text/html": [
       "<div>\n",
       "<style scoped>\n",
       "    .dataframe tbody tr th:only-of-type {\n",
       "        vertical-align: middle;\n",
       "    }\n",
       "\n",
       "    .dataframe tbody tr th {\n",
       "        vertical-align: top;\n",
       "    }\n",
       "\n",
       "    .dataframe thead th {\n",
       "        text-align: right;\n",
       "    }\n",
       "</style>\n",
       "<table border=\"1\" class=\"dataframe\">\n",
       "  <thead>\n",
       "    <tr style=\"text-align: right;\">\n",
       "      <th></th>\n",
       "      <th>state</th>\n",
       "      <th>year</th>\n",
       "      <th>pop</th>\n",
       "    </tr>\n",
       "  </thead>\n",
       "  <tbody>\n",
       "    <tr>\n",
       "      <th>0</th>\n",
       "      <td>Ohio</td>\n",
       "      <td>2000</td>\n",
       "      <td>1.5</td>\n",
       "    </tr>\n",
       "    <tr>\n",
       "      <th>1</th>\n",
       "      <td>Ohio</td>\n",
       "      <td>2001</td>\n",
       "      <td>1.7</td>\n",
       "    </tr>\n",
       "    <tr>\n",
       "      <th>2</th>\n",
       "      <td>Ohio</td>\n",
       "      <td>2002</td>\n",
       "      <td>3.6</td>\n",
       "    </tr>\n",
       "    <tr>\n",
       "      <th>3</th>\n",
       "      <td>Nevada</td>\n",
       "      <td>2001</td>\n",
       "      <td>2.4</td>\n",
       "    </tr>\n",
       "    <tr>\n",
       "      <th>4</th>\n",
       "      <td>Nevada</td>\n",
       "      <td>2002</td>\n",
       "      <td>2.9</td>\n",
       "    </tr>\n",
       "  </tbody>\n",
       "</table>\n",
       "</div>"
      ],
      "text/plain": [
       "    state  year  pop\n",
       "0    Ohio  2000  1.5\n",
       "1    Ohio  2001  1.7\n",
       "2    Ohio  2002  3.6\n",
       "3  Nevada  2001  2.4\n",
       "4  Nevada  2002  2.9"
      ]
     },
     "execution_count": 178,
     "metadata": {},
     "output_type": "execute_result"
    }
   ],
   "source": [
    "sp"
   ]
  },
  {
   "cell_type": "code",
<<<<<<< HEAD
   "execution_count": 179,
=======
   "execution_count": null,
   "id": "b95f6787",
   "metadata": {},
   "outputs": [],
   "source": [
    "sp.iloc[0]"
   ]
  },
  {
   "cell_type": "code",
   "execution_count": null,
   "id": "515d55f5",
>>>>>>> b29ccfe24745ae7d4ee025057dc4dd640781773b
   "metadata": {
    "slideshow": {
     "slide_type": "fragment"
    }
   },
   "outputs": [
    {
     "name": "stdout",
     "output_type": "stream",
     "text": [
      "    state  year  pop\n",
      "0    Ohio  2000  1.5\n",
      "1    Ohio  2001  1.7\n",
      "2    Ohio  2002  3.6\n",
      "3  Nevada  2001  2.4\n",
      "4  Nevada  2002  2.9\n"
     ]
    }
   ],
   "source": [
    "print(sp)"
   ]
  },
  {
   "cell_type": "markdown",
   "metadata": {
    "slideshow": {
     "slide_type": "slide"
    }
   },
   "source": [
    "We can refer to a column in two ways:"
   ]
  },
  {
   "cell_type": "code",
<<<<<<< HEAD
   "execution_count": 180,
=======
   "execution_count": null,
   "id": "cd50e963",
   "metadata": {},
   "outputs": [],
   "source": [
    "sp.values"
   ]
  },
  {
   "cell_type": "code",
   "execution_count": null,
   "id": "c32a5d9e",
>>>>>>> b29ccfe24745ae7d4ee025057dc4dd640781773b
   "metadata": {
    "scrolled": true,
    "slideshow": {
     "slide_type": "fragment"
    }
   },
   "outputs": [
    {
     "data": {
      "text/plain": [
       "0      Ohio\n",
       "1      Ohio\n",
       "2      Ohio\n",
       "3    Nevada\n",
       "4    Nevada\n",
       "Name: state, dtype: object"
      ]
     },
     "execution_count": 180,
     "metadata": {},
     "output_type": "execute_result"
    }
   ],
   "source": [
    "sp['values']"
   ]
  },
  {
   "cell_type": "code",
   "execution_count": 181,
   "metadata": {
    "scrolled": true,
    "slideshow": {
     "slide_type": "fragment"
    }
   },
   "outputs": [
    {
     "data": {
      "text/plain": [
       "0      Ohio\n",
       "1      Ohio\n",
       "2      Ohio\n",
       "3    Nevada\n",
       "4    Nevada\n",
       "Name: state, dtype: object"
      ]
     },
     "execution_count": 181,
     "metadata": {},
     "output_type": "execute_result"
    }
   ],
   "source": [
    "sp.state"
   ]
  },
  {
   "cell_type": "markdown",
   "metadata": {
    "slideshow": {
     "slide_type": "fragment"
    }
   },
   "source": [
    "Generally it is preferable to be explicit and use the `df[<column name>]` approach. Can you imagine why?\n"
   ]
  },
  {
   "cell_type": "markdown",
   "metadata": {
    "slideshow": {
     "slide_type": "fragment"
    }
   },
   "source": [
    "What if we had a column named \"values\"? How could pandas distinguish between \"values\" the attribute and \"values\" the column?"
   ]
  },
  {
   "cell_type": "markdown",
   "metadata": {
    "slideshow": {
     "slide_type": "slide"
    }
   },
   "source": [
    "**Iteration**"
   ]
  },
  {
   "cell_type": "markdown",
   "metadata": {
    "slideshow": {
     "slide_type": "fragment"
    }
   },
   "source": [
    "We can also iterate through the rows of a dataframes using `iterrows()`. This works a lot like list enumeration:"
   ]
  },
  {
   "cell_type": "code",
<<<<<<< HEAD
   "execution_count": 182,
=======
   "execution_count": null,
   "id": "d7115720",
   "metadata": {},
   "outputs": [],
   "source": [
    "row"
   ]
  },
  {
   "cell_type": "code",
   "execution_count": null,
   "id": "8c190a31",
>>>>>>> b29ccfe24745ae7d4ee025057dc4dd640781773b
   "metadata": {
    "scrolled": true,
    "slideshow": {
     "slide_type": "fragment"
    }
   },
   "outputs": [
    {
     "name": "stdout",
     "output_type": "stream",
     "text": [
      "Ohio\n",
      "Ohio\n",
      "Ohio\n",
      "Row 3 is not Ohio\n",
      "Row 4 is not Ohio\n"
     ]
    }
   ],
   "source": [
    "for i, row in sp.iterrows():\n",
    "    if row['state'] == 'Ohio':\n",
    "        print(row['state'])\n",
    "    else:\n",
    "        print('Row {0} is not Ohio'.format(i))"
   ]
  },
  {
   "cell_type": "markdown",
   "metadata": {
    "scrolled": true,
    "slideshow": {
     "slide_type": "fragment"
    }
   },
   "source": [
    "<img src=\"https://i.kym-cdn.com/photos/images/original/001/733/249/7a0\" alt=\"drawing\" width=\"25%\"/>"
   ]
  },
  {
   "cell_type": "markdown",
   "metadata": {},
   "source": [
    "## 2.6 Exercises\n",
    "\n",
    "### 2.6.1 Pandas expressions\n",
    "Below are a series of questions, with the answers remaining for you to fill in by using pandas expressions."
   ]
  },
  {
   "cell_type": "markdown",
   "metadata": {},
   "source": [
    "Can you get a profile of a column that is not numeric, like state? Try it."
   ]
  },
  {
   "cell_type": "code",
   "execution_count": null,
   "metadata": {},
   "outputs": [],
   "source": []
  },
  {
   "cell_type": "markdown",
   "metadata": {},
   "source": [
    "How can we print the data types of each column?"
   ]
  },
  {
   "cell_type": "code",
   "execution_count": null,
   "metadata": {},
   "outputs": [],
   "source": []
  },
  {
   "cell_type": "markdown",
   "metadata": {},
   "source": [
    "How can we print just the column containing state names?"
   ]
  },
  {
   "cell_type": "code",
   "execution_count": null,
   "metadata": {},
   "outputs": [],
   "source": []
  },
  {
   "cell_type": "markdown",
   "metadata": {},
   "source": [
    "How can we get a list of the states in the DataFrame, without duplicates?"
   ]
  },
  {
   "cell_type": "code",
   "execution_count": null,
   "metadata": {},
   "outputs": [],
   "source": []
  },
  {
   "cell_type": "markdown",
   "metadata": {},
   "source": [
    "How can we compute the mean of population across all the rows?"
   ]
  },
  {
   "cell_type": "code",
   "execution_count": null,
   "metadata": {},
   "outputs": [],
   "source": []
  },
  {
   "cell_type": "markdown",
   "metadata": {},
   "source": [
    "How can we compute the maximum population across all the rows?"
   ]
  },
  {
   "cell_type": "code",
   "execution_count": null,
   "metadata": {},
   "outputs": [],
   "source": []
  },
  {
   "cell_type": "markdown",
   "metadata": {},
   "source": [
    "How can we compute the 20th percentile value of population? "
   ]
  },
  {
   "cell_type": "code",
   "execution_count": null,
   "metadata": {},
   "outputs": [],
   "source": []
  },
  {
   "cell_type": "markdown",
   "metadata": {},
   "source": [
    "How can we compute a Boolean array indicating whether the state is 'Ohio'?"
   ]
  },
  {
   "cell_type": "code",
   "execution_count": null,
   "metadata": {},
   "outputs": [],
   "source": []
  },
  {
   "cell_type": "markdown",
   "metadata": {},
   "source": [
    "How can we select and print just the rows for Ohio?"
   ]
  },
  {
   "cell_type": "code",
   "execution_count": null,
   "metadata": {},
   "outputs": [],
   "source": []
  },
  {
   "cell_type": "markdown",
   "metadata": {},
   "source": [
    "How can we create a new DataFrame containing only the Ohio records?"
   ]
  },
  {
   "cell_type": "code",
   "execution_count": null,
   "metadata": {},
   "outputs": [],
   "source": []
  },
  {
   "cell_type": "markdown",
   "metadata": {},
   "source": [
    "How can we select and print just the rows in which population is more than 2?"
   ]
  },
  {
   "cell_type": "code",
   "execution_count": null,
   "metadata": {},
   "outputs": [],
   "source": []
  },
  {
   "cell_type": "markdown",
   "metadata": {},
   "source": [
    "How could we compute the mean of population that is in Ohio, averaging across years?"
   ]
  },
  {
   "cell_type": "code",
   "execution_count": null,
   "metadata": {},
   "outputs": [],
   "source": []
  },
  {
   "cell_type": "markdown",
   "metadata": {},
   "source": [
    "How can we print the DataFrame, sorted by State and within State, by Population?"
   ]
  },
  {
   "cell_type": "code",
   "execution_count": null,
   "metadata": {},
   "outputs": [],
   "source": []
  },
  {
   "cell_type": "markdown",
   "metadata": {},
   "source": [
    "How can we print the row for Ohio, 2002, selecting on its values (not on row and column indexes)?"
   ]
  },
  {
   "cell_type": "code",
   "execution_count": null,
   "metadata": {},
   "outputs": [],
   "source": []
  },
  {
   "cell_type": "markdown",
   "metadata": {},
   "source": [
    "How can we use row and column indexing to set the population of Ohio in 2002 to 3.4?"
   ]
  },
  {
   "cell_type": "code",
   "execution_count": null,
   "metadata": {},
   "outputs": [],
   "source": []
  },
  {
   "cell_type": "markdown",
   "metadata": {},
   "source": [
    "### 2.6.2 COVID cases from NY Times\n",
    "\n",
    "We end our intro to pandas with a quick look at how easy it is to load data into a dataframe. In this case, let's pull data from the New York Times online data for COVID cases, by county."
   ]
  },
  {
   "cell_type": "code",
   "execution_count": 183,
   "metadata": {},
   "outputs": [],
   "source": [
    "import pandas as pd"
   ]
  },
  {
   "cell_type": "code",
   "execution_count": 184,
   "metadata": {},
   "outputs": [],
   "source": [
    "url = 'https://raw.githubusercontent.com/nytimes/covid-19-data/master/us-counties.csv'\n",
    "uscovid = pd.read_csv(url)"
   ]
  },
  {
   "cell_type": "code",
   "execution_count": 185,
   "metadata": {
    "scrolled": false
   },
   "outputs": [
    {
     "data": {
      "text/html": [
       "<div>\n",
       "<style scoped>\n",
       "    .dataframe tbody tr th:only-of-type {\n",
       "        vertical-align: middle;\n",
       "    }\n",
       "\n",
       "    .dataframe tbody tr th {\n",
       "        vertical-align: top;\n",
       "    }\n",
       "\n",
       "    .dataframe thead th {\n",
       "        text-align: right;\n",
       "    }\n",
       "</style>\n",
       "<table border=\"1\" class=\"dataframe\">\n",
       "  <thead>\n",
       "    <tr style=\"text-align: right;\">\n",
       "      <th></th>\n",
       "      <th>date</th>\n",
       "      <th>county</th>\n",
       "      <th>state</th>\n",
       "      <th>fips</th>\n",
       "      <th>cases</th>\n",
       "      <th>deaths</th>\n",
       "    </tr>\n",
       "  </thead>\n",
       "  <tbody>\n",
       "    <tr>\n",
       "      <th>0</th>\n",
       "      <td>2020-01-21</td>\n",
       "      <td>Snohomish</td>\n",
       "      <td>Washington</td>\n",
       "      <td>53061.0</td>\n",
       "      <td>1</td>\n",
       "      <td>0.0</td>\n",
       "    </tr>\n",
       "    <tr>\n",
       "      <th>1</th>\n",
       "      <td>2020-01-22</td>\n",
       "      <td>Snohomish</td>\n",
       "      <td>Washington</td>\n",
       "      <td>53061.0</td>\n",
       "      <td>1</td>\n",
       "      <td>0.0</td>\n",
       "    </tr>\n",
       "    <tr>\n",
       "      <th>2</th>\n",
       "      <td>2020-01-23</td>\n",
       "      <td>Snohomish</td>\n",
       "      <td>Washington</td>\n",
       "      <td>53061.0</td>\n",
       "      <td>1</td>\n",
       "      <td>0.0</td>\n",
       "    </tr>\n",
       "    <tr>\n",
       "      <th>3</th>\n",
       "      <td>2020-01-24</td>\n",
       "      <td>Cook</td>\n",
       "      <td>Illinois</td>\n",
       "      <td>17031.0</td>\n",
       "      <td>1</td>\n",
       "      <td>0.0</td>\n",
       "    </tr>\n",
       "    <tr>\n",
       "      <th>4</th>\n",
       "      <td>2020-01-24</td>\n",
       "      <td>Snohomish</td>\n",
       "      <td>Washington</td>\n",
       "      <td>53061.0</td>\n",
       "      <td>1</td>\n",
       "      <td>0.0</td>\n",
       "    </tr>\n",
       "  </tbody>\n",
       "</table>\n",
       "</div>"
      ],
      "text/plain": [
       "         date     county       state     fips  cases  deaths\n",
       "0  2020-01-21  Snohomish  Washington  53061.0      1     0.0\n",
       "1  2020-01-22  Snohomish  Washington  53061.0      1     0.0\n",
       "2  2020-01-23  Snohomish  Washington  53061.0      1     0.0\n",
       "3  2020-01-24       Cook    Illinois  17031.0      1     0.0\n",
       "4  2020-01-24  Snohomish  Washington  53061.0      1     0.0"
      ]
     },
     "execution_count": 185,
     "metadata": {},
     "output_type": "execute_result"
    }
   ],
   "source": [
    "uscovid.head()"
   ]
  },
  {
   "cell_type": "code",
   "execution_count": 186,
   "metadata": {},
   "outputs": [
    {
     "data": {
      "text/html": [
       "<div>\n",
       "<style scoped>\n",
       "    .dataframe tbody tr th:only-of-type {\n",
       "        vertical-align: middle;\n",
       "    }\n",
       "\n",
       "    .dataframe tbody tr th {\n",
       "        vertical-align: top;\n",
       "    }\n",
       "\n",
       "    .dataframe thead th {\n",
       "        text-align: right;\n",
       "    }\n",
       "</style>\n",
       "<table border=\"1\" class=\"dataframe\">\n",
       "  <thead>\n",
       "    <tr style=\"text-align: right;\">\n",
       "      <th></th>\n",
       "      <th>date</th>\n",
       "      <th>county</th>\n",
       "      <th>state</th>\n",
       "      <th>fips</th>\n",
       "      <th>cases</th>\n",
       "      <th>deaths</th>\n",
       "    </tr>\n",
       "  </thead>\n",
       "  <tbody>\n",
       "    <tr>\n",
       "      <th>5</th>\n",
       "      <td>2020-01-25</td>\n",
       "      <td>Orange</td>\n",
       "      <td>California</td>\n",
       "      <td>6059.0</td>\n",
       "      <td>1</td>\n",
       "      <td>0.0</td>\n",
       "    </tr>\n",
       "    <tr>\n",
       "      <th>9</th>\n",
       "      <td>2020-01-26</td>\n",
       "      <td>Los Angeles</td>\n",
       "      <td>California</td>\n",
       "      <td>6037.0</td>\n",
       "      <td>1</td>\n",
       "      <td>0.0</td>\n",
       "    </tr>\n",
       "    <tr>\n",
       "      <th>10</th>\n",
       "      <td>2020-01-26</td>\n",
       "      <td>Orange</td>\n",
       "      <td>California</td>\n",
       "      <td>6059.0</td>\n",
       "      <td>1</td>\n",
       "      <td>0.0</td>\n",
       "    </tr>\n",
       "    <tr>\n",
       "      <th>14</th>\n",
       "      <td>2020-01-27</td>\n",
       "      <td>Los Angeles</td>\n",
       "      <td>California</td>\n",
       "      <td>6037.0</td>\n",
       "      <td>1</td>\n",
       "      <td>0.0</td>\n",
       "    </tr>\n",
       "    <tr>\n",
       "      <th>15</th>\n",
       "      <td>2020-01-27</td>\n",
       "      <td>Orange</td>\n",
       "      <td>California</td>\n",
       "      <td>6059.0</td>\n",
       "      <td>1</td>\n",
       "      <td>0.0</td>\n",
       "    </tr>\n",
       "  </tbody>\n",
       "</table>\n",
       "</div>"
      ],
      "text/plain": [
       "          date       county       state    fips  cases  deaths\n",
       "5   2020-01-25       Orange  California  6059.0      1     0.0\n",
       "9   2020-01-26  Los Angeles  California  6037.0      1     0.0\n",
       "10  2020-01-26       Orange  California  6059.0      1     0.0\n",
       "14  2020-01-27  Los Angeles  California  6037.0      1     0.0\n",
       "15  2020-01-27       Orange  California  6059.0      1     0.0"
      ]
     },
     "execution_count": 186,
     "metadata": {},
     "output_type": "execute_result"
    }
   ],
   "source": [
    "cacovid = uscovid[uscovid['state']=='California']\n",
    "cacovid.head()"
   ]
  },
  {
   "cell_type": "code",
   "execution_count": 187,
   "metadata": {
    "scrolled": true
   },
   "outputs": [
    {
     "data": {
      "text/html": [
       "<div>\n",
       "<style scoped>\n",
       "    .dataframe tbody tr th:only-of-type {\n",
       "        vertical-align: middle;\n",
       "    }\n",
       "\n",
       "    .dataframe tbody tr th {\n",
       "        vertical-align: top;\n",
       "    }\n",
       "\n",
       "    .dataframe thead th {\n",
       "        text-align: right;\n",
       "    }\n",
       "</style>\n",
       "<table border=\"1\" class=\"dataframe\">\n",
       "  <thead>\n",
       "    <tr style=\"text-align: right;\">\n",
       "      <th></th>\n",
       "      <th>date</th>\n",
       "      <th>county</th>\n",
       "      <th>state</th>\n",
       "      <th>fips</th>\n",
       "      <th>cases</th>\n",
       "      <th>deaths</th>\n",
       "    </tr>\n",
       "  </thead>\n",
       "  <tbody>\n",
       "    <tr>\n",
       "      <th>399</th>\n",
       "      <td>2020-03-01</td>\n",
       "      <td>Alameda</td>\n",
       "      <td>California</td>\n",
       "      <td>6001.0</td>\n",
       "      <td>1</td>\n",
       "      <td>0.0</td>\n",
       "    </tr>\n",
       "    <tr>\n",
       "      <th>426</th>\n",
       "      <td>2020-03-02</td>\n",
       "      <td>Alameda</td>\n",
       "      <td>California</td>\n",
       "      <td>6001.0</td>\n",
       "      <td>1</td>\n",
       "      <td>0.0</td>\n",
       "    </tr>\n",
       "    <tr>\n",
       "      <th>459</th>\n",
       "      <td>2020-03-03</td>\n",
       "      <td>Alameda</td>\n",
       "      <td>California</td>\n",
       "      <td>6001.0</td>\n",
       "      <td>2</td>\n",
       "      <td>0.0</td>\n",
       "    </tr>\n",
       "    <tr>\n",
       "      <th>494</th>\n",
       "      <td>2020-03-04</td>\n",
       "      <td>Alameda</td>\n",
       "      <td>California</td>\n",
       "      <td>6001.0</td>\n",
       "      <td>2</td>\n",
       "      <td>0.0</td>\n",
       "    </tr>\n",
       "    <tr>\n",
       "      <th>533</th>\n",
       "      <td>2020-03-05</td>\n",
       "      <td>Alameda</td>\n",
       "      <td>California</td>\n",
       "      <td>6001.0</td>\n",
       "      <td>2</td>\n",
       "      <td>0.0</td>\n",
       "    </tr>\n",
       "  </tbody>\n",
       "</table>\n",
       "</div>"
      ],
      "text/plain": [
       "           date   county       state    fips  cases  deaths\n",
       "399  2020-03-01  Alameda  California  6001.0      1     0.0\n",
       "426  2020-03-02  Alameda  California  6001.0      1     0.0\n",
       "459  2020-03-03  Alameda  California  6001.0      2     0.0\n",
       "494  2020-03-04  Alameda  California  6001.0      2     0.0\n",
       "533  2020-03-05  Alameda  California  6001.0      2     0.0"
      ]
     },
     "execution_count": 187,
     "metadata": {},
     "output_type": "execute_result"
    }
   ],
   "source": [
    "alameda_covid = cacovid[cacovid['county']=='Alameda']\n",
    "alameda_covid.head()"
   ]
  },
  {
   "cell_type": "markdown",
   "metadata": {},
   "source": [
    "Go ahead, experiment with these data - see what you can do with some basic Pandas commands.  "
   ]
  },
  {
   "cell_type": "code",
   "execution_count": null,
   "metadata": {},
   "outputs": [],
   "source": []
  },
  {
   "cell_type": "markdown",
   "metadata": {
    "slideshow": {
     "slide_type": "slide"
    }
   },
   "source": [
    "## 3. Intro to Data Analysis"
   ]
  },
  {
   "cell_type": "markdown",
<<<<<<< HEAD
=======
   "id": "af781fee",
>>>>>>> b29ccfe24745ae7d4ee025057dc4dd640781773b
   "metadata": {},
   "source": [
    "## 3.1 Merges and Joins"
   ]
  },
  {
   "cell_type": "markdown",
   "metadata": {
    "slideshow": {
     "slide_type": "fragment"
    }
   },
   "source": [
    "Pandas has a very powerful set of methods for merging DataFrames together. This is a very common procedure as it is very rare for all of your data to be stored in a single file. These methods are designed to work like database queries, so the syntax borrows heavily from SQL. If you're unfamiliar with relational algebra/SQL, check out the official pandas [docs](https://pandas.pydata.org/pandas-docs/stable/user_guide/merging.html#brief-primer-on-merge-methods-relational-algebra) for more detail. Let's review them using a simple example:"
   ]
  },
  {
   "cell_type": "code",
   "execution_count": 188,
   "metadata": {
    "slideshow": {
     "slide_type": "fragment"
    }
   },
   "outputs": [],
   "source": [
    "favorite_numbers = pd.DataFrame([\n",
    "    [\"Boba Fett\", 42],\n",
    "    [\"Boba Fett\", 3.14],\n",
    "    [\"Bossk\", 7],\n",
    "    [\"Bossk\", 9],\n",
    "    [\"IG-88\", 3],\n",
    "    [\"Dengar\", np.NaN]], columns=[\"Name\", \"Number\"])\n",
    "\n",
    "email_addr = pd.DataFrame([\n",
    "    [\"Boba Fett\", \"boba@bountyhunters.com\"],\n",
    "    [\"Bossk\", \"boskk@bountyhunters.com\"],\n",
    "    [\"IG-88\", \"ig88@bountyhunters.com\"],\n",
    "    [\"Dengar\", \"dengar@bountyhunters.com\"],\n",
    "    [\"4-LOM\", \"4lom@bountyhunters.com\"],\n",
    "    [\"Zuckuss\", \"thezuck@bountyhunters.com\"]], columns=[\"Name\", \"Email\"])"
   ]
  },
  {
   "cell_type": "markdown",
   "metadata": {
    "slideshow": {
     "slide_type": "slide"
    }
   },
   "source": [
    "The first table contains favorite numbers of some famous people."
   ]
  },
  {
   "cell_type": "markdown",
   "metadata": {
    "slideshow": {
     "slide_type": "fragment"
    }
   },
   "source": [
    "<img src=\"https://www.syfy.com/sites/syfy/files/2020/05/bounty-hunters-esb.jpg\" width=50%>"
   ]
  },
  {
   "cell_type": "code",
   "execution_count": 189,
   "metadata": {
    "slideshow": {
     "slide_type": "fragment"
    }
   },
   "outputs": [
    {
     "data": {
      "text/html": [
       "<div>\n",
       "<style scoped>\n",
       "    .dataframe tbody tr th:only-of-type {\n",
       "        vertical-align: middle;\n",
       "    }\n",
       "\n",
       "    .dataframe tbody tr th {\n",
       "        vertical-align: top;\n",
       "    }\n",
       "\n",
       "    .dataframe thead th {\n",
       "        text-align: right;\n",
       "    }\n",
       "</style>\n",
       "<table border=\"1\" class=\"dataframe\">\n",
       "  <thead>\n",
       "    <tr style=\"text-align: right;\">\n",
       "      <th></th>\n",
       "      <th>Name</th>\n",
       "      <th>Number</th>\n",
       "    </tr>\n",
       "  </thead>\n",
       "  <tbody>\n",
       "    <tr>\n",
       "      <th>0</th>\n",
       "      <td>Boba Fett</td>\n",
       "      <td>42.00</td>\n",
       "    </tr>\n",
       "    <tr>\n",
       "      <th>1</th>\n",
       "      <td>Boba Fett</td>\n",
       "      <td>3.14</td>\n",
       "    </tr>\n",
       "    <tr>\n",
       "      <th>2</th>\n",
       "      <td>Bossk</td>\n",
       "      <td>7.00</td>\n",
       "    </tr>\n",
       "    <tr>\n",
       "      <th>3</th>\n",
       "      <td>Bossk</td>\n",
       "      <td>9.00</td>\n",
       "    </tr>\n",
       "    <tr>\n",
       "      <th>4</th>\n",
       "      <td>IG-88</td>\n",
       "      <td>3.00</td>\n",
       "    </tr>\n",
       "    <tr>\n",
       "      <th>5</th>\n",
       "      <td>Dengar</td>\n",
       "      <td>NaN</td>\n",
       "    </tr>\n",
       "  </tbody>\n",
       "</table>\n",
       "</div>"
      ],
      "text/plain": [
       "        Name  Number\n",
       "0  Boba Fett   42.00\n",
       "1  Boba Fett    3.14\n",
       "2      Bossk    7.00\n",
       "3      Bossk    9.00\n",
       "4      IG-88    3.00\n",
       "5     Dengar     NaN"
      ]
     },
     "execution_count": 189,
     "metadata": {},
     "output_type": "execute_result"
    }
   ],
   "source": [
    "favorite_numbers"
   ]
  },
  {
   "cell_type": "markdown",
   "metadata": {
    "slideshow": {
     "slide_type": "slide"
    }
   },
   "source": [
    "The second table contains the individuals email addresses."
   ]
  },
  {
   "cell_type": "code",
   "execution_count": 190,
   "metadata": {
    "slideshow": {
     "slide_type": "fragment"
    }
   },
   "outputs": [
    {
     "data": {
      "text/html": [
       "<div>\n",
       "<style scoped>\n",
       "    .dataframe tbody tr th:only-of-type {\n",
       "        vertical-align: middle;\n",
       "    }\n",
       "\n",
       "    .dataframe tbody tr th {\n",
       "        vertical-align: top;\n",
       "    }\n",
       "\n",
       "    .dataframe thead th {\n",
       "        text-align: right;\n",
       "    }\n",
       "</style>\n",
       "<table border=\"1\" class=\"dataframe\">\n",
       "  <thead>\n",
       "    <tr style=\"text-align: right;\">\n",
       "      <th></th>\n",
       "      <th>Name</th>\n",
       "      <th>Email</th>\n",
       "    </tr>\n",
       "  </thead>\n",
       "  <tbody>\n",
       "    <tr>\n",
       "      <th>0</th>\n",
       "      <td>Boba Fett</td>\n",
       "      <td>boba@bountyhunters.com</td>\n",
       "    </tr>\n",
       "    <tr>\n",
       "      <th>1</th>\n",
       "      <td>Bossk</td>\n",
       "      <td>boskk@bountyhunters.com</td>\n",
       "    </tr>\n",
       "    <tr>\n",
       "      <th>2</th>\n",
       "      <td>IG-88</td>\n",
       "      <td>ig88@bountyhunters.com</td>\n",
       "    </tr>\n",
       "    <tr>\n",
       "      <th>3</th>\n",
       "      <td>Dengar</td>\n",
       "      <td>dengar@bountyhunters.com</td>\n",
       "    </tr>\n",
       "    <tr>\n",
       "      <th>4</th>\n",
       "      <td>4-LOM</td>\n",
       "      <td>4lom@bountyhunters.com</td>\n",
       "    </tr>\n",
       "    <tr>\n",
       "      <th>5</th>\n",
       "      <td>Zuckuss</td>\n",
       "      <td>thezuck@bountyhunters.com</td>\n",
       "    </tr>\n",
       "  </tbody>\n",
       "</table>\n",
       "</div>"
      ],
      "text/plain": [
       "        Name                      Email\n",
       "0  Boba Fett     boba@bountyhunters.com\n",
       "1      Bossk    boskk@bountyhunters.com\n",
       "2      IG-88     ig88@bountyhunters.com\n",
       "3     Dengar   dengar@bountyhunters.com\n",
       "4      4-LOM     4lom@bountyhunters.com\n",
       "5    Zuckuss  thezuck@bountyhunters.com"
      ]
     },
     "execution_count": 190,
     "metadata": {},
     "output_type": "execute_result"
    }
   ],
   "source": [
    "email_addr"
   ]
  },
  {
   "cell_type": "markdown",
   "metadata": {
    "slideshow": {
     "slide_type": "fragment"
    }
   },
   "source": [
    "There are actually many ways you could imagine combining data from both of these tables.  In the following we work through a few example methods."
   ]
  },
  {
   "cell_type": "markdown",
   "metadata": {
    "slideshow": {
     "slide_type": "slide"
    }
   },
   "source": [
    "### 3.1.1 Merge\n",
    "\n",
    "Probably the most general and standard way to join tables in pandas is to use the merge function. There are many ways to do a merge, however, so let's go through them each one by one:"
   ]
  },
  {
   "cell_type": "markdown",
   "metadata": {
    "slideshow": {
     "slide_type": "slide"
    }
   },
   "source": [
    "#### 3.1.1.1 Inner merge\n",
    "The default type of `merge` is the **inner** merge, which corresponds to an \"inner join\" in SQL. Each merge type requires you to specify the column(s) on which you are joining. An inner join, however, only returns rows where the `on` value appears in both tables:"
   ]
  },
  {
   "cell_type": "code",
   "execution_count": 191,
   "metadata": {
    "slideshow": {
     "slide_type": "fragment"
    }
   },
   "outputs": [
    {
     "data": {
      "text/html": [
       "<div>\n",
       "<style scoped>\n",
       "    .dataframe tbody tr th:only-of-type {\n",
       "        vertical-align: middle;\n",
       "    }\n",
       "\n",
       "    .dataframe tbody tr th {\n",
       "        vertical-align: top;\n",
       "    }\n",
       "\n",
       "    .dataframe thead th {\n",
       "        text-align: right;\n",
       "    }\n",
       "</style>\n",
       "<table border=\"1\" class=\"dataframe\">\n",
       "  <thead>\n",
       "    <tr style=\"text-align: right;\">\n",
       "      <th></th>\n",
       "      <th>Name</th>\n",
       "      <th>Email</th>\n",
       "      <th>Number</th>\n",
       "    </tr>\n",
       "  </thead>\n",
       "  <tbody>\n",
       "    <tr>\n",
       "      <th>0</th>\n",
       "      <td>Boba Fett</td>\n",
       "      <td>boba@bountyhunters.com</td>\n",
       "      <td>42.00</td>\n",
       "    </tr>\n",
       "    <tr>\n",
       "      <th>1</th>\n",
       "      <td>Boba Fett</td>\n",
       "      <td>boba@bountyhunters.com</td>\n",
       "      <td>3.14</td>\n",
       "    </tr>\n",
       "    <tr>\n",
       "      <th>2</th>\n",
       "      <td>Bossk</td>\n",
       "      <td>boskk@bountyhunters.com</td>\n",
       "      <td>7.00</td>\n",
       "    </tr>\n",
       "    <tr>\n",
       "      <th>3</th>\n",
       "      <td>Bossk</td>\n",
       "      <td>boskk@bountyhunters.com</td>\n",
       "      <td>9.00</td>\n",
       "    </tr>\n",
       "    <tr>\n",
       "      <th>4</th>\n",
       "      <td>IG-88</td>\n",
       "      <td>ig88@bountyhunters.com</td>\n",
       "      <td>3.00</td>\n",
       "    </tr>\n",
       "    <tr>\n",
       "      <th>5</th>\n",
       "      <td>Dengar</td>\n",
       "      <td>dengar@bountyhunters.com</td>\n",
       "      <td>NaN</td>\n",
       "    </tr>\n",
       "  </tbody>\n",
       "</table>\n",
       "</div>"
      ],
      "text/plain": [
       "        Name                     Email  Number\n",
       "0  Boba Fett    boba@bountyhunters.com   42.00\n",
       "1  Boba Fett    boba@bountyhunters.com    3.14\n",
       "2      Bossk   boskk@bountyhunters.com    7.00\n",
       "3      Bossk   boskk@bountyhunters.com    9.00\n",
       "4      IG-88    ig88@bountyhunters.com    3.00\n",
       "5     Dengar  dengar@bountyhunters.com     NaN"
      ]
     },
     "execution_count": 191,
     "metadata": {},
     "output_type": "execute_result"
    }
   ],
   "source": [
    "pd.merge(email_addr, favorite_numbers, on=\"Name\")"
   ]
  },
  {
   "cell_type": "markdown",
   "metadata": {
    "slideshow": {
     "slide_type": "fragment"
    }
   },
   "source": [
    "Note that Boba Fett and Bossk occur 2 times since each had two favorite numbers."
   ]
  },
  {
   "cell_type": "markdown",
   "metadata": {
    "slideshow": {
     "slide_type": "slide"
    }
   },
   "source": [
    "#### 3.1.1.2 Left merge\n",
    "\n",
    "A **left merge** will keep all the entries in the left table even if they have no matching entry in the right table.  For example, we don't have 4-LOM's or Zuckess's favorite numbers, so the inner join simply dropped these rows. With a _left_ join, we preserve all rows from the lefthand table, with unmatched rows appearing as missing values."
   ]
  },
  {
   "cell_type": "code",
   "execution_count": 192,
   "metadata": {
    "slideshow": {
     "slide_type": "fragment"
    }
   },
   "outputs": [
    {
     "data": {
      "text/html": [
       "<div>\n",
       "<style scoped>\n",
       "    .dataframe tbody tr th:only-of-type {\n",
       "        vertical-align: middle;\n",
       "    }\n",
       "\n",
       "    .dataframe tbody tr th {\n",
       "        vertical-align: top;\n",
       "    }\n",
       "\n",
       "    .dataframe thead th {\n",
       "        text-align: right;\n",
       "    }\n",
       "</style>\n",
       "<table border=\"1\" class=\"dataframe\">\n",
       "  <thead>\n",
       "    <tr style=\"text-align: right;\">\n",
       "      <th></th>\n",
       "      <th>Name</th>\n",
       "      <th>Email</th>\n",
       "      <th>Number</th>\n",
       "    </tr>\n",
       "  </thead>\n",
       "  <tbody>\n",
       "    <tr>\n",
       "      <th>0</th>\n",
       "      <td>Boba Fett</td>\n",
       "      <td>boba@bountyhunters.com</td>\n",
       "      <td>42.00</td>\n",
       "    </tr>\n",
       "    <tr>\n",
       "      <th>1</th>\n",
       "      <td>Boba Fett</td>\n",
       "      <td>boba@bountyhunters.com</td>\n",
       "      <td>3.14</td>\n",
       "    </tr>\n",
       "    <tr>\n",
       "      <th>2</th>\n",
       "      <td>Bossk</td>\n",
       "      <td>boskk@bountyhunters.com</td>\n",
       "      <td>7.00</td>\n",
       "    </tr>\n",
       "    <tr>\n",
       "      <th>3</th>\n",
       "      <td>Bossk</td>\n",
       "      <td>boskk@bountyhunters.com</td>\n",
       "      <td>9.00</td>\n",
       "    </tr>\n",
       "    <tr>\n",
       "      <th>4</th>\n",
       "      <td>IG-88</td>\n",
       "      <td>ig88@bountyhunters.com</td>\n",
       "      <td>3.00</td>\n",
       "    </tr>\n",
       "    <tr>\n",
       "      <th>5</th>\n",
       "      <td>Dengar</td>\n",
       "      <td>dengar@bountyhunters.com</td>\n",
       "      <td>NaN</td>\n",
       "    </tr>\n",
       "    <tr>\n",
       "      <th>6</th>\n",
       "      <td>4-LOM</td>\n",
       "      <td>4lom@bountyhunters.com</td>\n",
       "      <td>NaN</td>\n",
       "    </tr>\n",
       "    <tr>\n",
       "      <th>7</th>\n",
       "      <td>Zuckuss</td>\n",
       "      <td>thezuck@bountyhunters.com</td>\n",
       "      <td>NaN</td>\n",
       "    </tr>\n",
       "  </tbody>\n",
       "</table>\n",
       "</div>"
      ],
      "text/plain": [
       "        Name                      Email  Number\n",
       "0  Boba Fett     boba@bountyhunters.com   42.00\n",
       "1  Boba Fett     boba@bountyhunters.com    3.14\n",
       "2      Bossk    boskk@bountyhunters.com    7.00\n",
       "3      Bossk    boskk@bountyhunters.com    9.00\n",
       "4      IG-88     ig88@bountyhunters.com    3.00\n",
       "5     Dengar   dengar@bountyhunters.com     NaN\n",
       "6      4-LOM     4lom@bountyhunters.com     NaN\n",
       "7    Zuckuss  thezuck@bountyhunters.com     NaN"
      ]
     },
     "execution_count": 192,
     "metadata": {},
     "output_type": "execute_result"
    }
   ],
   "source": [
    "pd.merge(email_addr, favorite_numbers, on=\"Name\", how=\"left\")"
   ]
  },
  {
   "cell_type": "code",
   "execution_count": 193,
   "metadata": {
    "slideshow": {
     "slide_type": "fragment"
    }
   },
   "outputs": [
    {
     "data": {
      "text/plain": [
       "True"
      ]
     },
     "execution_count": 193,
     "metadata": {},
     "output_type": "execute_result"
    }
   ],
   "source": [
    "a = pd.merge(email_addr, favorite_numbers, on=\"Name\", how=\"left\")\n",
    "b = pd.merge(favorite_numbers, email_addr, on=\"Name\", how=\"right\")\n",
    "all(a.index == b.index)"
   ]
  },
  {
   "cell_type": "markdown",
   "metadata": {
    "slideshow": {
     "slide_type": "slide"
    }
   },
   "source": [
    "#### 3.1.1.3 Outer Merge\n",
    "\n",
    "The outer join keeps entries in both tables even if they don't have a match in the other and substitutes NaN for missing values. \n",
    "\n"
   ]
  },
  {
   "cell_type": "code",
   "execution_count": 194,
   "metadata": {
    "slideshow": {
     "slide_type": "fragment"
    }
   },
   "outputs": [
    {
     "data": {
      "text/html": [
       "<div>\n",
       "<style scoped>\n",
       "    .dataframe tbody tr th:only-of-type {\n",
       "        vertical-align: middle;\n",
       "    }\n",
       "\n",
       "    .dataframe tbody tr th {\n",
       "        vertical-align: top;\n",
       "    }\n",
       "\n",
       "    .dataframe thead th {\n",
       "        text-align: right;\n",
       "    }\n",
       "</style>\n",
       "<table border=\"1\" class=\"dataframe\">\n",
       "  <thead>\n",
       "    <tr style=\"text-align: right;\">\n",
       "      <th></th>\n",
       "      <th>Name</th>\n",
       "      <th>Email</th>\n",
       "      <th>Number</th>\n",
       "    </tr>\n",
       "  </thead>\n",
       "  <tbody>\n",
       "    <tr>\n",
       "      <th>0</th>\n",
       "      <td>Boba Fett</td>\n",
       "      <td>boba@bountyhunters.com</td>\n",
       "      <td>42.00</td>\n",
       "    </tr>\n",
       "    <tr>\n",
       "      <th>1</th>\n",
       "      <td>Boba Fett</td>\n",
       "      <td>boba@bountyhunters.com</td>\n",
       "      <td>3.14</td>\n",
       "    </tr>\n",
       "    <tr>\n",
       "      <th>2</th>\n",
       "      <td>Bossk</td>\n",
       "      <td>boskk@bountyhunters.com</td>\n",
       "      <td>7.00</td>\n",
       "    </tr>\n",
       "    <tr>\n",
       "      <th>3</th>\n",
       "      <td>Bossk</td>\n",
       "      <td>boskk@bountyhunters.com</td>\n",
       "      <td>9.00</td>\n",
       "    </tr>\n",
       "    <tr>\n",
       "      <th>4</th>\n",
       "      <td>IG-88</td>\n",
       "      <td>ig88@bountyhunters.com</td>\n",
       "      <td>3.00</td>\n",
       "    </tr>\n",
       "    <tr>\n",
       "      <th>5</th>\n",
       "      <td>Dengar</td>\n",
       "      <td>dengar@bountyhunters.com</td>\n",
       "      <td>NaN</td>\n",
       "    </tr>\n",
       "    <tr>\n",
       "      <th>6</th>\n",
       "      <td>4-LOM</td>\n",
       "      <td>4lom@bountyhunters.com</td>\n",
       "      <td>NaN</td>\n",
       "    </tr>\n",
       "    <tr>\n",
       "      <th>7</th>\n",
       "      <td>Zuckuss</td>\n",
       "      <td>thezuck@bountyhunters.com</td>\n",
       "      <td>NaN</td>\n",
       "    </tr>\n",
       "  </tbody>\n",
       "</table>\n",
       "</div>"
      ],
      "text/plain": [
       "        Name                      Email  Number\n",
       "0  Boba Fett     boba@bountyhunters.com   42.00\n",
       "1  Boba Fett     boba@bountyhunters.com    3.14\n",
       "2      Bossk    boskk@bountyhunters.com    7.00\n",
       "3      Bossk    boskk@bountyhunters.com    9.00\n",
       "4      IG-88     ig88@bountyhunters.com    3.00\n",
       "5     Dengar   dengar@bountyhunters.com     NaN\n",
       "6      4-LOM     4lom@bountyhunters.com     NaN\n",
       "7    Zuckuss  thezuck@bountyhunters.com     NaN"
      ]
     },
     "execution_count": 194,
     "metadata": {},
     "output_type": "execute_result"
    }
   ],
   "source": [
    "pd.merge(email_addr, favorite_numbers, on=\"Name\", how=\"outer\")"
   ]
  },
  {
   "cell_type": "markdown",
   "metadata": {
    "slideshow": {
     "slide_type": "slide"
    }
   },
   "source": [
    "### 3.1.2 Join\n",
    "\n",
    "Pandas also provides a join function which joins two tables on their index.  This function also let's you specify what kind of join you would like."
   ]
  },
  {
   "cell_type": "code",
   "execution_count": 195,
   "metadata": {
    "scrolled": true,
    "slideshow": {
     "slide_type": "fragment"
    }
   },
   "outputs": [],
   "source": [
    "favorite_numbers.set_index(\"Name\", inplace=True)\n",
    "email_addr = email_addr.set_index(\"Name\")"
   ]
  },
  {
   "cell_type": "code",
   "execution_count": 196,
   "metadata": {
    "slideshow": {
     "slide_type": "fragment"
    }
   },
   "outputs": [
    {
     "data": {
      "text/html": [
       "<div>\n",
       "<style scoped>\n",
       "    .dataframe tbody tr th:only-of-type {\n",
       "        vertical-align: middle;\n",
       "    }\n",
       "\n",
       "    .dataframe tbody tr th {\n",
       "        vertical-align: top;\n",
       "    }\n",
       "\n",
       "    .dataframe thead th {\n",
       "        text-align: right;\n",
       "    }\n",
       "</style>\n",
       "<table border=\"1\" class=\"dataframe\">\n",
       "  <thead>\n",
       "    <tr style=\"text-align: right;\">\n",
       "      <th></th>\n",
       "      <th>Email</th>\n",
       "      <th>Number</th>\n",
       "    </tr>\n",
       "    <tr>\n",
       "      <th>Name</th>\n",
       "      <th></th>\n",
       "      <th></th>\n",
       "    </tr>\n",
       "  </thead>\n",
       "  <tbody>\n",
       "    <tr>\n",
       "      <th>4-LOM</th>\n",
       "      <td>4lom@bountyhunters.com</td>\n",
       "      <td>NaN</td>\n",
       "    </tr>\n",
       "    <tr>\n",
       "      <th>Boba Fett</th>\n",
       "      <td>boba@bountyhunters.com</td>\n",
       "      <td>42.00</td>\n",
       "    </tr>\n",
       "    <tr>\n",
       "      <th>Boba Fett</th>\n",
       "      <td>boba@bountyhunters.com</td>\n",
       "      <td>3.14</td>\n",
       "    </tr>\n",
       "    <tr>\n",
       "      <th>Bossk</th>\n",
       "      <td>boskk@bountyhunters.com</td>\n",
       "      <td>7.00</td>\n",
       "    </tr>\n",
       "    <tr>\n",
       "      <th>Bossk</th>\n",
       "      <td>boskk@bountyhunters.com</td>\n",
       "      <td>9.00</td>\n",
       "    </tr>\n",
       "    <tr>\n",
       "      <th>Dengar</th>\n",
       "      <td>dengar@bountyhunters.com</td>\n",
       "      <td>NaN</td>\n",
       "    </tr>\n",
       "    <tr>\n",
       "      <th>IG-88</th>\n",
       "      <td>ig88@bountyhunters.com</td>\n",
       "      <td>3.00</td>\n",
       "    </tr>\n",
       "    <tr>\n",
       "      <th>Zuckuss</th>\n",
       "      <td>thezuck@bountyhunters.com</td>\n",
       "      <td>NaN</td>\n",
       "    </tr>\n",
       "  </tbody>\n",
       "</table>\n",
       "</div>"
      ],
      "text/plain": [
       "                               Email  Number\n",
       "Name                                        \n",
       "4-LOM         4lom@bountyhunters.com     NaN\n",
       "Boba Fett     boba@bountyhunters.com   42.00\n",
       "Boba Fett     boba@bountyhunters.com    3.14\n",
       "Bossk        boskk@bountyhunters.com    7.00\n",
       "Bossk        boskk@bountyhunters.com    9.00\n",
       "Dengar      dengar@bountyhunters.com     NaN\n",
       "IG-88         ig88@bountyhunters.com    3.00\n",
       "Zuckuss    thezuck@bountyhunters.com     NaN"
      ]
     },
     "execution_count": 196,
     "metadata": {},
     "output_type": "execute_result"
    }
   ],
   "source": [
    "email_addr.join(favorite_numbers)"
   ]
  },
  {
   "cell_type": "markdown",
   "metadata": {
    "slideshow": {
     "slide_type": "fragment"
    }
   },
   "source": [
    "Note the default join type is `left`, rather than inner. I rarely use `join()` FWIW."
   ]
  },
  {
   "cell_type": "markdown",
   "metadata": {},
   "source": [
    "### 3.1.3 More resources to learn about merges and joins\n",
    "\n",
    "These are powerful tools and there are some subtleties in using them.  I recommend doing a fair amount of reading and a lot of practicing to get these ideas and the accompanying syntax internalized into your programming toolkit.\n",
    "\n",
    "Here is another good (and short) tutorial: https://chrisalbon.com/python/pandas_join_merge_dataframe.html\n",
    "\n",
    "And as always, read the docs: https://pandas.pydata.org/pandas-docs/stable/user_guide/merging.html"
   ]
  },
  {
   "cell_type": "markdown",
   "metadata": {
    "slideshow": {
     "slide_type": "slide"
    }
   },
   "source": [
    "## 3.2 Using Merge and `str` ops on Real Data\n",
    "\n",
    "Now that we have some concepts and syntax under control, let's try using them on some larger data tables from the Census, and learn how to use string operations to work with these data."
   ]
  },
  {
   "cell_type": "markdown",
   "metadata": {
    "slideshow": {
     "slide_type": "fragment"
    }
   },
   "source": [
    "### 3.2.1 Importing County level Census Data for the U.S.\n",
    "\n",
    "Lets say we want to analyze county level population trends. I downloaded two population estimates tables for U.S. Counties and provide them for you here. One contains 2000-2010 data, and the other has 2010-2016.  Lets load them and do some data exploration and manipulation to get a merged county level population series for the 2000 - 2016 period."
   ]
  },
  {
   "cell_type": "code",
   "execution_count": 197,
   "metadata": {
    "scrolled": true,
    "slideshow": {
     "slide_type": "fragment"
    }
   },
   "outputs": [
    {
     "data": {
      "text/html": [
       "<div>\n",
       "<style scoped>\n",
       "    .dataframe tbody tr th:only-of-type {\n",
       "        vertical-align: middle;\n",
       "    }\n",
       "\n",
       "    .dataframe tbody tr th {\n",
       "        vertical-align: top;\n",
       "    }\n",
       "\n",
       "    .dataframe thead th {\n",
       "        text-align: right;\n",
       "    }\n",
       "</style>\n",
       "<table border=\"1\" class=\"dataframe\">\n",
       "  <thead>\n",
       "    <tr style=\"text-align: right;\">\n",
       "      <th></th>\n",
       "      <th>SUMLEV</th>\n",
       "      <th>REGION</th>\n",
       "      <th>DIVISION</th>\n",
       "      <th>STATE</th>\n",
       "      <th>COUNTY</th>\n",
       "      <th>STNAME</th>\n",
       "      <th>CTYNAME</th>\n",
       "      <th>ESTIMATESBASE2000</th>\n",
       "      <th>POPESTIMATE2000</th>\n",
       "      <th>POPESTIMATE2001</th>\n",
       "      <th>POPESTIMATE2002</th>\n",
       "      <th>POPESTIMATE2003</th>\n",
       "      <th>POPESTIMATE2004</th>\n",
       "      <th>POPESTIMATE2005</th>\n",
       "      <th>POPESTIMATE2006</th>\n",
       "      <th>POPESTIMATE2007</th>\n",
       "      <th>POPESTIMATE2008</th>\n",
       "      <th>POPESTIMATE2009</th>\n",
       "      <th>CENSUS2010POP</th>\n",
       "      <th>POPESTIMATE2010</th>\n",
       "    </tr>\n",
       "  </thead>\n",
       "  <tbody>\n",
       "    <tr>\n",
       "      <th>0</th>\n",
       "      <td>40</td>\n",
       "      <td>3</td>\n",
       "      <td>6</td>\n",
       "      <td>1</td>\n",
       "      <td>0</td>\n",
       "      <td>Alabama</td>\n",
       "      <td>Alabama</td>\n",
       "      <td>4447207</td>\n",
       "      <td>4452173</td>\n",
       "      <td>4467634</td>\n",
       "      <td>4480089</td>\n",
       "      <td>4503491</td>\n",
       "      <td>4530729</td>\n",
       "      <td>4569805</td>\n",
       "      <td>4628981</td>\n",
       "      <td>4672840</td>\n",
       "      <td>4718206</td>\n",
       "      <td>4757938</td>\n",
       "      <td>4779736</td>\n",
       "      <td>4785298</td>\n",
       "    </tr>\n",
       "    <tr>\n",
       "      <th>1</th>\n",
       "      <td>50</td>\n",
       "      <td>3</td>\n",
       "      <td>6</td>\n",
       "      <td>1</td>\n",
       "      <td>1</td>\n",
       "      <td>Alabama</td>\n",
       "      <td>Autauga County</td>\n",
       "      <td>43751</td>\n",
       "      <td>44021</td>\n",
       "      <td>44889</td>\n",
       "      <td>45909</td>\n",
       "      <td>46800</td>\n",
       "      <td>48366</td>\n",
       "      <td>49676</td>\n",
       "      <td>51328</td>\n",
       "      <td>52405</td>\n",
       "      <td>53277</td>\n",
       "      <td>54135</td>\n",
       "      <td>54571</td>\n",
       "      <td>54632</td>\n",
       "    </tr>\n",
       "    <tr>\n",
       "      <th>2</th>\n",
       "      <td>50</td>\n",
       "      <td>3</td>\n",
       "      <td>6</td>\n",
       "      <td>1</td>\n",
       "      <td>3</td>\n",
       "      <td>Alabama</td>\n",
       "      <td>Baldwin County</td>\n",
       "      <td>140416</td>\n",
       "      <td>141342</td>\n",
       "      <td>144875</td>\n",
       "      <td>147957</td>\n",
       "      <td>151509</td>\n",
       "      <td>156266</td>\n",
       "      <td>162183</td>\n",
       "      <td>168121</td>\n",
       "      <td>172404</td>\n",
       "      <td>175827</td>\n",
       "      <td>179406</td>\n",
       "      <td>182265</td>\n",
       "      <td>183195</td>\n",
       "    </tr>\n",
       "    <tr>\n",
       "      <th>3</th>\n",
       "      <td>50</td>\n",
       "      <td>3</td>\n",
       "      <td>6</td>\n",
       "      <td>1</td>\n",
       "      <td>5</td>\n",
       "      <td>Alabama</td>\n",
       "      <td>Barbour County</td>\n",
       "      <td>29042</td>\n",
       "      <td>29015</td>\n",
       "      <td>28863</td>\n",
       "      <td>28653</td>\n",
       "      <td>28594</td>\n",
       "      <td>28287</td>\n",
       "      <td>28027</td>\n",
       "      <td>27861</td>\n",
       "      <td>27757</td>\n",
       "      <td>27808</td>\n",
       "      <td>27657</td>\n",
       "      <td>27457</td>\n",
       "      <td>27411</td>\n",
       "    </tr>\n",
       "    <tr>\n",
       "      <th>4</th>\n",
       "      <td>50</td>\n",
       "      <td>3</td>\n",
       "      <td>6</td>\n",
       "      <td>1</td>\n",
       "      <td>7</td>\n",
       "      <td>Alabama</td>\n",
       "      <td>Bibb County</td>\n",
       "      <td>19856</td>\n",
       "      <td>19913</td>\n",
       "      <td>21028</td>\n",
       "      <td>21199</td>\n",
       "      <td>21399</td>\n",
       "      <td>21721</td>\n",
       "      <td>22042</td>\n",
       "      <td>22099</td>\n",
       "      <td>22438</td>\n",
       "      <td>22705</td>\n",
       "      <td>22941</td>\n",
       "      <td>22915</td>\n",
       "      <td>22867</td>\n",
       "    </tr>\n",
       "  </tbody>\n",
       "</table>\n",
       "</div>"
      ],
      "text/plain": [
       "   SUMLEV  REGION  DIVISION  STATE  COUNTY   STNAME         CTYNAME  \\\n",
       "0      40       3         6      1       0  Alabama         Alabama   \n",
       "1      50       3         6      1       1  Alabama  Autauga County   \n",
       "2      50       3         6      1       3  Alabama  Baldwin County   \n",
       "3      50       3         6      1       5  Alabama  Barbour County   \n",
       "4      50       3         6      1       7  Alabama     Bibb County   \n",
       "\n",
       "   ESTIMATESBASE2000  POPESTIMATE2000  POPESTIMATE2001  POPESTIMATE2002  \\\n",
       "0            4447207          4452173          4467634          4480089   \n",
       "1              43751            44021            44889            45909   \n",
       "2             140416           141342           144875           147957   \n",
       "3              29042            29015            28863            28653   \n",
       "4              19856            19913            21028            21199   \n",
       "\n",
       "   POPESTIMATE2003  POPESTIMATE2004  POPESTIMATE2005  POPESTIMATE2006  \\\n",
       "0          4503491          4530729          4569805          4628981   \n",
       "1            46800            48366            49676            51328   \n",
       "2           151509           156266           162183           168121   \n",
       "3            28594            28287            28027            27861   \n",
       "4            21399            21721            22042            22099   \n",
       "\n",
       "   POPESTIMATE2007  POPESTIMATE2008  POPESTIMATE2009  CENSUS2010POP  \\\n",
       "0          4672840          4718206          4757938        4779736   \n",
       "1            52405            53277            54135          54571   \n",
       "2           172404           175827           179406         182265   \n",
       "3            27757            27808            27657          27457   \n",
       "4            22438            22705            22941          22915   \n",
       "\n",
       "   POPESTIMATE2010  \n",
       "0          4785298  \n",
       "1            54632  \n",
       "2           183195  \n",
       "3            27411  \n",
       "4            22867  "
      ]
     },
     "execution_count": 197,
     "metadata": {},
     "output_type": "execute_result"
    }
   ],
   "source": [
    "co00 = pd.read_csv('data/co-est00int-tot.csv', encoding='latin1')\n",
    "co00.head()"
   ]
  },
  {
   "cell_type": "code",
   "execution_count": 198,
   "metadata": {
    "scrolled": true,
    "slideshow": {
     "slide_type": "fragment"
    }
   },
   "outputs": [
    {
     "data": {
      "text/html": [
       "<div>\n",
       "<style scoped>\n",
       "    .dataframe tbody tr th:only-of-type {\n",
       "        vertical-align: middle;\n",
       "    }\n",
       "\n",
       "    .dataframe tbody tr th {\n",
       "        vertical-align: top;\n",
       "    }\n",
       "\n",
       "    .dataframe thead th {\n",
       "        text-align: right;\n",
       "    }\n",
       "</style>\n",
       "<table border=\"1\" class=\"dataframe\">\n",
       "  <thead>\n",
       "    <tr style=\"text-align: right;\">\n",
       "      <th></th>\n",
       "      <th>SUMLEV</th>\n",
       "      <th>REGION</th>\n",
       "      <th>DIVISION</th>\n",
       "      <th>STATE</th>\n",
       "      <th>COUNTY</th>\n",
       "      <th>STNAME</th>\n",
       "      <th>CTYNAME</th>\n",
       "      <th>CENSUS2010POP</th>\n",
       "      <th>ESTIMATESBASE2010</th>\n",
       "      <th>POPESTIMATE2010</th>\n",
       "      <th>...</th>\n",
       "      <th>RDOMESTICMIG2013</th>\n",
       "      <th>RDOMESTICMIG2014</th>\n",
       "      <th>RDOMESTICMIG2015</th>\n",
       "      <th>RDOMESTICMIG2016</th>\n",
       "      <th>RNETMIG2011</th>\n",
       "      <th>RNETMIG2012</th>\n",
       "      <th>RNETMIG2013</th>\n",
       "      <th>RNETMIG2014</th>\n",
       "      <th>RNETMIG2015</th>\n",
       "      <th>RNETMIG2016</th>\n",
       "    </tr>\n",
       "  </thead>\n",
       "  <tbody>\n",
       "    <tr>\n",
       "      <th>0</th>\n",
       "      <td>40</td>\n",
       "      <td>3</td>\n",
       "      <td>6</td>\n",
       "      <td>1</td>\n",
       "      <td>0</td>\n",
       "      <td>Alabama</td>\n",
       "      <td>Alabama</td>\n",
       "      <td>4779736</td>\n",
       "      <td>4780131</td>\n",
       "      <td>4785492</td>\n",
       "      <td>...</td>\n",
       "      <td>0.335703</td>\n",
       "      <td>0.086842</td>\n",
       "      <td>-0.642255</td>\n",
       "      <td>-0.177829</td>\n",
       "      <td>0.709411</td>\n",
       "      <td>1.062617</td>\n",
       "      <td>1.202226</td>\n",
       "      <td>1.065267</td>\n",
       "      <td>0.411670</td>\n",
       "      <td>0.797351</td>\n",
       "    </tr>\n",
       "    <tr>\n",
       "      <th>1</th>\n",
       "      <td>50</td>\n",
       "      <td>3</td>\n",
       "      <td>6</td>\n",
       "      <td>1</td>\n",
       "      <td>1</td>\n",
       "      <td>Alabama</td>\n",
       "      <td>Autauga County</td>\n",
       "      <td>54571</td>\n",
       "      <td>54571</td>\n",
       "      <td>54742</td>\n",
       "      <td>...</td>\n",
       "      <td>-4.607582</td>\n",
       "      <td>2.149969</td>\n",
       "      <td>-2.799695</td>\n",
       "      <td>4.128528</td>\n",
       "      <td>6.163804</td>\n",
       "      <td>-5.295515</td>\n",
       "      <td>-4.571158</td>\n",
       "      <td>2.259290</td>\n",
       "      <td>-2.654256</td>\n",
       "      <td>4.255281</td>\n",
       "    </tr>\n",
       "    <tr>\n",
       "      <th>2</th>\n",
       "      <td>50</td>\n",
       "      <td>3</td>\n",
       "      <td>6</td>\n",
       "      <td>1</td>\n",
       "      <td>3</td>\n",
       "      <td>Alabama</td>\n",
       "      <td>Baldwin County</td>\n",
       "      <td>182265</td>\n",
       "      <td>182265</td>\n",
       "      <td>183199</td>\n",
       "      <td>...</td>\n",
       "      <td>21.672935</td>\n",
       "      <td>19.038117</td>\n",
       "      <td>17.311339</td>\n",
       "      <td>19.628723</td>\n",
       "      <td>15.757654</td>\n",
       "      <td>18.612620</td>\n",
       "      <td>22.757100</td>\n",
       "      <td>20.248574</td>\n",
       "      <td>18.585398</td>\n",
       "      <td>20.807611</td>\n",
       "    </tr>\n",
       "    <tr>\n",
       "      <th>3</th>\n",
       "      <td>50</td>\n",
       "      <td>3</td>\n",
       "      <td>6</td>\n",
       "      <td>1</td>\n",
       "      <td>5</td>\n",
       "      <td>Alabama</td>\n",
       "      <td>Barbour County</td>\n",
       "      <td>27457</td>\n",
       "      <td>27457</td>\n",
       "      <td>27348</td>\n",
       "      <td>...</td>\n",
       "      <td>-7.027927</td>\n",
       "      <td>-4.208488</td>\n",
       "      <td>-16.593442</td>\n",
       "      <td>-9.495549</td>\n",
       "      <td>-1.280316</td>\n",
       "      <td>-7.418561</td>\n",
       "      <td>-7.360829</td>\n",
       "      <td>-4.506434</td>\n",
       "      <td>-16.819716</td>\n",
       "      <td>-9.686991</td>\n",
       "    </tr>\n",
       "    <tr>\n",
       "      <th>4</th>\n",
       "      <td>50</td>\n",
       "      <td>3</td>\n",
       "      <td>6</td>\n",
       "      <td>1</td>\n",
       "      <td>7</td>\n",
       "      <td>Alabama</td>\n",
       "      <td>Bibb County</td>\n",
       "      <td>22915</td>\n",
       "      <td>22919</td>\n",
       "      <td>22861</td>\n",
       "      <td>...</td>\n",
       "      <td>-6.556506</td>\n",
       "      <td>0.088865</td>\n",
       "      <td>0.088747</td>\n",
       "      <td>1.504292</td>\n",
       "      <td>-4.956466</td>\n",
       "      <td>-4.318988</td>\n",
       "      <td>-5.980596</td>\n",
       "      <td>0.888652</td>\n",
       "      <td>0.887469</td>\n",
       "      <td>2.300681</td>\n",
       "    </tr>\n",
       "  </tbody>\n",
       "</table>\n",
       "<p>5 rows × 116 columns</p>\n",
       "</div>"
      ],
      "text/plain": [
       "   SUMLEV  REGION  DIVISION  STATE  COUNTY   STNAME         CTYNAME  \\\n",
       "0      40       3         6      1       0  Alabama         Alabama   \n",
       "1      50       3         6      1       1  Alabama  Autauga County   \n",
       "2      50       3         6      1       3  Alabama  Baldwin County   \n",
       "3      50       3         6      1       5  Alabama  Barbour County   \n",
       "4      50       3         6      1       7  Alabama     Bibb County   \n",
       "\n",
       "   CENSUS2010POP  ESTIMATESBASE2010  POPESTIMATE2010  ...  RDOMESTICMIG2013  \\\n",
       "0        4779736            4780131          4785492  ...          0.335703   \n",
       "1          54571              54571            54742  ...         -4.607582   \n",
       "2         182265             182265           183199  ...         21.672935   \n",
       "3          27457              27457            27348  ...         -7.027927   \n",
       "4          22915              22919            22861  ...         -6.556506   \n",
       "\n",
       "   RDOMESTICMIG2014  RDOMESTICMIG2015  RDOMESTICMIG2016  RNETMIG2011  \\\n",
       "0          0.086842         -0.642255         -0.177829     0.709411   \n",
       "1          2.149969         -2.799695          4.128528     6.163804   \n",
       "2         19.038117         17.311339         19.628723    15.757654   \n",
       "3         -4.208488        -16.593442         -9.495549    -1.280316   \n",
       "4          0.088865          0.088747          1.504292    -4.956466   \n",
       "\n",
       "   RNETMIG2012  RNETMIG2013  RNETMIG2014  RNETMIG2015  RNETMIG2016  \n",
       "0     1.062617     1.202226     1.065267     0.411670     0.797351  \n",
       "1    -5.295515    -4.571158     2.259290    -2.654256     4.255281  \n",
       "2    18.612620    22.757100    20.248574    18.585398    20.807611  \n",
       "3    -7.418561    -7.360829    -4.506434   -16.819716    -9.686991  \n",
       "4    -4.318988    -5.980596     0.888652     0.887469     2.300681  \n",
       "\n",
       "[5 rows x 116 columns]"
      ]
     },
     "execution_count": 198,
     "metadata": {},
     "output_type": "execute_result"
    }
   ],
   "source": [
    "co16 = pd.read_csv('data/co-est2016-alldata.csv', encoding='latin1')\n",
    "co16.head()"
   ]
  },
  {
   "cell_type": "markdown",
   "metadata": {
    "slideshow": {
     "slide_type": "slide"
    }
   },
   "source": [
    "#### 3.2.1.1 A note on character encodings\n",
    "One thing that you will encounter as you read data from various sources is that the **character encoding** might be unusual, and require setting the encoding on the read statement.  Full documentation on this is available here:\n",
    "https://docs.python.org/3/library/codecs.html#standard-encodings\n",
    "\n",
    "Some of the most common ones are:\n",
    "\n",
    "- latin1\n",
    "- iso-8859-1\n",
    "- utf_8\n",
    "- utf_16\n",
    "- utf_32"
   ]
  },
  {
   "cell_type": "markdown",
   "metadata": {
    "slideshow": {
     "slide_type": "slide"
    }
   },
   "source": [
    "Let's see what happens when you try loading a csv file with an encoding issue:"
   ]
  },
  {
   "cell_type": "code",
   "execution_count": 200,
   "metadata": {
    "scrolled": true,
    "slideshow": {
     "slide_type": "fragment"
    }
   },
   "outputs": [
    {
     "data": {
      "text/html": [
       "<div>\n",
       "<style scoped>\n",
       "    .dataframe tbody tr th:only-of-type {\n",
       "        vertical-align: middle;\n",
       "    }\n",
       "\n",
       "    .dataframe tbody tr th {\n",
       "        vertical-align: top;\n",
       "    }\n",
       "\n",
       "    .dataframe thead th {\n",
       "        text-align: right;\n",
       "    }\n",
       "</style>\n",
       "<table border=\"1\" class=\"dataframe\">\n",
       "  <thead>\n",
       "    <tr style=\"text-align: right;\">\n",
       "      <th></th>\n",
       "      <th>SUMLEV</th>\n",
       "      <th>REGION</th>\n",
       "      <th>DIVISION</th>\n",
       "      <th>STATE</th>\n",
       "      <th>COUNTY</th>\n",
       "      <th>STNAME</th>\n",
       "      <th>CTYNAME</th>\n",
       "      <th>ESTIMATESBASE2000</th>\n",
       "      <th>POPESTIMATE2000</th>\n",
       "      <th>POPESTIMATE2001</th>\n",
       "      <th>POPESTIMATE2002</th>\n",
       "      <th>POPESTIMATE2003</th>\n",
       "      <th>POPESTIMATE2004</th>\n",
       "      <th>POPESTIMATE2005</th>\n",
       "      <th>POPESTIMATE2006</th>\n",
       "      <th>POPESTIMATE2007</th>\n",
       "      <th>POPESTIMATE2008</th>\n",
       "      <th>POPESTIMATE2009</th>\n",
       "      <th>CENSUS2010POP</th>\n",
       "      <th>POPESTIMATE2010</th>\n",
       "    </tr>\n",
       "  </thead>\n",
       "  <tbody>\n",
       "    <tr>\n",
       "      <th>0</th>\n",
       "      <td>40</td>\n",
       "      <td>3</td>\n",
       "      <td>6</td>\n",
       "      <td>1</td>\n",
       "      <td>0</td>\n",
       "      <td>Alabama</td>\n",
       "      <td>Alabama</td>\n",
       "      <td>4447207</td>\n",
       "      <td>4452173</td>\n",
       "      <td>4467634</td>\n",
       "      <td>4480089</td>\n",
       "      <td>4503491</td>\n",
       "      <td>4530729</td>\n",
       "      <td>4569805</td>\n",
       "      <td>4628981</td>\n",
       "      <td>4672840</td>\n",
       "      <td>4718206</td>\n",
       "      <td>4757938</td>\n",
       "      <td>4779736</td>\n",
       "      <td>4785298</td>\n",
       "    </tr>\n",
       "    <tr>\n",
       "      <th>1</th>\n",
       "      <td>50</td>\n",
       "      <td>3</td>\n",
       "      <td>6</td>\n",
       "      <td>1</td>\n",
       "      <td>1</td>\n",
       "      <td>Alabama</td>\n",
       "      <td>Autauga County</td>\n",
       "      <td>43751</td>\n",
       "      <td>44021</td>\n",
       "      <td>44889</td>\n",
       "      <td>45909</td>\n",
       "      <td>46800</td>\n",
       "      <td>48366</td>\n",
       "      <td>49676</td>\n",
       "      <td>51328</td>\n",
       "      <td>52405</td>\n",
       "      <td>53277</td>\n",
       "      <td>54135</td>\n",
       "      <td>54571</td>\n",
       "      <td>54632</td>\n",
       "    </tr>\n",
       "    <tr>\n",
       "      <th>2</th>\n",
       "      <td>50</td>\n",
       "      <td>3</td>\n",
       "      <td>6</td>\n",
       "      <td>1</td>\n",
       "      <td>3</td>\n",
       "      <td>Alabama</td>\n",
       "      <td>Baldwin County</td>\n",
       "      <td>140416</td>\n",
       "      <td>141342</td>\n",
       "      <td>144875</td>\n",
       "      <td>147957</td>\n",
       "      <td>151509</td>\n",
       "      <td>156266</td>\n",
       "      <td>162183</td>\n",
       "      <td>168121</td>\n",
       "      <td>172404</td>\n",
       "      <td>175827</td>\n",
       "      <td>179406</td>\n",
       "      <td>182265</td>\n",
       "      <td>183195</td>\n",
       "    </tr>\n",
       "    <tr>\n",
       "      <th>3</th>\n",
       "      <td>50</td>\n",
       "      <td>3</td>\n",
       "      <td>6</td>\n",
       "      <td>1</td>\n",
       "      <td>5</td>\n",
       "      <td>Alabama</td>\n",
       "      <td>Barbour County</td>\n",
       "      <td>29042</td>\n",
       "      <td>29015</td>\n",
       "      <td>28863</td>\n",
       "      <td>28653</td>\n",
       "      <td>28594</td>\n",
       "      <td>28287</td>\n",
       "      <td>28027</td>\n",
       "      <td>27861</td>\n",
       "      <td>27757</td>\n",
       "      <td>27808</td>\n",
       "      <td>27657</td>\n",
       "      <td>27457</td>\n",
       "      <td>27411</td>\n",
       "    </tr>\n",
       "    <tr>\n",
       "      <th>4</th>\n",
       "      <td>50</td>\n",
       "      <td>3</td>\n",
       "      <td>6</td>\n",
       "      <td>1</td>\n",
       "      <td>7</td>\n",
       "      <td>Alabama</td>\n",
       "      <td>Bibb County</td>\n",
       "      <td>19856</td>\n",
       "      <td>19913</td>\n",
       "      <td>21028</td>\n",
       "      <td>21199</td>\n",
       "      <td>21399</td>\n",
       "      <td>21721</td>\n",
       "      <td>22042</td>\n",
       "      <td>22099</td>\n",
       "      <td>22438</td>\n",
       "      <td>22705</td>\n",
       "      <td>22941</td>\n",
       "      <td>22915</td>\n",
       "      <td>22867</td>\n",
       "    </tr>\n",
       "  </tbody>\n",
       "</table>\n",
       "</div>"
      ],
      "text/plain": [
       "   SUMLEV  REGION  DIVISION  STATE  COUNTY   STNAME         CTYNAME  \\\n",
       "0      40       3         6      1       0  Alabama         Alabama   \n",
       "1      50       3         6      1       1  Alabama  Autauga County   \n",
       "2      50       3         6      1       3  Alabama  Baldwin County   \n",
       "3      50       3         6      1       5  Alabama  Barbour County   \n",
       "4      50       3         6      1       7  Alabama     Bibb County   \n",
       "\n",
       "   ESTIMATESBASE2000  POPESTIMATE2000  POPESTIMATE2001  POPESTIMATE2002  \\\n",
       "0            4447207          4452173          4467634          4480089   \n",
       "1              43751            44021            44889            45909   \n",
       "2             140416           141342           144875           147957   \n",
       "3              29042            29015            28863            28653   \n",
       "4              19856            19913            21028            21199   \n",
       "\n",
       "   POPESTIMATE2003  POPESTIMATE2004  POPESTIMATE2005  POPESTIMATE2006  \\\n",
       "0          4503491          4530729          4569805          4628981   \n",
       "1            46800            48366            49676            51328   \n",
       "2           151509           156266           162183           168121   \n",
       "3            28594            28287            28027            27861   \n",
       "4            21399            21721            22042            22099   \n",
       "\n",
       "   POPESTIMATE2007  POPESTIMATE2008  POPESTIMATE2009  CENSUS2010POP  \\\n",
       "0          4672840          4718206          4757938        4779736   \n",
       "1            52405            53277            54135          54571   \n",
       "2           172404           175827           179406         182265   \n",
       "3            27757            27808            27657          27457   \n",
       "4            22438            22705            22941          22915   \n",
       "\n",
       "   POPESTIMATE2010  \n",
       "0          4785298  \n",
       "1            54632  \n",
       "2           183195  \n",
       "3            27411  \n",
       "4            22867  "
      ]
     },
     "execution_count": 200,
     "metadata": {},
     "output_type": "execute_result"
    }
   ],
   "source": [
    "co00_wrong = pd.read_csv('data/co-est00int-tot.csv',encoding='latin1')\n",
    "co00_wrong.head()"
   ]
  },
  {
   "cell_type": "markdown",
   "metadata": {
    "slideshow": {
     "slide_type": "slide"
    }
   },
   "source": [
    "Pandas will try to use `utf-8` to parse your data by default, and if it has trouble it will throw an error and tell you exactly which character caused it. Trying the `latin1` codec is always a good next step."
   ]
  },
  {
   "cell_type": "markdown",
   "metadata": {
    "slideshow": {
     "slide_type": "slide"
    }
   },
   "source": [
    "### 3.2.2 Data Exploration and Cleaning"
   ]
  },
  {
   "cell_type": "markdown",
   "metadata": {
    "slideshow": {
     "slide_type": "fragment"
    }
   },
   "source": [
    "Let's look at the columns in our dataframe now."
   ]
  },
  {
   "cell_type": "code",
   "execution_count": 201,
   "metadata": {
    "scrolled": true,
    "slideshow": {
     "slide_type": "fragment"
    }
   },
   "outputs": [
    {
     "data": {
      "text/plain": [
       "['SUMLEV',\n",
       " 'REGION',\n",
       " 'DIVISION',\n",
       " 'STATE',\n",
       " 'COUNTY',\n",
       " 'STNAME',\n",
       " 'CTYNAME',\n",
       " 'CENSUS2010POP',\n",
       " 'ESTIMATESBASE2010',\n",
       " 'POPESTIMATE2010',\n",
       " 'POPESTIMATE2011',\n",
       " 'POPESTIMATE2012',\n",
       " 'POPESTIMATE2013',\n",
       " 'POPESTIMATE2014',\n",
       " 'POPESTIMATE2015',\n",
       " 'POPESTIMATE2016',\n",
       " 'NPOPCHG_2010',\n",
       " 'NPOPCHG_2011',\n",
       " 'NPOPCHG_2012',\n",
       " 'NPOPCHG_2013',\n",
       " 'NPOPCHG_2014',\n",
       " 'NPOPCHG_2015',\n",
       " 'NPOPCHG_2016',\n",
       " 'BIRTHS2010',\n",
       " 'BIRTHS2011',\n",
       " 'BIRTHS2012',\n",
       " 'BIRTHS2013',\n",
       " 'BIRTHS2014',\n",
       " 'BIRTHS2015',\n",
       " 'BIRTHS2016',\n",
       " 'DEATHS2010',\n",
       " 'DEATHS2011',\n",
       " 'DEATHS2012',\n",
       " 'DEATHS2013',\n",
       " 'DEATHS2014',\n",
       " 'DEATHS2015',\n",
       " 'DEATHS2016',\n",
       " 'NATURALINC2010',\n",
       " 'NATURALINC2011',\n",
       " 'NATURALINC2012',\n",
       " 'NATURALINC2013',\n",
       " 'NATURALINC2014',\n",
       " 'NATURALINC2015',\n",
       " 'NATURALINC2016',\n",
       " 'INTERNATIONALMIG2010',\n",
       " 'INTERNATIONALMIG2011',\n",
       " 'INTERNATIONALMIG2012',\n",
       " 'INTERNATIONALMIG2013',\n",
       " 'INTERNATIONALMIG2014',\n",
       " 'INTERNATIONALMIG2015',\n",
       " 'INTERNATIONALMIG2016',\n",
       " 'DOMESTICMIG2010',\n",
       " 'DOMESTICMIG2011',\n",
       " 'DOMESTICMIG2012',\n",
       " 'DOMESTICMIG2013',\n",
       " 'DOMESTICMIG2014',\n",
       " 'DOMESTICMIG2015',\n",
       " 'DOMESTICMIG2016',\n",
       " 'NETMIG2010',\n",
       " 'NETMIG2011',\n",
       " 'NETMIG2012',\n",
       " 'NETMIG2013',\n",
       " 'NETMIG2014',\n",
       " 'NETMIG2015',\n",
       " 'NETMIG2016',\n",
       " 'RESIDUAL2010',\n",
       " 'RESIDUAL2011',\n",
       " 'RESIDUAL2012',\n",
       " 'RESIDUAL2013',\n",
       " 'RESIDUAL2014',\n",
       " 'RESIDUAL2015',\n",
       " 'RESIDUAL2016',\n",
       " 'GQESTIMATESBASE2010',\n",
       " 'GQESTIMATES2010',\n",
       " 'GQESTIMATES2011',\n",
       " 'GQESTIMATES2012',\n",
       " 'GQESTIMATES2013',\n",
       " 'GQESTIMATES2014',\n",
       " 'GQESTIMATES2015',\n",
       " 'GQESTIMATES2016',\n",
       " 'RBIRTH2011',\n",
       " 'RBIRTH2012',\n",
       " 'RBIRTH2013',\n",
       " 'RBIRTH2014',\n",
       " 'RBIRTH2015',\n",
       " 'RBIRTH2016',\n",
       " 'RDEATH2011',\n",
       " 'RDEATH2012',\n",
       " 'RDEATH2013',\n",
       " 'RDEATH2014',\n",
       " 'RDEATH2015',\n",
       " 'RDEATH2016',\n",
       " 'RNATURALINC2011',\n",
       " 'RNATURALINC2012',\n",
       " 'RNATURALINC2013',\n",
       " 'RNATURALINC2014',\n",
       " 'RNATURALINC2015',\n",
       " 'RNATURALINC2016',\n",
       " 'RINTERNATIONALMIG2011',\n",
       " 'RINTERNATIONALMIG2012',\n",
       " 'RINTERNATIONALMIG2013',\n",
       " 'RINTERNATIONALMIG2014',\n",
       " 'RINTERNATIONALMIG2015',\n",
       " 'RINTERNATIONALMIG2016',\n",
       " 'RDOMESTICMIG2011',\n",
       " 'RDOMESTICMIG2012',\n",
       " 'RDOMESTICMIG2013',\n",
       " 'RDOMESTICMIG2014',\n",
       " 'RDOMESTICMIG2015',\n",
       " 'RDOMESTICMIG2016',\n",
       " 'RNETMIG2011',\n",
       " 'RNETMIG2012',\n",
       " 'RNETMIG2013',\n",
       " 'RNETMIG2014',\n",
       " 'RNETMIG2015',\n",
       " 'RNETMIG2016']"
      ]
     },
     "execution_count": 201,
     "metadata": {},
     "output_type": "execute_result"
    }
   ],
   "source": [
    "list(co16.columns)"
   ]
  },
  {
   "cell_type": "code",
   "execution_count": 202,
   "metadata": {
    "slideshow": {
     "slide_type": "slide"
    }
   },
   "outputs": [
    {
     "data": {
      "text/plain": [
       "(3193, 116)"
      ]
     },
     "execution_count": 202,
     "metadata": {},
     "output_type": "execute_result"
    }
   ],
   "source": [
    "co16.shape"
   ]
  },
  {
   "cell_type": "markdown",
   "metadata": {
    "slideshow": {
     "slide_type": "fragment"
    }
   },
   "source": [
    "116 columns!?!  We don't want all of those!  How can we keep just the columns we want?"
   ]
  },
  {
   "cell_type": "code",
   "execution_count": 203,
   "metadata": {
    "slideshow": {
     "slide_type": "fragment"
    }
   },
   "outputs": [
    {
     "data": {
      "text/plain": [
       "Index(['SUMLEV', 'REGION', 'DIVISION', 'STATE', 'COUNTY', 'STNAME', 'CTYNAME',\n",
       "       'CENSUS2010POP', 'ESTIMATESBASE2010', 'POPESTIMATE2010',\n",
       "       'POPESTIMATE2011', 'POPESTIMATE2012', 'POPESTIMATE2013',\n",
       "       'POPESTIMATE2014', 'POPESTIMATE2015', 'POPESTIMATE2016'],\n",
       "      dtype='object')"
      ]
     },
     "execution_count": 203,
     "metadata": {},
     "output_type": "execute_result"
    }
   ],
   "source": [
    "co16s = co16.loc[:, :'POPESTIMATE2016']\n",
    "co16s.columns"
   ]
  },
  {
   "cell_type": "markdown",
   "metadata": {
    "slideshow": {
     "slide_type": "fragment"
    }
   },
   "source": [
    "Ahhh, that's better..."
   ]
  },
  {
   "cell_type": "code",
   "execution_count": 204,
   "metadata": {
    "scrolled": true,
    "slideshow": {
     "slide_type": "slide"
    }
   },
   "outputs": [
    {
     "data": {
      "text/html": [
       "<div>\n",
       "<style scoped>\n",
       "    .dataframe tbody tr th:only-of-type {\n",
       "        vertical-align: middle;\n",
       "    }\n",
       "\n",
       "    .dataframe tbody tr th {\n",
       "        vertical-align: top;\n",
       "    }\n",
       "\n",
       "    .dataframe thead th {\n",
       "        text-align: right;\n",
       "    }\n",
       "</style>\n",
       "<table border=\"1\" class=\"dataframe\">\n",
       "  <thead>\n",
       "    <tr style=\"text-align: right;\">\n",
       "      <th></th>\n",
       "      <th>SUMLEV</th>\n",
       "      <th>REGION</th>\n",
       "      <th>DIVISION</th>\n",
       "      <th>STATE</th>\n",
       "      <th>COUNTY</th>\n",
       "      <th>STNAME</th>\n",
       "      <th>CTYNAME</th>\n",
       "      <th>CENSUS2010POP</th>\n",
       "      <th>ESTIMATESBASE2010</th>\n",
       "      <th>POPESTIMATE2010</th>\n",
       "      <th>POPESTIMATE2011</th>\n",
       "      <th>POPESTIMATE2012</th>\n",
       "      <th>POPESTIMATE2013</th>\n",
       "      <th>POPESTIMATE2014</th>\n",
       "      <th>POPESTIMATE2015</th>\n",
       "      <th>POPESTIMATE2016</th>\n",
       "    </tr>\n",
       "  </thead>\n",
       "  <tbody>\n",
       "    <tr>\n",
       "      <th>0</th>\n",
       "      <td>40</td>\n",
       "      <td>3</td>\n",
       "      <td>6</td>\n",
       "      <td>1</td>\n",
       "      <td>0</td>\n",
       "      <td>Alabama</td>\n",
       "      <td>Alabama</td>\n",
       "      <td>4779736</td>\n",
       "      <td>4780131</td>\n",
       "      <td>4785492</td>\n",
       "      <td>4799918</td>\n",
       "      <td>4815960</td>\n",
       "      <td>4829479</td>\n",
       "      <td>4843214</td>\n",
       "      <td>4853875</td>\n",
       "      <td>4863300</td>\n",
       "    </tr>\n",
       "    <tr>\n",
       "      <th>1</th>\n",
       "      <td>50</td>\n",
       "      <td>3</td>\n",
       "      <td>6</td>\n",
       "      <td>1</td>\n",
       "      <td>1</td>\n",
       "      <td>Alabama</td>\n",
       "      <td>Autauga County</td>\n",
       "      <td>54571</td>\n",
       "      <td>54571</td>\n",
       "      <td>54742</td>\n",
       "      <td>55255</td>\n",
       "      <td>55027</td>\n",
       "      <td>54792</td>\n",
       "      <td>54977</td>\n",
       "      <td>55035</td>\n",
       "      <td>55416</td>\n",
       "    </tr>\n",
       "    <tr>\n",
       "      <th>2</th>\n",
       "      <td>50</td>\n",
       "      <td>3</td>\n",
       "      <td>6</td>\n",
       "      <td>1</td>\n",
       "      <td>3</td>\n",
       "      <td>Alabama</td>\n",
       "      <td>Baldwin County</td>\n",
       "      <td>182265</td>\n",
       "      <td>182265</td>\n",
       "      <td>183199</td>\n",
       "      <td>186653</td>\n",
       "      <td>190403</td>\n",
       "      <td>195147</td>\n",
       "      <td>199745</td>\n",
       "      <td>203690</td>\n",
       "      <td>208563</td>\n",
       "    </tr>\n",
       "    <tr>\n",
       "      <th>3</th>\n",
       "      <td>50</td>\n",
       "      <td>3</td>\n",
       "      <td>6</td>\n",
       "      <td>1</td>\n",
       "      <td>5</td>\n",
       "      <td>Alabama</td>\n",
       "      <td>Barbour County</td>\n",
       "      <td>27457</td>\n",
       "      <td>27457</td>\n",
       "      <td>27348</td>\n",
       "      <td>27326</td>\n",
       "      <td>27132</td>\n",
       "      <td>26938</td>\n",
       "      <td>26763</td>\n",
       "      <td>26270</td>\n",
       "      <td>25965</td>\n",
       "    </tr>\n",
       "    <tr>\n",
       "      <th>4</th>\n",
       "      <td>50</td>\n",
       "      <td>3</td>\n",
       "      <td>6</td>\n",
       "      <td>1</td>\n",
       "      <td>7</td>\n",
       "      <td>Alabama</td>\n",
       "      <td>Bibb County</td>\n",
       "      <td>22915</td>\n",
       "      <td>22919</td>\n",
       "      <td>22861</td>\n",
       "      <td>22736</td>\n",
       "      <td>22645</td>\n",
       "      <td>22501</td>\n",
       "      <td>22511</td>\n",
       "      <td>22561</td>\n",
       "      <td>22643</td>\n",
       "    </tr>\n",
       "  </tbody>\n",
       "</table>\n",
       "</div>"
      ],
      "text/plain": [
       "   SUMLEV  REGION  DIVISION  STATE  COUNTY   STNAME         CTYNAME  \\\n",
       "0      40       3         6      1       0  Alabama         Alabama   \n",
       "1      50       3         6      1       1  Alabama  Autauga County   \n",
       "2      50       3         6      1       3  Alabama  Baldwin County   \n",
       "3      50       3         6      1       5  Alabama  Barbour County   \n",
       "4      50       3         6      1       7  Alabama     Bibb County   \n",
       "\n",
       "   CENSUS2010POP  ESTIMATESBASE2010  POPESTIMATE2010  POPESTIMATE2011  \\\n",
       "0        4779736            4780131          4785492          4799918   \n",
       "1          54571              54571            54742            55255   \n",
       "2         182265             182265           183199           186653   \n",
       "3          27457              27457            27348            27326   \n",
       "4          22915              22919            22861            22736   \n",
       "\n",
       "   POPESTIMATE2012  POPESTIMATE2013  POPESTIMATE2014  POPESTIMATE2015  \\\n",
       "0          4815960          4829479          4843214          4853875   \n",
       "1            55027            54792            54977            55035   \n",
       "2           190403           195147           199745           203690   \n",
       "3            27132            26938            26763            26270   \n",
       "4            22645            22501            22511            22561   \n",
       "\n",
       "   POPESTIMATE2016  \n",
       "0          4863300  \n",
       "1            55416  \n",
       "2           208563  \n",
       "3            25965  \n",
       "4            22643  "
      ]
     },
     "execution_count": 204,
     "metadata": {},
     "output_type": "execute_result"
    }
   ],
   "source": [
    "co16s.head()"
   ]
  },
  {
   "cell_type": "markdown",
   "metadata": {
    "slideshow": {
     "slide_type": "fragment"
    }
   },
   "source": [
    "But wait... what's going on here?  There seem to be at least two SUMLEV values and it looks suspiciously like there are State level summaries of `POPESTIMATES` embedded in this County-level file.  Let's check how many records there are for each SUMLEV in the file..."
   ]
  },
  {
   "cell_type": "code",
   "execution_count": 205,
   "metadata": {
    "scrolled": true,
    "slideshow": {
     "slide_type": "fragment"
    }
   },
   "outputs": [
    {
     "data": {
      "text/plain": [
       "50    3142\n",
       "40      51\n",
       "Name: SUMLEV, dtype: int64"
      ]
     },
     "execution_count": 205,
     "metadata": {},
     "output_type": "execute_result"
    }
   ],
   "source": [
    "co16s['SUMLEV'].value_counts()"
   ]
  },
  {
   "cell_type": "markdown",
   "metadata": {
    "slideshow": {
     "slide_type": "slide"
    }
   },
   "source": [
    "Hmm, OK, so we have 51 SUMLEV 40, which seem to be the State estimates, plus one... let's pull those into a new dataframe."
   ]
  },
  {
   "cell_type": "code",
   "execution_count": 206,
   "metadata": {
    "scrolled": true,
    "slideshow": {
     "slide_type": "fragment"
    }
   },
   "outputs": [
    {
     "data": {
      "text/html": [
       "<div>\n",
       "<style scoped>\n",
       "    .dataframe tbody tr th:only-of-type {\n",
       "        vertical-align: middle;\n",
       "    }\n",
       "\n",
       "    .dataframe tbody tr th {\n",
       "        vertical-align: top;\n",
       "    }\n",
       "\n",
       "    .dataframe thead th {\n",
       "        text-align: right;\n",
       "    }\n",
       "</style>\n",
       "<table border=\"1\" class=\"dataframe\">\n",
       "  <thead>\n",
       "    <tr style=\"text-align: right;\">\n",
       "      <th></th>\n",
       "      <th>SUMLEV</th>\n",
       "      <th>REGION</th>\n",
       "      <th>DIVISION</th>\n",
       "      <th>STATE</th>\n",
       "      <th>COUNTY</th>\n",
       "      <th>STNAME</th>\n",
       "      <th>CTYNAME</th>\n",
       "      <th>ESTIMATESBASE2000</th>\n",
       "      <th>POPESTIMATE2000</th>\n",
       "      <th>POPESTIMATE2001</th>\n",
       "      <th>POPESTIMATE2002</th>\n",
       "      <th>POPESTIMATE2003</th>\n",
       "      <th>POPESTIMATE2004</th>\n",
       "      <th>POPESTIMATE2005</th>\n",
       "      <th>POPESTIMATE2006</th>\n",
       "      <th>POPESTIMATE2007</th>\n",
       "      <th>POPESTIMATE2008</th>\n",
       "      <th>POPESTIMATE2009</th>\n",
       "      <th>CENSUS2010POP</th>\n",
       "      <th>POPESTIMATE2010</th>\n",
       "    </tr>\n",
       "  </thead>\n",
       "  <tbody>\n",
       "    <tr>\n",
       "      <th>0</th>\n",
       "      <td>40</td>\n",
       "      <td>3</td>\n",
       "      <td>6</td>\n",
       "      <td>1</td>\n",
       "      <td>0</td>\n",
       "      <td>Alabama</td>\n",
       "      <td>Alabama</td>\n",
       "      <td>4447207</td>\n",
       "      <td>4452173</td>\n",
       "      <td>4467634</td>\n",
       "      <td>4480089</td>\n",
       "      <td>4503491</td>\n",
       "      <td>4530729</td>\n",
       "      <td>4569805</td>\n",
       "      <td>4628981</td>\n",
       "      <td>4672840</td>\n",
       "      <td>4718206</td>\n",
       "      <td>4757938</td>\n",
       "      <td>4779736</td>\n",
       "      <td>4785298</td>\n",
       "    </tr>\n",
       "    <tr>\n",
       "      <th>68</th>\n",
       "      <td>40</td>\n",
       "      <td>4</td>\n",
       "      <td>9</td>\n",
       "      <td>2</td>\n",
       "      <td>0</td>\n",
       "      <td>Alaska</td>\n",
       "      <td>Alaska</td>\n",
       "      <td>626933</td>\n",
       "      <td>627963</td>\n",
       "      <td>633714</td>\n",
       "      <td>642337</td>\n",
       "      <td>648414</td>\n",
       "      <td>659286</td>\n",
       "      <td>666946</td>\n",
       "      <td>675302</td>\n",
       "      <td>680300</td>\n",
       "      <td>687455</td>\n",
       "      <td>698895</td>\n",
       "      <td>710231</td>\n",
       "      <td>713985</td>\n",
       "    </tr>\n",
       "    <tr>\n",
       "      <th>98</th>\n",
       "      <td>40</td>\n",
       "      <td>4</td>\n",
       "      <td>8</td>\n",
       "      <td>4</td>\n",
       "      <td>0</td>\n",
       "      <td>Arizona</td>\n",
       "      <td>Arizona</td>\n",
       "      <td>5130247</td>\n",
       "      <td>5160586</td>\n",
       "      <td>5273477</td>\n",
       "      <td>5396255</td>\n",
       "      <td>5510364</td>\n",
       "      <td>5652404</td>\n",
       "      <td>5839077</td>\n",
       "      <td>6029141</td>\n",
       "      <td>6167681</td>\n",
       "      <td>6280362</td>\n",
       "      <td>6343154</td>\n",
       "      <td>6392017</td>\n",
       "      <td>6413737</td>\n",
       "    </tr>\n",
       "    <tr>\n",
       "      <th>114</th>\n",
       "      <td>40</td>\n",
       "      <td>3</td>\n",
       "      <td>7</td>\n",
       "      <td>5</td>\n",
       "      <td>0</td>\n",
       "      <td>Arkansas</td>\n",
       "      <td>Arkansas</td>\n",
       "      <td>2673293</td>\n",
       "      <td>2678588</td>\n",
       "      <td>2691571</td>\n",
       "      <td>2705927</td>\n",
       "      <td>2724816</td>\n",
       "      <td>2749686</td>\n",
       "      <td>2781097</td>\n",
       "      <td>2821761</td>\n",
       "      <td>2848650</td>\n",
       "      <td>2874554</td>\n",
       "      <td>2896843</td>\n",
       "      <td>2915918</td>\n",
       "      <td>2921606</td>\n",
       "    </tr>\n",
       "    <tr>\n",
       "      <th>190</th>\n",
       "      <td>40</td>\n",
       "      <td>4</td>\n",
       "      <td>9</td>\n",
       "      <td>6</td>\n",
       "      <td>0</td>\n",
       "      <td>California</td>\n",
       "      <td>California</td>\n",
       "      <td>33871653</td>\n",
       "      <td>33987977</td>\n",
       "      <td>34479458</td>\n",
       "      <td>34871843</td>\n",
       "      <td>35253159</td>\n",
       "      <td>35574576</td>\n",
       "      <td>35827943</td>\n",
       "      <td>36021202</td>\n",
       "      <td>36250311</td>\n",
       "      <td>36604337</td>\n",
       "      <td>36961229</td>\n",
       "      <td>37253956</td>\n",
       "      <td>37349363</td>\n",
       "    </tr>\n",
       "  </tbody>\n",
       "</table>\n",
       "</div>"
      ],
      "text/plain": [
       "     SUMLEV  REGION  DIVISION  STATE  COUNTY      STNAME     CTYNAME  \\\n",
       "0        40       3         6      1       0     Alabama     Alabama   \n",
       "68       40       4         9      2       0      Alaska      Alaska   \n",
       "98       40       4         8      4       0     Arizona     Arizona   \n",
       "114      40       3         7      5       0    Arkansas    Arkansas   \n",
       "190      40       4         9      6       0  California  California   \n",
       "\n",
       "     ESTIMATESBASE2000  POPESTIMATE2000  POPESTIMATE2001  POPESTIMATE2002  \\\n",
       "0              4447207          4452173          4467634          4480089   \n",
       "68              626933           627963           633714           642337   \n",
       "98             5130247          5160586          5273477          5396255   \n",
       "114            2673293          2678588          2691571          2705927   \n",
       "190           33871653         33987977         34479458         34871843   \n",
       "\n",
       "     POPESTIMATE2003  POPESTIMATE2004  POPESTIMATE2005  POPESTIMATE2006  \\\n",
       "0            4503491          4530729          4569805          4628981   \n",
       "68            648414           659286           666946           675302   \n",
       "98           5510364          5652404          5839077          6029141   \n",
       "114          2724816          2749686          2781097          2821761   \n",
       "190         35253159         35574576         35827943         36021202   \n",
       "\n",
       "     POPESTIMATE2007  POPESTIMATE2008  POPESTIMATE2009  CENSUS2010POP  \\\n",
       "0            4672840          4718206          4757938        4779736   \n",
       "68            680300           687455           698895         710231   \n",
       "98           6167681          6280362          6343154        6392017   \n",
       "114          2848650          2874554          2896843        2915918   \n",
       "190         36250311         36604337         36961229       37253956   \n",
       "\n",
       "     POPESTIMATE2010  \n",
       "0            4785298  \n",
       "68            713985  \n",
       "98           6413737  \n",
       "114          2921606  \n",
       "190         37349363  "
      ]
     },
     "execution_count": 206,
     "metadata": {},
     "output_type": "execute_result"
    }
   ],
   "source": [
    "st00 = co00[co00['SUMLEV']==40]\n",
    "st00.head()"
   ]
  },
  {
   "cell_type": "code",
   "execution_count": 207,
   "metadata": {
    "slideshow": {
     "slide_type": "fragment"
    }
   },
   "outputs": [
    {
     "data": {
      "text/plain": [
       "(51, 20)"
      ]
     },
     "execution_count": 207,
     "metadata": {},
     "output_type": "execute_result"
    }
   ],
   "source": [
    "st00.shape"
   ]
  },
  {
   "cell_type": "markdown",
   "metadata": {
    "slideshow": {
     "slide_type": "slide"
    }
   },
   "source": [
    "So what is that 51st entry in the set of States?"
   ]
  },
  {
   "cell_type": "code",
   "execution_count": 208,
   "metadata": {
    "slideshow": {
     "slide_type": "fragment"
    }
   },
   "outputs": [
    {
     "data": {
      "text/plain": [
       "array(['Alabama', 'Alaska', 'Arizona', 'Arkansas', 'California',\n",
       "       'Colorado', 'Connecticut', 'Delaware', 'District of Columbia',\n",
       "       'Florida', 'Georgia', 'Hawaii', 'Idaho', 'Illinois', 'Indiana',\n",
       "       'Iowa', 'Kansas', 'Kentucky', 'Louisiana', 'Maine', 'Maryland',\n",
       "       'Massachusetts', 'Michigan', 'Minnesota', 'Mississippi',\n",
       "       'Missouri', 'Montana', 'Nebraska', 'Nevada', 'New Hampshire',\n",
       "       'New Jersey', 'New Mexico', 'New York', 'North Carolina',\n",
       "       'North Dakota', 'Ohio', 'Oklahoma', 'Oregon', 'Pennsylvania',\n",
       "       'Rhode Island', 'South Carolina', 'South Dakota', 'Tennessee',\n",
       "       'Texas', 'Utah', 'Vermont', 'Virginia', 'Washington',\n",
       "       'West Virginia', 'Wisconsin', 'Wyoming'], dtype=object)"
      ]
     },
     "execution_count": 208,
     "metadata": {},
     "output_type": "execute_result"
    }
   ],
   "source": [
    "st00['STNAME'].unique()"
   ]
  },
  {
   "cell_type": "markdown",
   "metadata": {
    "slideshow": {
     "slide_type": "slide"
    }
   },
   "source": [
    "Now let's pull the state records out of the 2016 file..."
   ]
  },
  {
   "cell_type": "code",
   "execution_count": 209,
   "metadata": {
    "scrolled": true,
    "slideshow": {
     "slide_type": "fragment"
    }
   },
   "outputs": [
    {
     "data": {
      "text/html": [
       "<div>\n",
       "<style scoped>\n",
       "    .dataframe tbody tr th:only-of-type {\n",
       "        vertical-align: middle;\n",
       "    }\n",
       "\n",
       "    .dataframe tbody tr th {\n",
       "        vertical-align: top;\n",
       "    }\n",
       "\n",
       "    .dataframe thead th {\n",
       "        text-align: right;\n",
       "    }\n",
       "</style>\n",
       "<table border=\"1\" class=\"dataframe\">\n",
       "  <thead>\n",
       "    <tr style=\"text-align: right;\">\n",
       "      <th></th>\n",
       "      <th>SUMLEV</th>\n",
       "      <th>REGION</th>\n",
       "      <th>DIVISION</th>\n",
       "      <th>STATE</th>\n",
       "      <th>COUNTY</th>\n",
       "      <th>STNAME</th>\n",
       "      <th>CTYNAME</th>\n",
       "      <th>CENSUS2010POP</th>\n",
       "      <th>ESTIMATESBASE2010</th>\n",
       "      <th>POPESTIMATE2010</th>\n",
       "      <th>POPESTIMATE2011</th>\n",
       "      <th>POPESTIMATE2012</th>\n",
       "      <th>POPESTIMATE2013</th>\n",
       "      <th>POPESTIMATE2014</th>\n",
       "      <th>POPESTIMATE2015</th>\n",
       "      <th>POPESTIMATE2016</th>\n",
       "    </tr>\n",
       "  </thead>\n",
       "  <tbody>\n",
       "    <tr>\n",
       "      <th>0</th>\n",
       "      <td>40</td>\n",
       "      <td>3</td>\n",
       "      <td>6</td>\n",
       "      <td>1</td>\n",
       "      <td>0</td>\n",
       "      <td>Alabama</td>\n",
       "      <td>Alabama</td>\n",
       "      <td>4779736</td>\n",
       "      <td>4780131</td>\n",
       "      <td>4785492</td>\n",
       "      <td>4799918</td>\n",
       "      <td>4815960</td>\n",
       "      <td>4829479</td>\n",
       "      <td>4843214</td>\n",
       "      <td>4853875</td>\n",
       "      <td>4863300</td>\n",
       "    </tr>\n",
       "    <tr>\n",
       "      <th>68</th>\n",
       "      <td>40</td>\n",
       "      <td>4</td>\n",
       "      <td>9</td>\n",
       "      <td>2</td>\n",
       "      <td>0</td>\n",
       "      <td>Alaska</td>\n",
       "      <td>Alaska</td>\n",
       "      <td>710231</td>\n",
       "      <td>710249</td>\n",
       "      <td>714031</td>\n",
       "      <td>722713</td>\n",
       "      <td>731089</td>\n",
       "      <td>736879</td>\n",
       "      <td>736705</td>\n",
       "      <td>737709</td>\n",
       "      <td>741894</td>\n",
       "    </tr>\n",
       "    <tr>\n",
       "      <th>98</th>\n",
       "      <td>40</td>\n",
       "      <td>4</td>\n",
       "      <td>8</td>\n",
       "      <td>4</td>\n",
       "      <td>0</td>\n",
       "      <td>Arizona</td>\n",
       "      <td>Arizona</td>\n",
       "      <td>6392017</td>\n",
       "      <td>6392301</td>\n",
       "      <td>6408312</td>\n",
       "      <td>6467163</td>\n",
       "      <td>6549634</td>\n",
       "      <td>6624617</td>\n",
       "      <td>6719993</td>\n",
       "      <td>6817565</td>\n",
       "      <td>6931071</td>\n",
       "    </tr>\n",
       "    <tr>\n",
       "      <th>114</th>\n",
       "      <td>40</td>\n",
       "      <td>3</td>\n",
       "      <td>7</td>\n",
       "      <td>5</td>\n",
       "      <td>0</td>\n",
       "      <td>Arkansas</td>\n",
       "      <td>Arkansas</td>\n",
       "      <td>2915918</td>\n",
       "      <td>2916025</td>\n",
       "      <td>2921995</td>\n",
       "      <td>2939493</td>\n",
       "      <td>2950685</td>\n",
       "      <td>2958663</td>\n",
       "      <td>2966912</td>\n",
       "      <td>2977853</td>\n",
       "      <td>2988248</td>\n",
       "    </tr>\n",
       "    <tr>\n",
       "      <th>190</th>\n",
       "      <td>40</td>\n",
       "      <td>4</td>\n",
       "      <td>9</td>\n",
       "      <td>6</td>\n",
       "      <td>0</td>\n",
       "      <td>California</td>\n",
       "      <td>California</td>\n",
       "      <td>37253956</td>\n",
       "      <td>37254522</td>\n",
       "      <td>37332685</td>\n",
       "      <td>37676861</td>\n",
       "      <td>38011074</td>\n",
       "      <td>38335203</td>\n",
       "      <td>38680810</td>\n",
       "      <td>38993940</td>\n",
       "      <td>39250017</td>\n",
       "    </tr>\n",
       "  </tbody>\n",
       "</table>\n",
       "</div>"
      ],
      "text/plain": [
       "     SUMLEV  REGION  DIVISION  STATE  COUNTY      STNAME     CTYNAME  \\\n",
       "0        40       3         6      1       0     Alabama     Alabama   \n",
       "68       40       4         9      2       0      Alaska      Alaska   \n",
       "98       40       4         8      4       0     Arizona     Arizona   \n",
       "114      40       3         7      5       0    Arkansas    Arkansas   \n",
       "190      40       4         9      6       0  California  California   \n",
       "\n",
       "     CENSUS2010POP  ESTIMATESBASE2010  POPESTIMATE2010  POPESTIMATE2011  \\\n",
       "0          4779736            4780131          4785492          4799918   \n",
       "68          710231             710249           714031           722713   \n",
       "98         6392017            6392301          6408312          6467163   \n",
       "114        2915918            2916025          2921995          2939493   \n",
       "190       37253956           37254522         37332685         37676861   \n",
       "\n",
       "     POPESTIMATE2012  POPESTIMATE2013  POPESTIMATE2014  POPESTIMATE2015  \\\n",
       "0            4815960          4829479          4843214          4853875   \n",
       "68            731089           736879           736705           737709   \n",
       "98           6549634          6624617          6719993          6817565   \n",
       "114          2950685          2958663          2966912          2977853   \n",
       "190         38011074         38335203         38680810         38993940   \n",
       "\n",
       "     POPESTIMATE2016  \n",
       "0            4863300  \n",
       "68            741894  \n",
       "98           6931071  \n",
       "114          2988248  \n",
       "190         39250017  "
      ]
     },
     "execution_count": 209,
     "metadata": {},
     "output_type": "execute_result"
    }
   ],
   "source": [
    "st16 = co16s[co16s['SUMLEV']==40]\n",
    "st16.head()"
   ]
  },
  {
   "cell_type": "markdown",
   "metadata": {
    "slideshow": {
     "slide_type": "fragment"
    }
   },
   "source": [
    "### 3.2.3 Merging\n",
    "\n",
    "...and merge the 2000 and 2016 data:"
   ]
  },
  {
   "cell_type": "code",
   "execution_count": 210,
   "metadata": {
    "scrolled": true,
    "slideshow": {
     "slide_type": "fragment"
    }
   },
   "outputs": [
    {
     "data": {
      "text/html": [
       "<div>\n",
       "<style scoped>\n",
       "    .dataframe tbody tr th:only-of-type {\n",
       "        vertical-align: middle;\n",
       "    }\n",
       "\n",
       "    .dataframe tbody tr th {\n",
       "        vertical-align: top;\n",
       "    }\n",
       "\n",
       "    .dataframe thead th {\n",
       "        text-align: right;\n",
       "    }\n",
       "</style>\n",
       "<table border=\"1\" class=\"dataframe\">\n",
       "  <thead>\n",
       "    <tr style=\"text-align: right;\">\n",
       "      <th></th>\n",
       "      <th>SUMLEV_x</th>\n",
       "      <th>REGION_x</th>\n",
       "      <th>DIVISION_x</th>\n",
       "      <th>STATE</th>\n",
       "      <th>COUNTY_x</th>\n",
       "      <th>STNAME_x</th>\n",
       "      <th>CTYNAME_x</th>\n",
       "      <th>ESTIMATESBASE2000</th>\n",
       "      <th>POPESTIMATE2000</th>\n",
       "      <th>POPESTIMATE2001</th>\n",
       "      <th>...</th>\n",
       "      <th>CTYNAME_y</th>\n",
       "      <th>CENSUS2010POP_y</th>\n",
       "      <th>ESTIMATESBASE2010</th>\n",
       "      <th>POPESTIMATE2010_y</th>\n",
       "      <th>POPESTIMATE2011</th>\n",
       "      <th>POPESTIMATE2012</th>\n",
       "      <th>POPESTIMATE2013</th>\n",
       "      <th>POPESTIMATE2014</th>\n",
       "      <th>POPESTIMATE2015</th>\n",
       "      <th>POPESTIMATE2016</th>\n",
       "    </tr>\n",
       "  </thead>\n",
       "  <tbody>\n",
       "    <tr>\n",
       "      <th>0</th>\n",
       "      <td>40</td>\n",
       "      <td>3</td>\n",
       "      <td>6</td>\n",
       "      <td>1</td>\n",
       "      <td>0</td>\n",
       "      <td>Alabama</td>\n",
       "      <td>Alabama</td>\n",
       "      <td>4447207</td>\n",
       "      <td>4452173</td>\n",
       "      <td>4467634</td>\n",
       "      <td>...</td>\n",
       "      <td>Alabama</td>\n",
       "      <td>4779736</td>\n",
       "      <td>4780131</td>\n",
       "      <td>4785492</td>\n",
       "      <td>4799918</td>\n",
       "      <td>4815960</td>\n",
       "      <td>4829479</td>\n",
       "      <td>4843214</td>\n",
       "      <td>4853875</td>\n",
       "      <td>4863300</td>\n",
       "    </tr>\n",
       "    <tr>\n",
       "      <th>1</th>\n",
       "      <td>40</td>\n",
       "      <td>4</td>\n",
       "      <td>9</td>\n",
       "      <td>2</td>\n",
       "      <td>0</td>\n",
       "      <td>Alaska</td>\n",
       "      <td>Alaska</td>\n",
       "      <td>626933</td>\n",
       "      <td>627963</td>\n",
       "      <td>633714</td>\n",
       "      <td>...</td>\n",
       "      <td>Alaska</td>\n",
       "      <td>710231</td>\n",
       "      <td>710249</td>\n",
       "      <td>714031</td>\n",
       "      <td>722713</td>\n",
       "      <td>731089</td>\n",
       "      <td>736879</td>\n",
       "      <td>736705</td>\n",
       "      <td>737709</td>\n",
       "      <td>741894</td>\n",
       "    </tr>\n",
       "    <tr>\n",
       "      <th>2</th>\n",
       "      <td>40</td>\n",
       "      <td>4</td>\n",
       "      <td>8</td>\n",
       "      <td>4</td>\n",
       "      <td>0</td>\n",
       "      <td>Arizona</td>\n",
       "      <td>Arizona</td>\n",
       "      <td>5130247</td>\n",
       "      <td>5160586</td>\n",
       "      <td>5273477</td>\n",
       "      <td>...</td>\n",
       "      <td>Arizona</td>\n",
       "      <td>6392017</td>\n",
       "      <td>6392301</td>\n",
       "      <td>6408312</td>\n",
       "      <td>6467163</td>\n",
       "      <td>6549634</td>\n",
       "      <td>6624617</td>\n",
       "      <td>6719993</td>\n",
       "      <td>6817565</td>\n",
       "      <td>6931071</td>\n",
       "    </tr>\n",
       "    <tr>\n",
       "      <th>3</th>\n",
       "      <td>40</td>\n",
       "      <td>3</td>\n",
       "      <td>7</td>\n",
       "      <td>5</td>\n",
       "      <td>0</td>\n",
       "      <td>Arkansas</td>\n",
       "      <td>Arkansas</td>\n",
       "      <td>2673293</td>\n",
       "      <td>2678588</td>\n",
       "      <td>2691571</td>\n",
       "      <td>...</td>\n",
       "      <td>Arkansas</td>\n",
       "      <td>2915918</td>\n",
       "      <td>2916025</td>\n",
       "      <td>2921995</td>\n",
       "      <td>2939493</td>\n",
       "      <td>2950685</td>\n",
       "      <td>2958663</td>\n",
       "      <td>2966912</td>\n",
       "      <td>2977853</td>\n",
       "      <td>2988248</td>\n",
       "    </tr>\n",
       "    <tr>\n",
       "      <th>4</th>\n",
       "      <td>40</td>\n",
       "      <td>4</td>\n",
       "      <td>9</td>\n",
       "      <td>6</td>\n",
       "      <td>0</td>\n",
       "      <td>California</td>\n",
       "      <td>California</td>\n",
       "      <td>33871653</td>\n",
       "      <td>33987977</td>\n",
       "      <td>34479458</td>\n",
       "      <td>...</td>\n",
       "      <td>California</td>\n",
       "      <td>37253956</td>\n",
       "      <td>37254522</td>\n",
       "      <td>37332685</td>\n",
       "      <td>37676861</td>\n",
       "      <td>38011074</td>\n",
       "      <td>38335203</td>\n",
       "      <td>38680810</td>\n",
       "      <td>38993940</td>\n",
       "      <td>39250017</td>\n",
       "    </tr>\n",
       "  </tbody>\n",
       "</table>\n",
       "<p>5 rows × 35 columns</p>\n",
       "</div>"
      ],
      "text/plain": [
       "   SUMLEV_x  REGION_x  DIVISION_x  STATE  COUNTY_x    STNAME_x   CTYNAME_x  \\\n",
       "0        40         3           6      1         0     Alabama     Alabama   \n",
       "1        40         4           9      2         0      Alaska      Alaska   \n",
       "2        40         4           8      4         0     Arizona     Arizona   \n",
       "3        40         3           7      5         0    Arkansas    Arkansas   \n",
       "4        40         4           9      6         0  California  California   \n",
       "\n",
       "   ESTIMATESBASE2000  POPESTIMATE2000  POPESTIMATE2001  ...   CTYNAME_y  \\\n",
       "0            4447207          4452173          4467634  ...     Alabama   \n",
       "1             626933           627963           633714  ...      Alaska   \n",
       "2            5130247          5160586          5273477  ...     Arizona   \n",
       "3            2673293          2678588          2691571  ...    Arkansas   \n",
       "4           33871653         33987977         34479458  ...  California   \n",
       "\n",
       "   CENSUS2010POP_y  ESTIMATESBASE2010  POPESTIMATE2010_y  POPESTIMATE2011  \\\n",
       "0          4779736            4780131            4785492          4799918   \n",
       "1           710231             710249             714031           722713   \n",
       "2          6392017            6392301            6408312          6467163   \n",
       "3          2915918            2916025            2921995          2939493   \n",
       "4         37253956           37254522           37332685         37676861   \n",
       "\n",
       "   POPESTIMATE2012  POPESTIMATE2013  POPESTIMATE2014  POPESTIMATE2015  \\\n",
       "0          4815960          4829479          4843214          4853875   \n",
       "1           731089           736879           736705           737709   \n",
       "2          6549634          6624617          6719993          6817565   \n",
       "3          2950685          2958663          2966912          2977853   \n",
       "4         38011074         38335203         38680810         38993940   \n",
       "\n",
       "   POPESTIMATE2016  \n",
       "0          4863300  \n",
       "1           741894  \n",
       "2          6931071  \n",
       "3          2988248  \n",
       "4         39250017  \n",
       "\n",
       "[5 rows x 35 columns]"
      ]
     },
     "execution_count": 210,
     "metadata": {},
     "output_type": "execute_result"
    }
   ],
   "source": [
    "stjoin = pd.merge(st00, st16, on='STATE')\n",
    "stjoin.head()"
   ]
  },
  {
   "cell_type": "markdown",
   "metadata": {
    "slideshow": {
     "slide_type": "slide"
    }
   },
   "source": [
    "#### 3.2.3.1 Dealing with duplicate columns\n",
    "Looks like it worked! But what are all those columns with `_x` and `_y` suffixes?\n",
    "\n",
    "Seems like a mess to keep all those duplicate columns and have them get renamed like this... what to do...?\n",
    "\n",
    "Maybe we could find the columns that are different in the second dataframe and just add those to the first dataframe?"
   ]
  },
  {
   "cell_type": "code",
   "execution_count": 211,
   "metadata": {
    "scrolled": true,
    "slideshow": {
     "slide_type": "fragment"
    }
   },
   "outputs": [
    {
     "data": {
      "text/plain": [
       "['ESTIMATESBASE2010',\n",
       " 'POPESTIMATE2011',\n",
       " 'POPESTIMATE2012',\n",
       " 'POPESTIMATE2013',\n",
       " 'POPESTIMATE2014',\n",
       " 'POPESTIMATE2015',\n",
       " 'POPESTIMATE2016']"
      ]
     },
     "execution_count": 211,
     "metadata": {},
     "output_type": "execute_result"
    }
   ],
   "source": [
    "cols_to_use = list(st16.columns.difference(st00.columns))\n",
    "cols_to_use"
   ]
  },
  {
   "cell_type": "markdown",
   "metadata": {
    "slideshow": {
     "slide_type": "fragment"
    }
   },
   "source": [
    "Anyone have an alternative solution? Maybe one that involves list comprehension?"
   ]
  },
  {
   "cell_type": "markdown",
   "metadata": {
    "slideshow": {
     "slide_type": "slide"
    }
   },
   "source": [
    "Would it work if we tried to join these two using this as the list of columns from ST16? What about the join column? Seems like that would be pretty handy to have..."
   ]
  },
  {
   "cell_type": "code",
   "execution_count": 212,
   "metadata": {
    "scrolled": true,
    "slideshow": {
     "slide_type": "fragment"
    }
   },
   "outputs": [],
   "source": [
    "cols_to_use.append('STATE')"
   ]
  },
  {
   "cell_type": "markdown",
   "metadata": {
    "slideshow": {
     "slide_type": "fragment"
    }
   },
   "source": [
    "Now we can do a much cleaner merge:"
   ]
  },
  {
   "cell_type": "code",
   "execution_count": 213,
   "metadata": {
    "scrolled": false,
    "slideshow": {
     "slide_type": "fragment"
    }
   },
   "outputs": [
    {
     "data": {
      "text/html": [
       "<div>\n",
       "<style scoped>\n",
       "    .dataframe tbody tr th:only-of-type {\n",
       "        vertical-align: middle;\n",
       "    }\n",
       "\n",
       "    .dataframe tbody tr th {\n",
       "        vertical-align: top;\n",
       "    }\n",
       "\n",
       "    .dataframe thead th {\n",
       "        text-align: right;\n",
       "    }\n",
       "</style>\n",
       "<table border=\"1\" class=\"dataframe\">\n",
       "  <thead>\n",
       "    <tr style=\"text-align: right;\">\n",
       "      <th></th>\n",
       "      <th>SUMLEV</th>\n",
       "      <th>REGION</th>\n",
       "      <th>DIVISION</th>\n",
       "      <th>STATE</th>\n",
       "      <th>COUNTY</th>\n",
       "      <th>STNAME</th>\n",
       "      <th>CTYNAME</th>\n",
       "      <th>ESTIMATESBASE2000</th>\n",
       "      <th>POPESTIMATE2000</th>\n",
       "      <th>POPESTIMATE2001</th>\n",
       "      <th>...</th>\n",
       "      <th>POPESTIMATE2009</th>\n",
       "      <th>CENSUS2010POP</th>\n",
       "      <th>POPESTIMATE2010</th>\n",
       "      <th>ESTIMATESBASE2010</th>\n",
       "      <th>POPESTIMATE2011</th>\n",
       "      <th>POPESTIMATE2012</th>\n",
       "      <th>POPESTIMATE2013</th>\n",
       "      <th>POPESTIMATE2014</th>\n",
       "      <th>POPESTIMATE2015</th>\n",
       "      <th>POPESTIMATE2016</th>\n",
       "    </tr>\n",
       "  </thead>\n",
       "  <tbody>\n",
       "    <tr>\n",
       "      <th>0</th>\n",
       "      <td>40</td>\n",
       "      <td>3</td>\n",
       "      <td>6</td>\n",
       "      <td>1</td>\n",
       "      <td>0</td>\n",
       "      <td>Alabama</td>\n",
       "      <td>Alabama</td>\n",
       "      <td>4447207</td>\n",
       "      <td>4452173</td>\n",
       "      <td>4467634</td>\n",
       "      <td>...</td>\n",
       "      <td>4757938</td>\n",
       "      <td>4779736</td>\n",
       "      <td>4785298</td>\n",
       "      <td>4780131</td>\n",
       "      <td>4799918</td>\n",
       "      <td>4815960</td>\n",
       "      <td>4829479</td>\n",
       "      <td>4843214</td>\n",
       "      <td>4853875</td>\n",
       "      <td>4863300</td>\n",
       "    </tr>\n",
       "    <tr>\n",
       "      <th>1</th>\n",
       "      <td>40</td>\n",
       "      <td>4</td>\n",
       "      <td>9</td>\n",
       "      <td>2</td>\n",
       "      <td>0</td>\n",
       "      <td>Alaska</td>\n",
       "      <td>Alaska</td>\n",
       "      <td>626933</td>\n",
       "      <td>627963</td>\n",
       "      <td>633714</td>\n",
       "      <td>...</td>\n",
       "      <td>698895</td>\n",
       "      <td>710231</td>\n",
       "      <td>713985</td>\n",
       "      <td>710249</td>\n",
       "      <td>722713</td>\n",
       "      <td>731089</td>\n",
       "      <td>736879</td>\n",
       "      <td>736705</td>\n",
       "      <td>737709</td>\n",
       "      <td>741894</td>\n",
       "    </tr>\n",
       "    <tr>\n",
       "      <th>2</th>\n",
       "      <td>40</td>\n",
       "      <td>4</td>\n",
       "      <td>8</td>\n",
       "      <td>4</td>\n",
       "      <td>0</td>\n",
       "      <td>Arizona</td>\n",
       "      <td>Arizona</td>\n",
       "      <td>5130247</td>\n",
       "      <td>5160586</td>\n",
       "      <td>5273477</td>\n",
       "      <td>...</td>\n",
       "      <td>6343154</td>\n",
       "      <td>6392017</td>\n",
       "      <td>6413737</td>\n",
       "      <td>6392301</td>\n",
       "      <td>6467163</td>\n",
       "      <td>6549634</td>\n",
       "      <td>6624617</td>\n",
       "      <td>6719993</td>\n",
       "      <td>6817565</td>\n",
       "      <td>6931071</td>\n",
       "    </tr>\n",
       "    <tr>\n",
       "      <th>3</th>\n",
       "      <td>40</td>\n",
       "      <td>3</td>\n",
       "      <td>7</td>\n",
       "      <td>5</td>\n",
       "      <td>0</td>\n",
       "      <td>Arkansas</td>\n",
       "      <td>Arkansas</td>\n",
       "      <td>2673293</td>\n",
       "      <td>2678588</td>\n",
       "      <td>2691571</td>\n",
       "      <td>...</td>\n",
       "      <td>2896843</td>\n",
       "      <td>2915918</td>\n",
       "      <td>2921606</td>\n",
       "      <td>2916025</td>\n",
       "      <td>2939493</td>\n",
       "      <td>2950685</td>\n",
       "      <td>2958663</td>\n",
       "      <td>2966912</td>\n",
       "      <td>2977853</td>\n",
       "      <td>2988248</td>\n",
       "    </tr>\n",
       "    <tr>\n",
       "      <th>4</th>\n",
       "      <td>40</td>\n",
       "      <td>4</td>\n",
       "      <td>9</td>\n",
       "      <td>6</td>\n",
       "      <td>0</td>\n",
       "      <td>California</td>\n",
       "      <td>California</td>\n",
       "      <td>33871653</td>\n",
       "      <td>33987977</td>\n",
       "      <td>34479458</td>\n",
       "      <td>...</td>\n",
       "      <td>36961229</td>\n",
       "      <td>37253956</td>\n",
       "      <td>37349363</td>\n",
       "      <td>37254522</td>\n",
       "      <td>37676861</td>\n",
       "      <td>38011074</td>\n",
       "      <td>38335203</td>\n",
       "      <td>38680810</td>\n",
       "      <td>38993940</td>\n",
       "      <td>39250017</td>\n",
       "    </tr>\n",
       "  </tbody>\n",
       "</table>\n",
       "<p>5 rows × 27 columns</p>\n",
       "</div>"
      ],
      "text/plain": [
       "   SUMLEV  REGION  DIVISION  STATE  COUNTY      STNAME     CTYNAME  \\\n",
       "0      40       3         6      1       0     Alabama     Alabama   \n",
       "1      40       4         9      2       0      Alaska      Alaska   \n",
       "2      40       4         8      4       0     Arizona     Arizona   \n",
       "3      40       3         7      5       0    Arkansas    Arkansas   \n",
       "4      40       4         9      6       0  California  California   \n",
       "\n",
       "   ESTIMATESBASE2000  POPESTIMATE2000  POPESTIMATE2001  ...  POPESTIMATE2009  \\\n",
       "0            4447207          4452173          4467634  ...          4757938   \n",
       "1             626933           627963           633714  ...           698895   \n",
       "2            5130247          5160586          5273477  ...          6343154   \n",
       "3            2673293          2678588          2691571  ...          2896843   \n",
       "4           33871653         33987977         34479458  ...         36961229   \n",
       "\n",
       "   CENSUS2010POP  POPESTIMATE2010  ESTIMATESBASE2010  POPESTIMATE2011  \\\n",
       "0        4779736          4785298            4780131          4799918   \n",
       "1         710231           713985             710249           722713   \n",
       "2        6392017          6413737            6392301          6467163   \n",
       "3        2915918          2921606            2916025          2939493   \n",
       "4       37253956         37349363           37254522         37676861   \n",
       "\n",
       "   POPESTIMATE2012  POPESTIMATE2013  POPESTIMATE2014  POPESTIMATE2015  \\\n",
       "0          4815960          4829479          4843214          4853875   \n",
       "1           731089           736879           736705           737709   \n",
       "2          6549634          6624617          6719993          6817565   \n",
       "3          2950685          2958663          2966912          2977853   \n",
       "4         38011074         38335203         38680810         38993940   \n",
       "\n",
       "   POPESTIMATE2016  \n",
       "0          4863300  \n",
       "1           741894  \n",
       "2          6931071  \n",
       "3          2988248  \n",
       "4         39250017  \n",
       "\n",
       "[5 rows x 27 columns]"
      ]
     },
     "execution_count": 213,
     "metadata": {},
     "output_type": "execute_result"
    }
   ],
   "source": [
    "stjoin2 = pd.merge(st00, st16[cols_to_use], on='STATE')\n",
    "stjoin2.head()"
   ]
  },
  {
   "cell_type": "markdown",
   "metadata": {
    "slideshow": {
     "slide_type": "slide"
    }
   },
   "source": [
    "Looking pretty good.  But there are still a lot of columns we really don't want.  Let's drop those, and set the index to STNAME."
   ]
  },
  {
   "cell_type": "code",
   "execution_count": 214,
   "metadata": {
    "scrolled": false,
    "slideshow": {
     "slide_type": "fragment"
    }
   },
   "outputs": [],
   "source": [
    "stjoin3 = stjoin2.drop(\n",
    "    ['STATE', 'SUMLEV','REGION','DIVISION','COUNTY','ESTIMATESBASE2000','ESTIMATESBASE2010','CENSUS2010POP','CTYNAME'],\n",
    "    axis=1).copy()\n",
    "stjoin3.set_index('STNAME', inplace=True)"
   ]
  },
  {
   "cell_type": "markdown",
   "metadata": {
    "slideshow": {
     "slide_type": "slide"
    }
   },
   "source": [
    "Much nicer.  But I really don't like those column names.  Can't we just make them simple years?"
   ]
  },
  {
   "cell_type": "code",
   "execution_count": 215,
   "metadata": {
    "scrolled": true,
    "slideshow": {
     "slide_type": "fragment"
    }
   },
   "outputs": [
    {
     "data": {
      "text/html": [
       "<div>\n",
       "<style scoped>\n",
       "    .dataframe tbody tr th:only-of-type {\n",
       "        vertical-align: middle;\n",
       "    }\n",
       "\n",
       "    .dataframe tbody tr th {\n",
       "        vertical-align: top;\n",
       "    }\n",
       "\n",
       "    .dataframe thead th {\n",
       "        text-align: right;\n",
       "    }\n",
       "</style>\n",
       "<table border=\"1\" class=\"dataframe\">\n",
       "  <thead>\n",
       "    <tr style=\"text-align: right;\">\n",
       "      <th></th>\n",
       "      <th>2000</th>\n",
       "      <th>2001</th>\n",
       "      <th>2002</th>\n",
       "      <th>2003</th>\n",
       "      <th>2004</th>\n",
       "      <th>2005</th>\n",
       "      <th>2006</th>\n",
       "      <th>2007</th>\n",
       "      <th>2008</th>\n",
       "      <th>2009</th>\n",
       "      <th>2010</th>\n",
       "      <th>2011</th>\n",
       "      <th>2012</th>\n",
       "      <th>2013</th>\n",
       "      <th>2014</th>\n",
       "      <th>2015</th>\n",
       "      <th>2016</th>\n",
       "    </tr>\n",
       "    <tr>\n",
       "      <th>STNAME</th>\n",
       "      <th></th>\n",
       "      <th></th>\n",
       "      <th></th>\n",
       "      <th></th>\n",
       "      <th></th>\n",
       "      <th></th>\n",
       "      <th></th>\n",
       "      <th></th>\n",
       "      <th></th>\n",
       "      <th></th>\n",
       "      <th></th>\n",
       "      <th></th>\n",
       "      <th></th>\n",
       "      <th></th>\n",
       "      <th></th>\n",
       "      <th></th>\n",
       "      <th></th>\n",
       "    </tr>\n",
       "  </thead>\n",
       "  <tbody>\n",
       "    <tr>\n",
       "      <th>Alabama</th>\n",
       "      <td>4452173</td>\n",
       "      <td>4467634</td>\n",
       "      <td>4480089</td>\n",
       "      <td>4503491</td>\n",
       "      <td>4530729</td>\n",
       "      <td>4569805</td>\n",
       "      <td>4628981</td>\n",
       "      <td>4672840</td>\n",
       "      <td>4718206</td>\n",
       "      <td>4757938</td>\n",
       "      <td>4785298</td>\n",
       "      <td>4799918</td>\n",
       "      <td>4815960</td>\n",
       "      <td>4829479</td>\n",
       "      <td>4843214</td>\n",
       "      <td>4853875</td>\n",
       "      <td>4863300</td>\n",
       "    </tr>\n",
       "    <tr>\n",
       "      <th>Alaska</th>\n",
       "      <td>627963</td>\n",
       "      <td>633714</td>\n",
       "      <td>642337</td>\n",
       "      <td>648414</td>\n",
       "      <td>659286</td>\n",
       "      <td>666946</td>\n",
       "      <td>675302</td>\n",
       "      <td>680300</td>\n",
       "      <td>687455</td>\n",
       "      <td>698895</td>\n",
       "      <td>713985</td>\n",
       "      <td>722713</td>\n",
       "      <td>731089</td>\n",
       "      <td>736879</td>\n",
       "      <td>736705</td>\n",
       "      <td>737709</td>\n",
       "      <td>741894</td>\n",
       "    </tr>\n",
       "    <tr>\n",
       "      <th>Arizona</th>\n",
       "      <td>5160586</td>\n",
       "      <td>5273477</td>\n",
       "      <td>5396255</td>\n",
       "      <td>5510364</td>\n",
       "      <td>5652404</td>\n",
       "      <td>5839077</td>\n",
       "      <td>6029141</td>\n",
       "      <td>6167681</td>\n",
       "      <td>6280362</td>\n",
       "      <td>6343154</td>\n",
       "      <td>6413737</td>\n",
       "      <td>6467163</td>\n",
       "      <td>6549634</td>\n",
       "      <td>6624617</td>\n",
       "      <td>6719993</td>\n",
       "      <td>6817565</td>\n",
       "      <td>6931071</td>\n",
       "    </tr>\n",
       "    <tr>\n",
       "      <th>Arkansas</th>\n",
       "      <td>2678588</td>\n",
       "      <td>2691571</td>\n",
       "      <td>2705927</td>\n",
       "      <td>2724816</td>\n",
       "      <td>2749686</td>\n",
       "      <td>2781097</td>\n",
       "      <td>2821761</td>\n",
       "      <td>2848650</td>\n",
       "      <td>2874554</td>\n",
       "      <td>2896843</td>\n",
       "      <td>2921606</td>\n",
       "      <td>2939493</td>\n",
       "      <td>2950685</td>\n",
       "      <td>2958663</td>\n",
       "      <td>2966912</td>\n",
       "      <td>2977853</td>\n",
       "      <td>2988248</td>\n",
       "    </tr>\n",
       "    <tr>\n",
       "      <th>California</th>\n",
       "      <td>33987977</td>\n",
       "      <td>34479458</td>\n",
       "      <td>34871843</td>\n",
       "      <td>35253159</td>\n",
       "      <td>35574576</td>\n",
       "      <td>35827943</td>\n",
       "      <td>36021202</td>\n",
       "      <td>36250311</td>\n",
       "      <td>36604337</td>\n",
       "      <td>36961229</td>\n",
       "      <td>37349363</td>\n",
       "      <td>37676861</td>\n",
       "      <td>38011074</td>\n",
       "      <td>38335203</td>\n",
       "      <td>38680810</td>\n",
       "      <td>38993940</td>\n",
       "      <td>39250017</td>\n",
       "    </tr>\n",
       "  </tbody>\n",
       "</table>\n",
       "</div>"
      ],
      "text/plain": [
       "                2000      2001      2002      2003      2004      2005  \\\n",
       "STNAME                                                                   \n",
       "Alabama      4452173   4467634   4480089   4503491   4530729   4569805   \n",
       "Alaska        627963    633714    642337    648414    659286    666946   \n",
       "Arizona      5160586   5273477   5396255   5510364   5652404   5839077   \n",
       "Arkansas     2678588   2691571   2705927   2724816   2749686   2781097   \n",
       "California  33987977  34479458  34871843  35253159  35574576  35827943   \n",
       "\n",
       "                2006      2007      2008      2009      2010      2011  \\\n",
       "STNAME                                                                   \n",
       "Alabama      4628981   4672840   4718206   4757938   4785298   4799918   \n",
       "Alaska        675302    680300    687455    698895    713985    722713   \n",
       "Arizona      6029141   6167681   6280362   6343154   6413737   6467163   \n",
       "Arkansas     2821761   2848650   2874554   2896843   2921606   2939493   \n",
       "California  36021202  36250311  36604337  36961229  37349363  37676861   \n",
       "\n",
       "                2012      2013      2014      2015      2016  \n",
       "STNAME                                                        \n",
       "Alabama      4815960   4829479   4843214   4853875   4863300  \n",
       "Alaska        731089    736879    736705    737709    741894  \n",
       "Arizona      6549634   6624617   6719993   6817565   6931071  \n",
       "Arkansas     2950685   2958663   2966912   2977853   2988248  \n",
       "California  38011074  38335203  38680810  38993940  39250017  "
      ]
     },
     "execution_count": 215,
     "metadata": {},
     "output_type": "execute_result"
    }
   ],
   "source": [
    "stjoin4 = stjoin3.copy()\n",
    "stjoin4.columns = list(range(2000, 2017))\n",
    "stjoin4.head()"
   ]
  },
  {
   "cell_type": "markdown",
   "metadata": {
    "slideshow": {
     "slide_type": "fragment"
    }
   },
   "source": [
    "Maybe we should write our updated cleaned up data back to a CSV file to reuse later..."
   ]
  },
  {
   "cell_type": "code",
   "execution_count": 216,
   "metadata": {
    "slideshow": {
     "slide_type": "fragment"
    }
   },
   "outputs": [],
   "source": [
    "stjoin4.to_csv('data/statepop.csv')"
   ]
  },
  {
   "cell_type": "markdown",
   "metadata": {
    "slideshow": {
     "slide_type": "slide"
    }
   },
   "source": [
    "It might also be handy to transpose the data so that the rows become columns and vice versa.  Let's do that and select just a couple of states."
   ]
  },
  {
   "cell_type": "code",
   "execution_count": 217,
   "metadata": {
    "scrolled": true,
    "slideshow": {
     "slide_type": "fragment"
    }
   },
   "outputs": [
    {
     "data": {
      "text/html": [
       "<div>\n",
       "<style scoped>\n",
       "    .dataframe tbody tr th:only-of-type {\n",
       "        vertical-align: middle;\n",
       "    }\n",
       "\n",
       "    .dataframe tbody tr th {\n",
       "        vertical-align: top;\n",
       "    }\n",
       "\n",
       "    .dataframe thead th {\n",
       "        text-align: right;\n",
       "    }\n",
       "</style>\n",
       "<table border=\"1\" class=\"dataframe\">\n",
       "  <thead>\n",
       "    <tr style=\"text-align: right;\">\n",
       "      <th>STNAME</th>\n",
       "      <th>Alabama</th>\n",
       "      <th>Alaska</th>\n",
       "      <th>Arizona</th>\n",
       "      <th>Arkansas</th>\n",
       "      <th>California</th>\n",
       "      <th>Colorado</th>\n",
       "      <th>Connecticut</th>\n",
       "      <th>Delaware</th>\n",
       "      <th>District of Columbia</th>\n",
       "      <th>Florida</th>\n",
       "      <th>...</th>\n",
       "      <th>South Dakota</th>\n",
       "      <th>Tennessee</th>\n",
       "      <th>Texas</th>\n",
       "      <th>Utah</th>\n",
       "      <th>Vermont</th>\n",
       "      <th>Virginia</th>\n",
       "      <th>Washington</th>\n",
       "      <th>West Virginia</th>\n",
       "      <th>Wisconsin</th>\n",
       "      <th>Wyoming</th>\n",
       "    </tr>\n",
       "  </thead>\n",
       "  <tbody>\n",
       "    <tr>\n",
       "      <th>2000</th>\n",
       "      <td>4452173</td>\n",
       "      <td>627963</td>\n",
       "      <td>5160586</td>\n",
       "      <td>2678588</td>\n",
       "      <td>33987977</td>\n",
       "      <td>4326921</td>\n",
       "      <td>3411777</td>\n",
       "      <td>786373</td>\n",
       "      <td>572046</td>\n",
       "      <td>16047515</td>\n",
       "      <td>...</td>\n",
       "      <td>755844</td>\n",
       "      <td>5703719</td>\n",
       "      <td>20944499</td>\n",
       "      <td>2244502</td>\n",
       "      <td>609618</td>\n",
       "      <td>7105817</td>\n",
       "      <td>5910512</td>\n",
       "      <td>1807021</td>\n",
       "      <td>5373999</td>\n",
       "      <td>494300</td>\n",
       "    </tr>\n",
       "    <tr>\n",
       "      <th>2001</th>\n",
       "      <td>4467634</td>\n",
       "      <td>633714</td>\n",
       "      <td>5273477</td>\n",
       "      <td>2691571</td>\n",
       "      <td>34479458</td>\n",
       "      <td>4425687</td>\n",
       "      <td>3432835</td>\n",
       "      <td>795699</td>\n",
       "      <td>574504</td>\n",
       "      <td>16356966</td>\n",
       "      <td>...</td>\n",
       "      <td>757972</td>\n",
       "      <td>5750789</td>\n",
       "      <td>21319622</td>\n",
       "      <td>2283715</td>\n",
       "      <td>612223</td>\n",
       "      <td>7198362</td>\n",
       "      <td>5985722</td>\n",
       "      <td>1801481</td>\n",
       "      <td>5406835</td>\n",
       "      <td>494657</td>\n",
       "    </tr>\n",
       "    <tr>\n",
       "      <th>2002</th>\n",
       "      <td>4480089</td>\n",
       "      <td>642337</td>\n",
       "      <td>5396255</td>\n",
       "      <td>2705927</td>\n",
       "      <td>34871843</td>\n",
       "      <td>4490406</td>\n",
       "      <td>3458749</td>\n",
       "      <td>806169</td>\n",
       "      <td>573158</td>\n",
       "      <td>16689370</td>\n",
       "      <td>...</td>\n",
       "      <td>760020</td>\n",
       "      <td>5795918</td>\n",
       "      <td>21690325</td>\n",
       "      <td>2324815</td>\n",
       "      <td>615442</td>\n",
       "      <td>7286873</td>\n",
       "      <td>6052349</td>\n",
       "      <td>1805414</td>\n",
       "      <td>5445162</td>\n",
       "      <td>500017</td>\n",
       "    </tr>\n",
       "    <tr>\n",
       "      <th>2003</th>\n",
       "      <td>4503491</td>\n",
       "      <td>648414</td>\n",
       "      <td>5510364</td>\n",
       "      <td>2724816</td>\n",
       "      <td>35253159</td>\n",
       "      <td>4528732</td>\n",
       "      <td>3484336</td>\n",
       "      <td>818003</td>\n",
       "      <td>568502</td>\n",
       "      <td>17004085</td>\n",
       "      <td>...</td>\n",
       "      <td>763729</td>\n",
       "      <td>5847812</td>\n",
       "      <td>22030931</td>\n",
       "      <td>2360137</td>\n",
       "      <td>617858</td>\n",
       "      <td>7366977</td>\n",
       "      <td>6104115</td>\n",
       "      <td>1812295</td>\n",
       "      <td>5479203</td>\n",
       "      <td>503453</td>\n",
       "    </tr>\n",
       "    <tr>\n",
       "      <th>2004</th>\n",
       "      <td>4530729</td>\n",
       "      <td>659286</td>\n",
       "      <td>5652404</td>\n",
       "      <td>2749686</td>\n",
       "      <td>35574576</td>\n",
       "      <td>4575013</td>\n",
       "      <td>3496094</td>\n",
       "      <td>830803</td>\n",
       "      <td>567754</td>\n",
       "      <td>17415318</td>\n",
       "      <td>...</td>\n",
       "      <td>770396</td>\n",
       "      <td>5910809</td>\n",
       "      <td>22394023</td>\n",
       "      <td>2401580</td>\n",
       "      <td>619920</td>\n",
       "      <td>7475575</td>\n",
       "      <td>6178645</td>\n",
       "      <td>1816438</td>\n",
       "      <td>5514026</td>\n",
       "      <td>509106</td>\n",
       "    </tr>\n",
       "  </tbody>\n",
       "</table>\n",
       "<p>5 rows × 51 columns</p>\n",
       "</div>"
      ],
      "text/plain": [
       "STNAME  Alabama  Alaska  Arizona  Arkansas  California  Colorado  Connecticut  \\\n",
       "2000    4452173  627963  5160586   2678588    33987977   4326921      3411777   \n",
       "2001    4467634  633714  5273477   2691571    34479458   4425687      3432835   \n",
       "2002    4480089  642337  5396255   2705927    34871843   4490406      3458749   \n",
       "2003    4503491  648414  5510364   2724816    35253159   4528732      3484336   \n",
       "2004    4530729  659286  5652404   2749686    35574576   4575013      3496094   \n",
       "\n",
       "STNAME  Delaware  District of Columbia   Florida  ...  South Dakota  \\\n",
       "2000      786373                572046  16047515  ...        755844   \n",
       "2001      795699                574504  16356966  ...        757972   \n",
       "2002      806169                573158  16689370  ...        760020   \n",
       "2003      818003                568502  17004085  ...        763729   \n",
       "2004      830803                567754  17415318  ...        770396   \n",
       "\n",
       "STNAME  Tennessee     Texas     Utah  Vermont  Virginia  Washington  \\\n",
       "2000      5703719  20944499  2244502   609618   7105817     5910512   \n",
       "2001      5750789  21319622  2283715   612223   7198362     5985722   \n",
       "2002      5795918  21690325  2324815   615442   7286873     6052349   \n",
       "2003      5847812  22030931  2360137   617858   7366977     6104115   \n",
       "2004      5910809  22394023  2401580   619920   7475575     6178645   \n",
       "\n",
       "STNAME  West Virginia  Wisconsin  Wyoming  \n",
       "2000          1807021    5373999   494300  \n",
       "2001          1801481    5406835   494657  \n",
       "2002          1805414    5445162   500017  \n",
       "2003          1812295    5479203   503453  \n",
       "2004          1816438    5514026   509106  \n",
       "\n",
       "[5 rows x 51 columns]"
      ]
     },
     "execution_count": 217,
     "metadata": {},
     "output_type": "execute_result"
    }
   ],
   "source": [
    "ST = stjoin4.transpose()\n",
    "ST.head()"
   ]
  },
  {
   "cell_type": "markdown",
   "metadata": {
    "slideshow": {
     "slide_type": "fragment"
    }
   },
   "source": [
    "Maybe a quick plot of the population trends in these states?"
   ]
  },
  {
   "cell_type": "code",
   "execution_count": 218,
   "metadata": {
    "scrolled": false,
    "slideshow": {
     "slide_type": "fragment"
    }
   },
   "outputs": [
    {
     "data": {
      "text/plain": [
       "<matplotlib.axes._subplots.AxesSubplot at 0x2b909d446c8>"
      ]
     },
     "execution_count": 218,
     "metadata": {},
     "output_type": "execute_result"
    },
    {
     "data": {
      "image/png": "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\n",
      "text/plain": [
       "<Figure size 576x360 with 1 Axes>"
      ]
     },
     "metadata": {
      "needs_background": "light"
     },
     "output_type": "display_data"
    }
   ],
   "source": [
    "ST['California'].plot(figsize=(8, 5))"
   ]
  },
  {
   "cell_type": "markdown",
   "metadata": {
    "slideshow": {
     "slide_type": "slide"
    }
   },
   "source": [
    "## 3.3 More Data Exploration and Cleaning: Berkeley PD Calls\n",
    "\n",
    "Let's load some police call data from the Berkeley Police Department and explore those data... this is an example of having to wrangle some messy, real world data. It's advanced work that you now can handle in Python!\n",
    "\n",
    "For example lets say we want to find out how many vandalism calls there are each day of the week. Let's load some data and figure out how to answer that question:"
   ]
  },
  {
   "cell_type": "code",
   "execution_count": 219,
   "metadata": {
    "scrolled": false,
    "slideshow": {
     "slide_type": "fragment"
    }
   },
   "outputs": [
    {
     "data": {
      "text/html": [
       "<div>\n",
       "<style scoped>\n",
       "    .dataframe tbody tr th:only-of-type {\n",
       "        vertical-align: middle;\n",
       "    }\n",
       "\n",
       "    .dataframe tbody tr th {\n",
       "        vertical-align: top;\n",
       "    }\n",
       "\n",
       "    .dataframe thead th {\n",
       "        text-align: right;\n",
       "    }\n",
       "</style>\n",
       "<table border=\"1\" class=\"dataframe\">\n",
       "  <thead>\n",
       "    <tr style=\"text-align: right;\">\n",
       "      <th></th>\n",
       "      <th>caseno</th>\n",
       "      <th>offense</th>\n",
       "      <th>eventdt</th>\n",
       "      <th>eventtm</th>\n",
       "      <th>cvlegend</th>\n",
       "      <th>cvdow</th>\n",
       "      <th>indbdate</th>\n",
       "      <th>block_location</th>\n",
       "      <th>blkaddr</th>\n",
       "      <th>city</th>\n",
       "      <th>state</th>\n",
       "      <th>:@computed_region_b3wi_w8ix</th>\n",
       "      <th>:@computed_region_fhmw_rucx</th>\n",
       "      <th>:@computed_region_u3y2_d2ws</th>\n",
       "      <th>:@computed_region_5s6d_2f32</th>\n",
       "      <th>:@computed_region_3ini_iehf</th>\n",
       "      <th>:@computed_region_5bih_7r3y</th>\n",
       "      <th>:@computed_region_x3q3_gi3e</th>\n",
       "    </tr>\n",
       "  </thead>\n",
       "  <tbody>\n",
       "    <tr>\n",
       "      <th>0</th>\n",
       "      <td>21025640</td>\n",
       "      <td>ASSAULT/BATTERY MISD.</td>\n",
       "      <td>2021-06-10T00:00:00.000</td>\n",
       "      <td>12:00</td>\n",
       "      <td>ASSAULT</td>\n",
       "      <td>4</td>\n",
       "      <td>2021-06-15T00:00:00.000</td>\n",
       "      <td>{'latitude': '37.882033', 'longitude': '-122.2...</td>\n",
       "      <td>1200 BLOCK SAN PABLO AVE</td>\n",
       "      <td>Berkeley</td>\n",
       "      <td>CA</td>\n",
       "      <td>7.0</td>\n",
       "      <td>1698.0</td>\n",
       "      <td>7.0</td>\n",
       "      <td>1498</td>\n",
       "      <td>9.0</td>\n",
       "      <td>12.0</td>\n",
       "      <td>5.0</td>\n",
       "    </tr>\n",
       "    <tr>\n",
       "      <th>1</th>\n",
       "      <td>21025720</td>\n",
       "      <td>THEFT MISD. (UNDER $950)</td>\n",
       "      <td>2021-06-10T00:00:00.000</td>\n",
       "      <td>21:21</td>\n",
       "      <td>LARCENY</td>\n",
       "      <td>4</td>\n",
       "      <td>2021-06-15T00:00:00.000</td>\n",
       "      <td>{'latitude': '37.858116', 'longitude': '-122.2...</td>\n",
       "      <td>2800 BLOCK ADELINE ST</td>\n",
       "      <td>Berkeley</td>\n",
       "      <td>CA</td>\n",
       "      <td>2.0</td>\n",
       "      <td>1664.0</td>\n",
       "      <td>2.0</td>\n",
       "      <td>1495</td>\n",
       "      <td>2.0</td>\n",
       "      <td>13.0</td>\n",
       "      <td>7.0</td>\n",
       "    </tr>\n",
       "    <tr>\n",
       "      <th>2</th>\n",
       "      <td>21025556</td>\n",
       "      <td>ASSAULT/BATTERY MISD.</td>\n",
       "      <td>2021-06-10T00:00:00.000</td>\n",
       "      <td>0:06</td>\n",
       "      <td>ASSAULT</td>\n",
       "      <td>4</td>\n",
       "      <td>2021-06-15T00:00:00.000</td>\n",
       "      <td>{'latitude': '37.864827', 'longitude': '-122.2...</td>\n",
       "      <td>2500 BLOCK TELEGRAPH AVE</td>\n",
       "      <td>Berkeley</td>\n",
       "      <td>CA</td>\n",
       "      <td>3.0</td>\n",
       "      <td>1146.0</td>\n",
       "      <td>3.0</td>\n",
       "      <td>1496</td>\n",
       "      <td>12.0</td>\n",
       "      <td>20.0</td>\n",
       "      <td>2.0</td>\n",
       "    </tr>\n",
       "    <tr>\n",
       "      <th>3</th>\n",
       "      <td>21025501</td>\n",
       "      <td>THEFT FROM AUTO</td>\n",
       "      <td>2021-06-09T00:00:00.000</td>\n",
       "      <td>13:00</td>\n",
       "      <td>LARCENY - FROM VEHICLE</td>\n",
       "      <td>3</td>\n",
       "      <td>2021-06-15T00:00:00.000</td>\n",
       "      <td>{'latitude': '37.862817', 'longitude': '-122.2...</td>\n",
       "      <td>2300 BLOCK 4TH ST</td>\n",
       "      <td>Berkeley</td>\n",
       "      <td>CA</td>\n",
       "      <td>8.0</td>\n",
       "      <td>1321.0</td>\n",
       "      <td>8.0</td>\n",
       "      <td>1502</td>\n",
       "      <td>5.0</td>\n",
       "      <td>11.0</td>\n",
       "      <td>8.0</td>\n",
       "    </tr>\n",
       "    <tr>\n",
       "      <th>4</th>\n",
       "      <td>21025535</td>\n",
       "      <td>DISTURBANCE</td>\n",
       "      <td>2021-06-09T00:00:00.000</td>\n",
       "      <td>20:40</td>\n",
       "      <td>DISORDERLY CONDUCT</td>\n",
       "      <td>3</td>\n",
       "      <td>2021-06-15T00:00:00.000</td>\n",
       "      <td>{'latitude': '37.860993', 'longitude': '-122.2...</td>\n",
       "      <td>2300 BLOCK DERBY ST</td>\n",
       "      <td>Berkeley</td>\n",
       "      <td>CA</td>\n",
       "      <td>3.0</td>\n",
       "      <td>1091.0</td>\n",
       "      <td>3.0</td>\n",
       "      <td>1497</td>\n",
       "      <td>12.0</td>\n",
       "      <td>20.0</td>\n",
       "      <td>2.0</td>\n",
       "    </tr>\n",
       "  </tbody>\n",
       "</table>\n",
       "</div>"
      ],
      "text/plain": [
       "     caseno                   offense                  eventdt eventtm  \\\n",
       "0  21025640     ASSAULT/BATTERY MISD.  2021-06-10T00:00:00.000   12:00   \n",
       "1  21025720  THEFT MISD. (UNDER $950)  2021-06-10T00:00:00.000   21:21   \n",
       "2  21025556     ASSAULT/BATTERY MISD.  2021-06-10T00:00:00.000    0:06   \n",
       "3  21025501           THEFT FROM AUTO  2021-06-09T00:00:00.000   13:00   \n",
       "4  21025535               DISTURBANCE  2021-06-09T00:00:00.000   20:40   \n",
       "\n",
       "                 cvlegend  cvdow                 indbdate  \\\n",
       "0                 ASSAULT      4  2021-06-15T00:00:00.000   \n",
       "1                 LARCENY      4  2021-06-15T00:00:00.000   \n",
       "2                 ASSAULT      4  2021-06-15T00:00:00.000   \n",
       "3  LARCENY - FROM VEHICLE      3  2021-06-15T00:00:00.000   \n",
       "4      DISORDERLY CONDUCT      3  2021-06-15T00:00:00.000   \n",
       "\n",
       "                                      block_location  \\\n",
       "0  {'latitude': '37.882033', 'longitude': '-122.2...   \n",
       "1  {'latitude': '37.858116', 'longitude': '-122.2...   \n",
       "2  {'latitude': '37.864827', 'longitude': '-122.2...   \n",
       "3  {'latitude': '37.862817', 'longitude': '-122.2...   \n",
       "4  {'latitude': '37.860993', 'longitude': '-122.2...   \n",
       "\n",
       "                    blkaddr      city state  :@computed_region_b3wi_w8ix  \\\n",
       "0  1200 BLOCK SAN PABLO AVE  Berkeley    CA                          7.0   \n",
       "1     2800 BLOCK ADELINE ST  Berkeley    CA                          2.0   \n",
       "2  2500 BLOCK TELEGRAPH AVE  Berkeley    CA                          3.0   \n",
       "3         2300 BLOCK 4TH ST  Berkeley    CA                          8.0   \n",
       "4       2300 BLOCK DERBY ST  Berkeley    CA                          3.0   \n",
       "\n",
       "   :@computed_region_fhmw_rucx  :@computed_region_u3y2_d2ws  \\\n",
       "0                       1698.0                          7.0   \n",
       "1                       1664.0                          2.0   \n",
       "2                       1146.0                          3.0   \n",
       "3                       1321.0                          8.0   \n",
       "4                       1091.0                          3.0   \n",
       "\n",
       "   :@computed_region_5s6d_2f32  :@computed_region_3ini_iehf  \\\n",
       "0                         1498                          9.0   \n",
       "1                         1495                          2.0   \n",
       "2                         1496                         12.0   \n",
       "3                         1502                          5.0   \n",
       "4                         1497                         12.0   \n",
       "\n",
       "   :@computed_region_5bih_7r3y  :@computed_region_x3q3_gi3e  \n",
       "0                         12.0                          5.0  \n",
       "1                         13.0                          7.0  \n",
       "2                         20.0                          2.0  \n",
       "3                         11.0                          8.0  \n",
       "4                         20.0                          2.0  "
      ]
     },
     "execution_count": 219,
     "metadata": {},
     "output_type": "execute_result"
    }
   ],
   "source": [
    "calls = pd.read_json(\"https://data.cityofberkeley.info/resource/k2nh-s5h5.json\")  # json\n",
    "calls.head()"
   ]
  },
  {
   "cell_type": "code",
   "execution_count": 220,
   "metadata": {
    "slideshow": {
     "slide_type": "fragment"
    }
   },
   "outputs": [
    {
     "data": {
      "text/plain": [
       "(1000, 18)"
      ]
     },
     "execution_count": 220,
     "metadata": {},
     "output_type": "execute_result"
    }
   ],
   "source": [
    "calls.shape"
   ]
  },
  {
   "cell_type": "markdown",
   "metadata": {
    "slideshow": {
     "slide_type": "slide"
    }
   },
   "source": [
    "### 3.3.1 Preliminary observations on the data?\n",
    "\n",
    "1. `eventdt` -- Contain the incorrect time stamp (all the times are 12:00 am)\n",
    "1. `eventtm` -- Contains the time in 24 hour format (What timezone?)\n",
    "1. `indbdate` -- Appears to be correctly formatted and appears awfully consistent in time.\n",
    "1. `block_location` -- Errr, what a mess!  newline characters, and Geocoordinates all merged!!  Fortunately, this field was \"quoted\" otherwise we would have had trouble parsing the file. (why?)\n",
    "1. `blkaddr` -- This appears to be the address in Block Location.\n",
    "1. `city` and `state` seem redundant given this is supposed to be the city of Berkeley dataset.\n",
    "1. `cvdow` almost gives us what we want (\"dow\" == Day of Week), but it would be nice to have the actual day names"
   ]
  },
  {
   "cell_type": "markdown",
   "metadata": {
    "slideshow": {
     "slide_type": "slide"
    }
   },
   "source": [
    "### 3.3.2 Data analysis"
   ]
  },
  {
   "cell_type": "markdown",
   "metadata": {
    "slideshow": {
     "slide_type": "fragment"
    }
   },
   "source": [
    "How could we find out how many Vandalism calls happen by day of the week?"
   ]
  },
  {
   "cell_type": "code",
   "execution_count": 221,
   "metadata": {
    "slideshow": {
     "slide_type": "fragment"
    }
   },
   "outputs": [],
   "source": [
    "calls['eventdt'] = pd.to_datetime(calls.eventdt)"
   ]
  },
  {
   "cell_type": "code",
   "execution_count": 222,
   "metadata": {
    "slideshow": {
     "slide_type": "fragment"
    }
   },
   "outputs": [],
   "source": [
    "calls['day_of_week'] = calls.eventdt.dt.day_name()"
   ]
  },
  {
   "cell_type": "code",
   "execution_count": 223,
   "metadata": {
    "scrolled": true,
    "slideshow": {
     "slide_type": "fragment"
    }
   },
   "outputs": [
    {
     "data": {
      "text/plain": [
       "Thursday     12\n",
       "Saturday     10\n",
       "Wednesday     8\n",
       "Friday        8\n",
       "Tuesday       7\n",
       "Monday        5\n",
       "Sunday        4\n",
       "Name: day_of_week, dtype: int64"
      ]
     },
     "execution_count": 223,
     "metadata": {},
     "output_type": "execute_result"
    }
   ],
   "source": [
    "calls.loc[calls['offense'] == 'VANDALISM', 'day_of_week'].value_counts()"
   ]
  },
  {
   "cell_type": "markdown",
   "metadata": {
    "slideshow": {
     "slide_type": "slide"
    }
   },
   "source": [
    "### 3.3.3 Datetime operations"
   ]
  },
  {
   "cell_type": "markdown",
   "metadata": {
    "slideshow": {
     "slide_type": "fragment"
    }
   },
   "source": [
    "To complete the preceding analysis, we made use of some built-in functionality in pandas for working with dates. The first thing we did was to convert the `eventdt` column from a `str` type to a `datetime` type. Once we have a `datetime` type column, pandas makes it easy to perform all kinds of operations. Note: this syntax should look familiar to you from when we saw `str` type operations above."
   ]
  },
  {
   "cell_type": "code",
   "execution_count": 224,
   "metadata": {
    "slideshow": {
     "slide_type": "fragment"
    }
   },
   "outputs": [
    {
     "data": {
      "text/plain": [
       "0    2021\n",
       "1    2021\n",
       "2    2021\n",
       "3    2021\n",
       "4    2021\n",
       "Name: eventdt, dtype: int64"
      ]
     },
     "execution_count": 224,
     "metadata": {},
     "output_type": "execute_result"
    }
   ],
   "source": [
    "calls['eventdt'].dt.year.head()"
   ]
  },
  {
   "cell_type": "code",
   "execution_count": 228,
   "metadata": {
    "slideshow": {
     "slide_type": "fragment"
    }
   },
   "outputs": [
    {
     "ename": "AttributeError",
     "evalue": "'DatetimeProperties' object has no attribute 'day_in_year'",
     "output_type": "error",
     "traceback": [
      "\u001b[1;31m---------------------------------------------------------------------------\u001b[0m",
      "\u001b[1;31mAttributeError\u001b[0m                            Traceback (most recent call last)",
      "\u001b[1;32m<ipython-input-228-e3766f67fa16>\u001b[0m in \u001b[0;36m<module>\u001b[1;34m\u001b[0m\n\u001b[1;32m----> 1\u001b[1;33m \u001b[0mcalls\u001b[0m\u001b[1;33m[\u001b[0m\u001b[1;34m'eventdt'\u001b[0m\u001b[1;33m]\u001b[0m\u001b[1;33m.\u001b[0m\u001b[0mdt\u001b[0m\u001b[1;33m.\u001b[0m\u001b[0mday_in_year\u001b[0m\u001b[1;33m.\u001b[0m\u001b[0msample\u001b[0m\u001b[1;33m(\u001b[0m\u001b[1;36m10\u001b[0m\u001b[1;33m)\u001b[0m\u001b[1;33m\u001b[0m\u001b[1;33m\u001b[0m\u001b[0m\n\u001b[0m",
      "\u001b[1;31mAttributeError\u001b[0m: 'DatetimeProperties' object has no attribute 'day_in_year'"
     ]
    }
   ],
   "source": [
    "calls['eventdt'].dt.day_in_year.sample(10)"
   ]
  },
  {
   "cell_type": "code",
   "execution_count": 226,
   "metadata": {
    "slideshow": {
     "slide_type": "fragment"
    }
   },
   "outputs": [
    {
     "data": {
      "text/plain": [
       "30    522\n",
       "31    478\n",
       "Name: eventdt, dtype: int64"
      ]
     },
     "execution_count": 226,
     "metadata": {},
     "output_type": "execute_result"
    }
   ],
   "source": [
    "calls['eventdt'].dt.days_in_month.value_counts()"
   ]
  },
  {
   "cell_type": "markdown",
<<<<<<< HEAD
=======
   "id": "b390d312",
>>>>>>> b29ccfe24745ae7d4ee025057dc4dd640781773b
   "metadata": {
    "slideshow": {
     "slide_type": "slide"
    }
   },
   "source": [
    "# 4. For next time \n",
    "- Assignment 2 due\n",
    "- Don't forget about GitHub Pages"
   ]
  },
  {
   "cell_type": "markdown",
<<<<<<< HEAD
=======
   "id": "b30a0679",
>>>>>>> b29ccfe24745ae7d4ee025057dc4dd640781773b
   "metadata": {
    "slideshow": {
     "slide_type": "slide"
    }
   },
   "source": [
    "# 5. Questions?"
   ]
  },
  {
   "cell_type": "markdown",
   "metadata": {
    "slideshow": {
     "slide_type": "skip"
    }
   },
   "source": [
    "# Sources\n",
    "\n",
    "This notebook was heavily adapted from previous course material by Prof. Paul Waddell and Samuel Maurer."
   ]
  }
 ],
 "metadata": {
  "celltoolbar": "Slideshow",
  "kernelspec": {
   "display_name": "Python 3",
   "language": "python",
   "name": "python3"
  },
  "language_info": {
   "codemirror_mode": {
    "name": "ipython",
    "version": 3
   },
   "file_extension": ".py",
   "mimetype": "text/x-python",
   "name": "python",
   "nbconvert_exporter": "python",
   "pygments_lexer": "ipython3",
   "version": "3.7.6"
  },
  "toc": {
   "base_numbering": 1,
   "nav_menu": {},
   "number_sections": false,
   "sideBar": true,
   "skip_h1_title": true,
   "title_cell": "Table of Contents",
   "title_sidebar": "Contents",
   "toc_cell": true,
   "toc_position": {
    "height": "757px",
    "left": "213px",
    "top": "111.133px",
    "width": "206.333px"
   },
   "toc_section_display": true,
   "toc_window_display": false
  }
 },
 "nbformat": 4,
 "nbformat_minor": 5
}
