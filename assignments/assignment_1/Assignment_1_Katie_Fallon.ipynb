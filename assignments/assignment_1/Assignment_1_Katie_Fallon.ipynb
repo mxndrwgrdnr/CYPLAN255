{
 "cells": [
  {
   "cell_type": "markdown",
   "metadata": {},
   "source": [
    "## Assignment 1 | Data Types\n",
    "\n",
    "Add code cells as needed for your answers. "
   ]
  },
  {
   "cell_type": "markdown",
   "metadata": {},
   "source": [
    "### Exercise 1: Manipulating Lists"
   ]
  },
  {
   "cell_type": "markdown",
   "metadata": {},
   "source": [
    "Create a list containing the numbers 10, 20, and 30. Store your list as a variable named `a`. Then create a second list containing the numbers 30, 60, and 90. Call this this `b`."
   ]
  },
  {
   "cell_type": "code",
   "execution_count": 17,
   "metadata": {},
   "outputs": [],
   "source": [
    "import numpy as np\n",
    "import math"
   ]
  },
  {
   "cell_type": "code",
   "execution_count": 194,
   "metadata": {},
   "outputs": [],
   "source": [
    "a=range(10,40,10)\n",
    "b=range(30,100,30)\n",
    "a=list(a)\n",
    "b=list(b)"
   ]
  },
  {
   "cell_type": "markdown",
   "metadata": {},
   "source": [
    "In the cells below, write Python expressions to create the following four outputs by combining `a` and `b` in creative ways:\n",
    "\n",
    "1. [[10, 20, 30], [30, 60, 90]]\n",
    "\n",
    "2. [10, 20, 30, 30, 60, 90]\n",
    "\n",
    "3. [10, 20, 60, 90]\n",
    "\n",
    "4. [20, 40, 60]"
   ]
  },
  {
   "cell_type": "code",
   "execution_count": 195,
   "metadata": {},
   "outputs": [
    {
     "name": "stdout",
     "output_type": "stream",
     "text": [
      "([10, 20, 30], [30, 60, 90])\n"
     ]
    }
   ],
   "source": [
    "print((a,b))"
   ]
  },
  {
   "cell_type": "code",
   "execution_count": 196,
   "metadata": {},
   "outputs": [
    {
     "name": "stdout",
     "output_type": "stream",
     "text": [
      "[10, 20, 30, 30, 60, 90]\n"
     ]
    }
   ],
   "source": [
    "print(a+b)"
   ]
  },
  {
   "cell_type": "code",
   "execution_count": 198,
   "metadata": {},
   "outputs": [
    {
     "name": "stdout",
     "output_type": "stream",
     "text": [
      "[10, 20, 60, 90]\n"
     ]
    }
   ],
   "source": [
    "print(a[0:2]+b[1:3])"
   ]
  },
  {
   "cell_type": "code",
   "execution_count": 199,
   "metadata": {},
   "outputs": [
    {
     "name": "stdout",
     "output_type": "stream",
     "text": [
      "[20 40 60]\n"
     ]
    }
   ],
   "source": [
    "print(np.subtract(b,a))"
   ]
  },
  {
   "cell_type": "markdown",
   "metadata": {},
   "source": [
    "### Exercise 2. Working with Lists\n",
    "\n",
    "Create a list that contains the sums of each of the lists in G. \n",
    "\n",
    "`G = [[13, 9, 8], [14, 6, 12], [10, 13, 11], [7, 18, 9]]`\n",
    "\n",
    "Your output should look like:\n",
    "\n",
    "- `[30, 32, 34, 34]`\n",
    "\n",
    "Hint: try computing the sum for just one list first."
   ]
  },
  {
   "cell_type": "code",
   "execution_count": 16,
   "metadata": {},
   "outputs": [
    {
     "name": "stdout",
     "output_type": "stream",
     "text": [
      "[[13, 9, 8], [14, 6, 12], [10, 13, 11], [7, 18, 9]]\n"
     ]
    }
   ],
   "source": [
    "G = [[13, 9, 8], [14, 6, 12], [10, 13, 11], [7, 18, 9]]\n",
    "print(G)"
   ]
  },
  {
   "cell_type": "code",
   "execution_count": 18,
   "metadata": {},
   "outputs": [
    {
     "name": "stdout",
     "output_type": "stream",
     "text": [
      "[30, 32, 34, 34]\n"
     ]
    }
   ],
   "source": [
    "print([np.sum(G[0]),np.sum(G[1]),np.sum(G[2]),np.sum(G[3])])"
   ]
  },
  {
   "cell_type": "markdown",
   "metadata": {},
   "source": [
    "### Exercise 3: String Manipulation\n",
    "\n",
    "Turn the string below into 'all good countrymen' using the minimum amount of code, using only the methods we've covered so far. A couple of lines of code should do the trick.  Note: this requires string and list methods."
   ]
  },
  {
   "cell_type": "code",
   "execution_count": 2,
   "metadata": {},
   "outputs": [],
   "source": [
    "s = 'Now is the time for all good men to come to the aid of their country!'"
   ]
  },
  {
   "cell_type": "code",
   "execution_count": 27,
   "metadata": {},
   "outputs": [
    {
     "data": {
      "text/plain": [
       "'all good countrymen'"
      ]
     },
     "execution_count": 27,
     "metadata": {},
     "output_type": "execute_result"
    }
   ],
   "source": [
    "s[20:28]+s[60:68]+s[29:32]"
   ]
  },
  {
   "cell_type": "markdown",
   "metadata": {},
   "source": [
    "### Exercise 4: String Manipulation and Type Conversion\n",
    "\n",
    "Define a variable `a = \"Sarah earns $96500 in a year\"`. Then maniuplate the value of `a` in order to print the following string: `Sarah earns $8041.67 monthly`\n",
    "\n",
    "Start by doing it in several steps and then combine them one step at a time until you can do it in one line."
   ]
  },
  {
   "cell_type": "code",
   "execution_count": 43,
   "metadata": {},
   "outputs": [
    {
     "name": "stdout",
     "output_type": "stream",
     "text": [
      "Sarah earns $8041.67 monthly\n"
     ]
    }
   ],
   "source": [
    "a = \"Sarah earns $96500 in a year\"\n",
    "print((a[:13])+'{:.2f}'.format((int(a[13:18]))/12)+' monthly')"
   ]
  },
  {
   "cell_type": "markdown",
   "metadata": {},
   "source": [
    "### Exercise 5: Create and Query a Dictionary on State Demographics\n",
    "\n",
    "Create two dictionaries, one for California and one for New York state, based on the data in the following table:\n",
    "\n",
    "| States | Pop Density | Prop White | Prop Afr Amer | Prop Asian | Prop Other | Owners | Renters |\n",
    "| --- | ---: | ---: | ---: | ---: | ---: | ---: | ---: |\n",
    "| CA | 239.1 | 0.57  | 0.06 | 0.13 | 0.22 | 7035371 | 5542127 |\n",
    "| NY | 411.2 | 0.65  | 0.15 | 0.07 | 0.22 | 3897837 | 3419918 |\n",
    "\n",
    "Each dictionary should have the following keys and value types: `name: (string)` , `population density: (float)`, `race (dict)`, `tenure: (dict)`. \n",
    "\n",
    "1.  Create one dictionary called CA and one called NY that contain dictionaries containing name, pop_density, race as a dictionary, and tenure for California and New York.  Now combine these into a dictionary called \"states\", making it a dictionary of dictionaries, or a nested dictionary.\n",
    "\n",
    "1.  Check if Texas is in our state dictionary (we know it isn't but show us).\n",
    "\n",
    "1. Print the White population in New York as a percentage\n",
    "\n",
    "1. Assume there was a typo in the data, and update the White population fraction of NY to 0.64. Verify that it was updated by printing the percentage again.\n",
    "\n",
    "1. Print the percentage of households that are renters in California, with two decimal places"
   ]
  },
  {
   "cell_type": "code",
   "execution_count": 3,
   "metadata": {},
   "outputs": [
    {
     "data": {
      "text/plain": [
       "{'Name': 'CA',\n",
       " 'Population Density': 239.1,\n",
       " 'Race': {'Prop White': 0.57,\n",
       "  'Prop Black': 0.06,\n",
       "  'Prop Asian': 0.13,\n",
       "  'Prop Other': 0.22},\n",
       " 'Tenure': {'Owners': 7035371, 'Renters': 5542127}}"
      ]
     },
     "execution_count": 3,
     "metadata": {},
     "output_type": "execute_result"
    }
   ],
   "source": [
    "CA = {'Name':'CA','Population Density':239.1,'Race':{'Prop White':0.57,'Prop Black':0.06,'Prop Asian':0.13,'Prop Other':0.22},'Tenure':{'Owners':7035371,'Renters':5542127}} \n",
    "CA"
   ]
  },
  {
   "cell_type": "code",
   "execution_count": 4,
   "metadata": {
    "scrolled": true
   },
   "outputs": [
    {
     "data": {
      "text/plain": [
       "{'Name': 'NY',\n",
       " 'Population Density': 411.2,\n",
       " 'Race': {'Prop White': 0.65,\n",
       "  'Prop Black': 0.15,\n",
       "  'Prop Asian': 0.07,\n",
       "  'Prop Other': 0.22},\n",
       " 'Tenure': {'Owners': 3897837, 'Renters': 3419918}}"
      ]
     },
     "execution_count": 4,
     "metadata": {},
     "output_type": "execute_result"
    }
   ],
   "source": [
    "NY = {'Name':'NY','Population Density':411.2,'Race':{'Prop White':0.65,'Prop Black':0.15,'Prop Asian':0.07,'Prop Other':0.22},'Tenure':{'Owners':3897837,'Renters':3419918}}\n",
    "NY"
   ]
  },
  {
   "cell_type": "code",
   "execution_count": 5,
   "metadata": {
    "scrolled": true
   },
   "outputs": [
    {
     "name": "stdout",
     "output_type": "stream",
     "text": [
      "{'CA': {'Name': 'CA', 'Population Density': 239.1, 'Race': {'Prop White': 0.57, 'Prop Black': 0.06, 'Prop Asian': 0.13, 'Prop Other': 0.22}, 'Tenure': {'Owners': 7035371, 'Renters': 5542127}}, 'NY': {'Name': 'NY', 'Population Density': 411.2, 'Race': {'Prop White': 0.65, 'Prop Black': 0.15, 'Prop Asian': 0.07, 'Prop Other': 0.22}, 'Tenure': {'Owners': 3897837, 'Renters': 3419918}}}\n"
     ]
    }
   ],
   "source": [
    "States = {'CA':CA,'NY':NY}\n",
    "print (States)"
   ]
  },
  {
   "cell_type": "code",
   "execution_count": 6,
   "metadata": {},
   "outputs": [
    {
     "name": "stdout",
     "output_type": "stream",
     "text": [
      "None\n"
     ]
    }
   ],
   "source": [
    "print(States.get('Texas'))"
   ]
  },
  {
   "cell_type": "code",
   "execution_count": 7,
   "metadata": {},
   "outputs": [
    {
     "name": "stdout",
     "output_type": "stream",
     "text": [
      "65%\n"
     ]
    }
   ],
   "source": [
    "percent_white = '{:.0%}'.format(NY['Race']['Prop White'])\n",
    "print(percent_white)"
   ]
  },
  {
   "cell_type": "code",
   "execution_count": 8,
   "metadata": {},
   "outputs": [
    {
     "name": "stdout",
     "output_type": "stream",
     "text": [
      "{'Name': 'NY', 'Population Density': 411.2, 'Race': {'Prop White': 0.64, 'Prop Black': 0.15, 'Prop Asian': 0.07, 'Prop Other': 0.22}, 'Tenure': {'Owners': 3897837, 'Renters': 3419918}}\n"
     ]
    }
   ],
   "source": [
    "NY['Race']['Prop White']=.64\n",
    "print(NY)"
   ]
  },
  {
   "cell_type": "code",
   "execution_count": 12,
   "metadata": {},
   "outputs": [
    {
     "name": "stdout",
     "output_type": "stream",
     "text": [
      "44.06%\n"
     ]
    }
   ],
   "source": [
    "print('{:.2%}'.format(CA['Tenure']['Renters']/(CA['Tenure']['Renters']+CA['Tenure']['Owners'])))"
   ]
  },
  {
   "cell_type": "markdown",
   "metadata": {
    "collapsed": true
   },
   "source": [
    "### Exercise 6: Working with Numpy Arrays\n",
    "\n",
    "1. Create and print a 4 x 4 array named `a` with value 3 everywhere.\n",
    "\n",
    "1. Create and print a 4 x 4 array named `b` with elements drawn from a uniform random distribution \n",
    "\n",
    "1. Create and print array `c` by dividing a by b\n",
    "\n",
    "1. Compute and print the min, mean, max, median, and 90th percentile values of `c`\n",
    "\n",
    "1. Compute and print the sum of the second column in `c`"
   ]
  },
  {
   "cell_type": "code",
   "execution_count": 43,
   "metadata": {},
   "outputs": [],
   "source": [
    "import numpy as np"
   ]
  },
  {
   "cell_type": "code",
   "execution_count": 35,
   "metadata": {},
   "outputs": [
    {
     "name": "stdout",
     "output_type": "stream",
     "text": [
      "[[3 3 3 3]\n",
      " [3 3 3 3]\n",
      " [3 3 3 3]\n",
      " [3 3 3 3]]\n"
     ]
    }
   ],
   "source": [
    "a = np.array([3, 3, 3, 3, 3, 3, 3, 3, 3, 3, 3, 3, 3, 3, 3, 3])\n",
    "a.reshape(4,4)\n",
    "a = a.reshape(4,4)\n",
    "print(a)"
   ]
  },
  {
   "cell_type": "code",
   "execution_count": 36,
   "metadata": {},
   "outputs": [
    {
     "name": "stdout",
     "output_type": "stream",
     "text": [
      "[[1.88321644 2.51159688 2.27566979 1.61446513]\n",
      " [2.90655635 2.76190585 2.86317343 2.52276142]\n",
      " [1.19679226 1.68108133 1.31946029 1.13117922]\n",
      " [2.02381811 1.55164045 2.38566709 2.45712952]]\n"
     ]
    }
   ],
   "source": [
    "b = np.random.uniform(3,1,16)\n",
    "b.reshape(4,4)\n",
    "b = b.reshape(4,4)\n",
    "print(b)"
   ]
  },
  {
   "cell_type": "code",
   "execution_count": 37,
   "metadata": {},
   "outputs": [
    {
     "name": "stdout",
     "output_type": "stream",
     "text": [
      "[[1.59301923 1.1944592  1.31829319 1.85820056]\n",
      " [1.03214927 1.08620647 1.04778843 1.18917309]\n",
      " [2.5067007  1.78456566 2.27365691 2.65209964]\n",
      " [1.48234665 1.93343761 1.25750991 1.22093686]]\n"
     ]
    }
   ],
   "source": [
    "c = (a/b)\n",
    "print(c)"
   ]
  },
  {
   "cell_type": "code",
   "execution_count": 38,
   "metadata": {},
   "outputs": [
    {
     "name": "stdout",
     "output_type": "stream",
     "text": [
      "1.032149265087967\n",
      "1.5894089609240654\n",
      "2.6520996359515543\n",
      "1.4003199237097586\n",
      "2.3901788042644827\n"
     ]
    }
   ],
   "source": [
    "min = np.min(c)\n",
    "mean = np.mean(c)\n",
    "max = np.max(c)\n",
    "median = np.median(c)\n",
    "percentile = np.percentile(c,90)\n",
    "print(min)\n",
    "print(mean)\n",
    "print(max)\n",
    "print(median)\n",
    "print(percentile)"
   ]
  },
  {
   "cell_type": "code",
   "execution_count": 39,
   "metadata": {},
   "outputs": [
    {
     "name": "stdout",
     "output_type": "stream",
     "text": [
      "5.998668935337918\n"
     ]
    }
   ],
   "source": [
    "print(np.sum(c[:,1]))"
   ]
  }
 ],
 "metadata": {
  "kernelspec": {
   "display_name": "Python 3 (ipykernel)",
   "language": "python",
   "name": "python3"
  },
  "language_info": {
   "codemirror_mode": {
    "name": "ipython",
    "version": 3
   },
   "file_extension": ".py",
   "mimetype": "text/x-python",
   "name": "python",
   "nbconvert_exporter": "python",
   "pygments_lexer": "ipython3",
   "version": "3.9.7"
  },
  "toc": {
   "base_numbering": 1,
   "nav_menu": {},
   "number_sections": true,
   "sideBar": true,
   "skip_h1_title": false,
   "title_cell": "Table of Contents",
   "title_sidebar": "Contents",
   "toc_cell": false,
   "toc_position": {},
   "toc_section_display": true,
   "toc_window_display": false
  }
 },
 "nbformat": 4,
 "nbformat_minor": 2
}
