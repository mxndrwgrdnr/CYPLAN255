{
 "cells": [
  {
   "cell_type": "markdown",
   "metadata": {},
   "source": [
    "## Assignment 1 | Data Types\n",
    "\n",
    "Add code cells as needed for your answers. "
   ]
  },
  {
   "cell_type": "markdown",
   "metadata": {},
   "source": [
    "### Exercise 1: Manipulating Lists"
   ]
  },
  {
   "cell_type": "markdown",
   "metadata": {},
   "source": [
    "Create a list containing the numbers 10, 20, and 30. Store your list as a variable named `a`. Then create a second list containing the numbers 30, 60, and 90. Call this this `b`."
   ]
  },
  {
   "cell_type": "code",
   "execution_count": 1,
   "metadata": {},
   "outputs": [
    {
     "name": "stdout",
     "output_type": "stream",
     "text": [
      "[10, 20, 30]\n"
     ]
    }
   ],
   "source": [
    "#creating a list called 'a'\n",
    "a = [10, 20, 30]\n",
    "print(a)"
   ]
  },
  {
   "cell_type": "code",
   "execution_count": 2,
   "metadata": {},
   "outputs": [
    {
     "name": "stdout",
     "output_type": "stream",
     "text": [
      "[30, 60, 90]\n"
     ]
    }
   ],
   "source": [
    "#creating a second list called 'b'\n",
    "b = [30, 60, 90]\n",
    "print(b)"
   ]
  },
  {
   "cell_type": "markdown",
   "metadata": {},
   "source": [
    "In the cells below, write Python expressions to create the following four outputs by combining `a` and `b` in creative ways:\n",
    "\n",
    "1. [[10, 20, 30], [30, 60, 90]]\n",
    "\n",
    "2. [10, 20, 30, 30, 60, 90]\n",
    "\n",
    "3. [10, 20, 60, 90]\n",
    "\n",
    "4. [20, 40, 60]"
   ]
  },
  {
   "cell_type": "code",
   "execution_count": 3,
   "metadata": {},
   "outputs": [
    {
     "data": {
      "text/plain": [
       "[[10, 20, 30], [30, 60, 90]]"
      ]
     },
     "execution_count": 3,
     "metadata": {},
     "output_type": "execute_result"
    }
   ],
   "source": [
    "#1. expression to combine a and b in creative ways: [[10, 20, 30], [30, 60, 90]]\n",
    "[a] + [b] "
   ]
  },
  {
   "cell_type": "code",
   "execution_count": 4,
   "metadata": {},
   "outputs": [
    {
     "data": {
      "text/plain": [
       "[10, 20, 30, 30, 60, 90]"
      ]
     },
     "execution_count": 4,
     "metadata": {},
     "output_type": "execute_result"
    }
   ],
   "source": [
    "#2. expression to combine a and b in creative ways: [10, 20, 30, 30, 60, 90]\n",
    "a + b"
   ]
  },
  {
   "cell_type": "code",
   "execution_count": 5,
   "metadata": {},
   "outputs": [
    {
     "data": {
      "text/plain": [
       "[10, 20, 60, 90]"
      ]
     },
     "execution_count": 5,
     "metadata": {},
     "output_type": "execute_result"
    }
   ],
   "source": [
    "#3. expression to combine a and b in creative ways: [10, 20, 60, 90]\n",
    "c = a + b\n",
    "del c[2:4]\n",
    "c"
   ]
  },
  {
   "cell_type": "code",
   "execution_count": 6,
   "metadata": {},
   "outputs": [
    {
     "name": "stdout",
     "output_type": "stream",
     "text": [
      "[20, 40, 60]\n"
     ]
    }
   ],
   "source": [
    "#4. expression to combine a and b in creative ways: [20, 40, 60]\n",
    "result = map(lambda x,y: y-x, a,b)\n",
    "print(list(result))"
   ]
  },
  {
   "cell_type": "markdown",
   "metadata": {},
   "source": [
    "### Exercise 2. Working with Lists\n",
    "\n",
    "Create a list that contains the sums of each of the lists in G. \n",
    "\n",
    "`G = [[13, 9, 8], [14, 6, 12], [10, 13, 11], [7, 18, 9]]`\n",
    "\n",
    "Your output should look like:\n",
    "\n",
    "- `[30, 32, 34, 34]`\n",
    "\n",
    "Hint: try computing the sum for just one list first."
   ]
  },
  {
   "cell_type": "code",
   "execution_count": 7,
   "metadata": {},
   "outputs": [
    {
     "data": {
      "text/plain": [
       "[30, 32, 34, 34]"
      ]
     },
     "execution_count": 7,
     "metadata": {},
     "output_type": "execute_result"
    }
   ],
   "source": [
    "#create list called G \n",
    "G = [[13, 9, 8], [14, 6, 12], [10, 13, 11], [7, 18, 9]]\n",
    "\n",
    "#use map function to sum individual items within each sublist\n",
    "list(map(sum, G))"
   ]
  },
  {
   "cell_type": "markdown",
   "metadata": {},
   "source": [
    "### Exercise 3: String Manipulation\n",
    "\n",
    "Turn the string below into 'all good countrymen' using the minimum amount of code, using only the methods we've covered so far. A couple of lines of code should do the trick.  Note: this requires string and list methods."
   ]
  },
  {
   "cell_type": "code",
   "execution_count": 8,
   "metadata": {},
   "outputs": [
    {
     "name": "stdout",
     "output_type": "stream",
     "text": [
      "all good countrymen\n"
     ]
    }
   ],
   "source": [
    "s = 'Now is the time for all good men to come to the aid of their country!'\n",
    "\n",
    "#create a list from string s and replace the ! with no space.\n",
    "t = str.split(s.replace('!',''))\n",
    "\n",
    "#joins selected items in list t with a space and adds the word men to the end.\n",
    "print(' '.join([t[5], t[6], t[15]])+'men')\n",
    "\n",
    "\n"
   ]
  },
  {
   "cell_type": "markdown",
   "metadata": {},
   "source": [
    "### Exercise 4: String Manipulation and Type Conversion\n",
    "\n",
    "Define a variable `a = \"Sarah earns $96500 in a year\"`. Then maniuplate the value of `a` in order to print the following string: `Sarah earns $8041.67 monthly`\n",
    "\n",
    "Start by doing it in several steps and then combine them one step at a time until you can do it in one line."
   ]
  },
  {
   "cell_type": "code",
   "execution_count": 9,
   "metadata": {},
   "outputs": [
    {
     "name": "stdout",
     "output_type": "stream",
     "text": [
      "Sarah earns $8041.67 in a month\n"
     ]
    }
   ],
   "source": [
    "#defining variable\n",
    "a = \"Sarah earns $96500 in a year\"\n",
    "\n",
    "#print the function a but replace individual text/numbers in the string. Not sure I did this how it was intended? \n",
    "print(a.replace(\"$96500 in a year\", \"$8041.67 in a month\"))"
   ]
  },
  {
   "cell_type": "markdown",
   "metadata": {},
   "source": [
    "### Exercise 5: Create and Query a Dictionary on State Demographics\n",
    "\n",
    "Create two dictionaries, one for California and one for New York state, based on the data in the following table:\n",
    "\n",
    "| States | Pop Density | Prop White | Prop Afr Amer | Prop Asian | Prop Other | Owners | Renters |\n",
    "| --- | ---: | ---: | ---: | ---: | ---: | ---: | ---: |\n",
    "| CA | 239.1 | 0.57  | 0.06 | 0.13 | 0.22 | 7035371 | 5542127 |\n",
    "| NY | 411.2 | 0.65  | 0.15 | 0.07 | 0.22 | 3897837 | 3419918 |\n",
    "\n",
    "Each dictionary should have the following keys and value types: `name: (string)` , `population density: (float)`, `race (dict)`, `tenure: (dict)`. \n",
    "\n",
    "1.  Create one dictionary called CA and one called NY that contain dictionaries containing name, pop_density, race as a dictionary, and tenure for California and New York.  Now combine these into a dictionary called \"states\", making it a dictionary of dictionaries, or a nested dictionary.\n",
    "\n",
    "1.  Check if Texas is in our state dictionary (we know it isn't but show us).\n",
    "\n",
    "1. Print the White population in New York as a percentage\n",
    "\n",
    "1. Assume there was a typo in the data, and update the White population fraction of NY to 0.64. Verify that it was updated by printing the percentage again.\n",
    "\n",
    "1. Print the percentage of households that are renters in California, with two decimal places"
   ]
  },
  {
   "cell_type": "code",
   "execution_count": 10,
   "metadata": {},
   "outputs": [
    {
     "name": "stdout",
     "output_type": "stream",
     "text": [
      "{'name': 'CA', 'population density': 239.1, 'race': {'Prop White': 0.57, 'Prop Afr Amer': 0.06, 'Prop Asian': 0.13, 'Prop Other': 0.22}, 'tenure': {'Owners': 7035371, 'Renters': 5542127}}\n",
      "{'name': 'NY', 'population density': 411.2, 'race': {'Prop White': 0.65, 'Prop Afr Amer': 0.15, 'Prop Asian': 0.07, 'Prop Other': 0.22}, 'tenure': {'Owners': 3897837, 'Renters': 3419918}}\n"
     ]
    }
   ],
   "source": [
    "#Create one dictionary called CA and one called NY that contain dictionaries containing name, pop_density, \n",
    "#race as a dictionary, and tenure for California and New York. \n",
    "\n",
    "#creating race and tenure dictionaries for each state \n",
    "race_CA = {'Prop White': 0.57, 'Prop Afr Amer': 0.06, 'Prop Asian': 0.13, 'Prop Other': 0.22}\n",
    "race_NY = {'Prop White': 0.65, 'Prop Afr Amer': 0.15, 'Prop Asian': 0.07, 'Prop Other': 0.22}\n",
    "tenure_CA = {'Owners': 7035371, 'Renters': 5542127}\n",
    "tenure_NY = {'Owners': 3897837, 'Renters': 3419918}\n",
    "\n",
    "#create name column headers with values for both states which include the race and tenure dicts made previously\n",
    "name_keys = ['name','population density', 'race', 'tenure']\n",
    "values_CA = ['CA', 239.1, race_CA, tenure_CA]\n",
    "values_NY = ['NY', 411.2, race_NY, tenure_NY]\n",
    "\n",
    "#join into a dict\n",
    "CA_dict = dict(zip(name_keys, values_CA))\n",
    "NY_dict = dict(zip(name_keys, values_NY))\n",
    "print(CA_dict)\n",
    "print(NY_dict)\n",
    "\n"
   ]
  },
  {
   "cell_type": "code",
   "execution_count": 11,
   "metadata": {},
   "outputs": [
    {
     "name": "stdout",
     "output_type": "stream",
     "text": [
      "{'State1': {'name': 'CA', 'population density': 239.1, 'race': {'Prop White': 0.57, 'Prop Afr Amer': 0.06, 'Prop Asian': 0.13, 'Prop Other': 0.22}, 'tenure': {'Owners': 7035371, 'Renters': 5542127}}, 'State2': {'name': 'NY', 'population density': 411.2, 'race': {'Prop White': 0.65, 'Prop Afr Amer': 0.15, 'Prop Asian': 0.07, 'Prop Other': 0.22}, 'tenure': {'Owners': 3897837, 'Renters': 3419918}}}\n"
     ]
    }
   ],
   "source": [
    "#Now combine these into a dictionary called\"states\", making it a dictionary of dictionaries, or a nested dictionary.\n",
    "state = {'State1' : CA_dict, 'State2' : NY_dict}\n",
    "print(state)"
   ]
  },
  {
   "cell_type": "code",
   "execution_count": 13,
   "metadata": {},
   "outputs": [
    {
     "name": "stdout",
     "output_type": "stream",
     "text": [
      "Texas is not in the data set\n"
     ]
    }
   ],
   "source": [
    "#Check if Texas is in our state dictionary (we know it isn't but show us).\n",
    "if 'Texas' in state: \n",
    "        print('Texas is in the data set')\n",
    "else:\n",
    "        print('Texas is not in the data set')"
   ]
  },
  {
   "cell_type": "code",
   "execution_count": 14,
   "metadata": {},
   "outputs": [
    {
     "name": "stdout",
     "output_type": "stream",
     "text": [
      "65%\n"
     ]
    }
   ],
   "source": [
    "#Print the White population in New York as a percentage\n",
    "\n",
    "#create new variable which lists the 0th value in race_NY\n",
    "white_NY = list(race_NY.values())[0]\n",
    "\n",
    "#reformat to percent\n",
    "white_NY_percent = \"{:.0%}\".format(white_NY)\n",
    "print(white_NY_percent)"
   ]
  },
  {
   "cell_type": "code",
   "execution_count": 15,
   "metadata": {},
   "outputs": [
    {
     "name": "stdout",
     "output_type": "stream",
     "text": [
      "{'Prop White': 0.64, 'Prop Afr Amer': 0.15, 'Prop Asian': 0.07, 'Prop Other': 0.22}\n",
      "64%\n"
     ]
    }
   ],
   "source": [
    "#Assume there was a typo in the data, and update the White population fraction of NY to 0.64. \n",
    "race_NY['Prop White'] = .64\n",
    "print(race_NY)\n",
    "\n",
    "#Verify that it was updated by printing the percentage again.\n",
    "white_NY = list(race_NY.values())[0]\n",
    "white_NY_percent = \"{:.0%}\".format(white_NY)\n",
    "print(white_NY_percent)\n"
   ]
  },
  {
   "cell_type": "code",
   "execution_count": 18,
   "metadata": {},
   "outputs": [
    {
     "name": "stdout",
     "output_type": "stream",
     "text": [
      "12577498\n"
     ]
    }
   ],
   "source": [
    "#Print the percentage of households that are renters in California, with two decimal places\n",
    "\n",
    "#sum values in the tenure CA dictionary and create a new function with this sum \n",
    "values = tenure_CA.values()\n",
    "total = sum(values)\n",
    "print(total)\n"
   ]
  },
  {
   "cell_type": "code",
   "execution_count": 22,
   "metadata": {},
   "outputs": [
    {
     "name": "stdout",
     "output_type": "stream",
     "text": [
      "0.4406\n",
      "44%\n"
     ]
    }
   ],
   "source": [
    "#create new function called renters with the renter value from the tenure CA dictionary\n",
    "renters = list(tenure_CA.values())[1]\n",
    "\n",
    "#divide the renters function with the total function (both with stored values)\n",
    "dec_rent = renters/total\n",
    "\n",
    "#get four decimal places of data for value \n",
    "four_dec_CA_rent = round(dec_rent, 4)\n",
    "print(four_dec_CA_rent)\n",
    "\n",
    "#convert to new percent format\n",
    "percent_rent = \"{:.0%}\".format(dec_rent)\n",
    "print(percent_rent)\n",
    "\n"
   ]
  },
  {
   "cell_type": "markdown",
   "metadata": {
    "collapsed": true
   },
   "source": [
    "### Exercise 6: Working with Numpy Arrays\n",
    "\n",
    "1. Create and print a 4 x 4 array named `a` with value 3 everywhere.\n",
    "\n",
    "1. Create and print a 4 x 4 array named `b` with elements drawn from a uniform random distribution \n",
    "\n",
    "1. Create and print array `c` by dividing a by b\n",
    "\n",
    "1. Compute and print the min, mean, max, median, and 90th percentile values of `c`\n",
    "\n",
    "1. Compute and print the sum of the second column in `c`"
   ]
  },
  {
   "cell_type": "code",
   "execution_count": null,
   "metadata": {},
   "outputs": [],
   "source": [
    "#imports module numpy and renames it np\n",
    "import numpy as np\n",
    "\n",
    "#Create an array called a_array and print a 4 x 4 array named a with value 3 everywhere.\n",
    "a_array = np.array([[3,3,3,3], [3,3,3,3], [3,3,3,3], [3,3,3,3]])\n",
    "print(a_array)"
   ]
  },
  {
   "cell_type": "code",
   "execution_count": null,
   "metadata": {},
   "outputs": [],
   "source": [
    "#Create and print a 4 x 4 array named b with elements drawn from a uniform random distribution\n",
    "b_array = np.random.uniform(size =(4,4), low = 0, high = 1) \n",
    "b_array"
   ]
  },
  {
   "cell_type": "code",
   "execution_count": null,
   "metadata": {},
   "outputs": [],
   "source": [
    "#Create and print array c by dividing a by b\n",
    "c = np.divide(a_array, b_array)\n",
    "c"
   ]
  },
  {
   "cell_type": "code",
   "execution_count": null,
   "metadata": {},
   "outputs": [],
   "source": [
    "#Compute and print the min, mean, max, median, and 90th percentile values of c\n",
    "#min\n",
    "np.min(c)"
   ]
  },
  {
   "cell_type": "code",
   "execution_count": null,
   "metadata": {},
   "outputs": [],
   "source": [
    "#mean\n",
    "np.mean(c)"
   ]
  },
  {
   "cell_type": "code",
   "execution_count": null,
   "metadata": {},
   "outputs": [],
   "source": [
    "#max\n",
    "np.max(c)"
   ]
  },
  {
   "cell_type": "code",
   "execution_count": null,
   "metadata": {},
   "outputs": [],
   "source": [
    "#median\n",
    "np.median(c)"
   ]
  },
  {
   "cell_type": "code",
   "execution_count": null,
   "metadata": {},
   "outputs": [],
   "source": [
    "#90th percentile\n",
    "np.percentile(c, 90)"
   ]
  },
  {
   "cell_type": "code",
   "execution_count": null,
   "metadata": {},
   "outputs": [],
   "source": [
    "#Compute and print the sum of the second column in c by importing pandas first\n",
    "import pandas as pd "
   ]
  },
  {
   "cell_type": "code",
   "execution_count": null,
   "metadata": {},
   "outputs": [],
   "source": [
    "# create a data frame from our array\n",
    "df = pd.DataFrame(c, columns = ['C1', 'C2', 'C3', 'C4'])\n",
    "print(df)"
   ]
  },
  {
   "cell_type": "code",
   "execution_count": null,
   "metadata": {},
   "outputs": [],
   "source": [
    "#create a new function that sums only the second column\n",
    "column_c_total = df['C2'].sum()\n",
    "print(column_c_total)"
   ]
  }
 ],
 "metadata": {
  "kernelspec": {
   "display_name": "Python 3 (ipykernel)",
   "language": "python",
   "name": "python3"
  },
  "language_info": {
   "codemirror_mode": {
    "name": "ipython",
    "version": 3
   },
   "file_extension": ".py",
   "mimetype": "text/x-python",
   "name": "python",
   "nbconvert_exporter": "python",
   "pygments_lexer": "ipython3",
   "version": "3.9.7"
  },
  "toc": {
   "base_numbering": 1,
   "nav_menu": {},
   "number_sections": true,
   "sideBar": true,
   "skip_h1_title": false,
   "title_cell": "Table of Contents",
   "title_sidebar": "Contents",
   "toc_cell": false,
   "toc_position": {},
   "toc_section_display": true,
   "toc_window_display": false
  }
 },
 "nbformat": 4,
 "nbformat_minor": 2
}
