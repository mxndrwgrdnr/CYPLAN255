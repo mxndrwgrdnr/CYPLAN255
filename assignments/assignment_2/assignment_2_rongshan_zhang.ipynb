{
 "cells": [
  {
   "cell_type": "markdown",
   "id": "f96bdfc7",
   "metadata": {},
   "source": [
    "# Assignment 2 | Programming Logic\n",
    "\n",
    "Reminder: in all of the assignments this semester, the answer is not the only consideration, but also how you get to it. It's OK (suggested even!) to use the internet for help. But you _should_ be able to answer all of these questions using only the programming techniques you have learned in class and from the readings.\n",
    "\n",
    "A few keys for success:\n",
    "- Avoid manual data entry\n",
    "- Emphasize logic and clarity\n",
    "- Use comments, docstrings, and descriptive variable names\n",
    "- In general, less code is better. But if more lines of code makes your program easier to read or understand what its doing, then go for it."
   ]
  },
  {
   "cell_type": "markdown",
   "id": "078a9000",
   "metadata": {},
   "source": [
    "## Problem 1 \n",
    "Write a Python program to count the number of even and odd numbers from a list of numbers. Test your code by running it on a list of integers from 1 to 9. No need to make this a function unless you want to."
   ]
  },
  {
   "cell_type": "code",
   "execution_count": 75,
   "id": "8eb937c5",
   "metadata": {},
   "outputs": [
    {
     "name": "stdout",
     "output_type": "stream",
     "text": [
      "the number of odd numbers is 5 ,and the number of even numbers is 4\n"
     ]
    }
   ],
   "source": [
    "mylist=[]\n",
    "def count_numbers(mylist):\n",
    "    x=0\n",
    "    y=0\n",
    "    i=0\n",
    "    for mylist[i] in mylist:\n",
    "        if mylist[i]%2!=0:\n",
    "            x=x+1\n",
    "            i=i+1\n",
    "        else:\n",
    "            y=y+1\n",
    "            i=i+1    \n",
    "    return print(\"the number of odd numbers is\",x,\",and the number of even numbers is\",y)\n",
    "list=[1,2,3,4,5,6,7,8,9]\n",
    "count_numbers(list)"
   ]
  },
  {
   "cell_type": "markdown",
   "id": "db9df1a9",
   "metadata": {
    "collapsed": true
   },
   "source": [
    "## Problem 2\n",
    "Write a Python function that takes a list of numbers and returns a list containing only the even numbers from the original list. Test your function by running it on a list of integers from 1 to 9."
   ]
  },
  {
   "cell_type": "code",
   "execution_count": 38,
   "id": "45fcfd00",
   "metadata": {},
   "outputs": [
    {
     "data": {
      "text/plain": [
       "[2, 4, 6, 8]"
      ]
     },
     "execution_count": 38,
     "metadata": {},
     "output_type": "execute_result"
    }
   ],
   "source": [
    "mylist=[]\n",
    "even=[]\n",
    "def return_list(mylist):\n",
    "    i=0\n",
    "    for mylist[i] in mylist:\n",
    "        if mylist[i]%2==0:\n",
    "            even.append(mylist[i])\n",
    "    return even\n",
    "list=[1,2,3,4,5,6,7,8,9]\n",
    "return_list(list)"
   ]
  },
  {
   "cell_type": "markdown",
   "id": "6a6f4ef0",
   "metadata": {},
   "source": [
    "## Problem 3\n",
    "\n",
    "1. Create a function that accepts a list of integers as an argument and returns a list of floats which equals each number as a fraction of the sum of all the items in the original list.\n",
    "\n",
    "2. Next, create a second function which is the same as the first, but limit each number in the output list to two decimals.\n",
    "\n",
    "3. Create another function which builds on the previous one by allowing a \"user\" pass in an argument that defines the number of decimal places to use in the output list.\n",
    "\n",
    "4. Test each of these functions with a list of integers"
   ]
  },
  {
   "cell_type": "code",
   "execution_count": 66,
   "id": "6856ee58",
   "metadata": {},
   "outputs": [
    {
     "name": "stdout",
     "output_type": "stream",
     "text": [
      "[0.06666666666666667, 0.125, 0.17647058823529413, 0.2222222222222222, 0.2631578947368421]\n"
     ]
    }
   ],
   "source": [
    "mylist=[]\n",
    "floats=[]\n",
    "def change_integers_to_floats(mylist):\n",
    "    i=0\n",
    "    for mylist[i] in mylist:\n",
    "        value=float(mylist[i]/sum(mylist))\n",
    "        floats.append(value)\n",
    "    print(floats)\n",
    "list=[1,2,3,4,5]\n",
    "change_integers_to_floats(list)"
   ]
  },
  {
   "cell_type": "code",
   "execution_count": 94,
   "id": "ffacbb96",
   "metadata": {},
   "outputs": [
    {
     "name": "stdout",
     "output_type": "stream",
     "text": [
      "['0.07', '0.12', '0.18', '0.22', '0.26']\n"
     ]
    }
   ],
   "source": [
    "mylist=[]\n",
    "floats=[]\n",
    "def change_to_floats_two_decimals(mylist):\n",
    "    i=0\n",
    "    for mylist[i] in mylist:\n",
    "        value=float(mylist[i]/sum(mylist))\n",
    "        floats.append(format(value,'.2f'))\n",
    "    print(floats)\n",
    "list=[1,2,3,4,5]\n",
    "change_to_floats_two_decimals(list)"
   ]
  },
  {
   "cell_type": "code",
   "execution_count": 207,
   "id": "0572eed4",
   "metadata": {},
   "outputs": [
    {
     "name": "stdout",
     "output_type": "stream",
     "text": [
      "[0.067, 0.125, 0.176, 0.222, 0.263]\n"
     ]
    }
   ],
   "source": [
    "mylist=[]\n",
    "floats=[]\n",
    "nfloats=[]\n",
    "def change_to_floats_n_decimals(mylist,number):\n",
    "    i=0\n",
    "    for mylist[i] in mylist:\n",
    "        value=float(mylist[i]/sum(mylist))\n",
    "        xvalue=round(value,number)\n",
    "        nfloats.append(xvalue)\n",
    "    print(nfloats)\n",
    "list=[1,2,3,4,5]\n",
    "change_to_floats_n_decimals(list,3)   "
   ]
  },
  {
   "cell_type": "markdown",
   "id": "17e43098",
   "metadata": {},
   "source": [
    "## Problem 4\n",
    "A prime number is any whole number greater than 1 that has no positive divisors besides 1 and itself. In other words, a prime number must be:\n",
    "1. an integer\n",
    "2. greater than 1\n",
    "3. divisible only by 1 and itself.\n",
    "\n",
    "Write a function is_prime(n) that accepts an argument `n` and returns `True` (boolean) if `n` is a prime number and `False` if n is not prime. For example, `is_prime(11)` should return `True` and `is_prime(12)` should return `False`.\n"
   ]
  },
  {
   "cell_type": "code",
   "execution_count": 302,
   "id": "0cdef4e7",
   "metadata": {},
   "outputs": [
    {
     "name": "stdout",
     "output_type": "stream",
     "text": [
      "False\n",
      "True\n"
     ]
    }
   ],
   "source": [
    "def is_prime(n):\n",
    "    for i in range(2,n):\n",
    "        a=n%i\n",
    "        if a==0:\n",
    "            print(not(a==0))\n",
    "            break\n",
    "        if i==n-1:\n",
    "            print(not(a==0))\n",
    "is_prime(15)\n",
    "is_prime(11)"
   ]
  },
  {
   "cell_type": "markdown",
   "id": "e556b42f",
   "metadata": {},
   "source": [
    "## Problem 5"
   ]
  },
  {
   "cell_type": "markdown",
   "id": "fd5f4463",
   "metadata": {},
   "source": [
    "1. Create a class called `Housing`, and add the following attributes to it:\n",
    "  - type\n",
    "  - area\n",
    "  - number of bedrooms\n",
    "  - value (price)\n",
    "  - year built.\n",
    "2. Create two instances of your class and populate their attributes (make 'em up)\n",
    "3. Create a method called `rent()` that calculates the estimated monthly rent for each house (assume that monthly rent is 0.4% of the value of the house)\n",
    "4. Print the rent for both instances."
   ]
  },
  {
   "cell_type": "code",
   "execution_count": 210,
   "id": "efa713df",
   "metadata": {},
   "outputs": [
    {
     "name": "stdout",
     "output_type": "stream",
     "text": [
      "340\n",
      "1000\n"
     ]
    }
   ],
   "source": [
    "class Housing:\n",
    "    \n",
    "    def __init__(self, types, area, number, value, year):\n",
    "        self.types=types\n",
    "        self.area=area\n",
    "        self.number=number\n",
    "        self.value=value\n",
    "        self.year=year\n",
    "    def rent(self, monthly_rent=0.004):\n",
    "        return round(self.value*monthly_rent)\n",
    "house_1=Housing('apartment',1000,2,85000,'1980')\n",
    "house_2=Housing('house',4000,5,250000,'1960')\n",
    "print(house_1.rent())\n",
    "print(house_2.rent())"
   ]
  }
 ],
 "metadata": {
  "kernelspec": {
   "display_name": "Python 3 (ipykernel)",
   "language": "python",
   "name": "python3"
  },
  "language_info": {
   "codemirror_mode": {
    "name": "ipython",
    "version": 3
   },
   "file_extension": ".py",
   "mimetype": "text/x-python",
   "name": "python",
   "nbconvert_exporter": "python",
   "pygments_lexer": "ipython3",
   "version": "3.9.7"
  },
  "toc": {
   "base_numbering": 1,
   "nav_menu": {},
   "number_sections": false,
   "sideBar": false,
   "skip_h1_title": true,
   "title_cell": "Table of Contents",
   "title_sidebar": "Contents",
   "toc_cell": false,
   "toc_position": {},
   "toc_section_display": true,
   "toc_window_display": false
  }
 },
 "nbformat": 4,
 "nbformat_minor": 5
}
