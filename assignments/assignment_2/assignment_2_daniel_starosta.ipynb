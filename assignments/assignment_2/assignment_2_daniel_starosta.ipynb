{
 "cells": [
  {
   "cell_type": "markdown",
   "id": "f96bdfc7",
   "metadata": {},
   "source": [
    "# Assignment 2 | Programming Logic\n",
    "\n",
    "Reminder: in all of the assignments this semester, the answer is not the only consideration, but also how you get to it. It's OK (suggested even!) to use the internet for help. But you _should_ be able to answer all of these questions using only the programming techniques you have learned in class and from the readings.\n",
    "\n",
    "A few keys for success:\n",
    "- Avoid manual data entry\n",
    "- Emphasize logic and clarity\n",
    "- Use comments, docstrings, and descriptive variable names\n",
    "- In general, less code is better. But if more lines of code makes your program easier to read or understand what its doing, then go for it."
   ]
  },
  {
   "cell_type": "markdown",
   "id": "078a9000",
   "metadata": {},
   "source": [
    "## Problem 1 \n",
    "Write a Python program to count the number of even and odd numbers from a list of numbers. Test your code by running it on a list of integers from 1 to 9. No need to make this a function unless you want to."
   ]
  },
  {
   "cell_type": "code",
   "execution_count": 2,
   "id": "8eb937c5",
   "metadata": {},
   "outputs": [
    {
     "name": "stdout",
     "output_type": "stream",
     "text": [
      "Even numbers in the list:  5\n",
      "Odd numbers in the list:  5\n"
     ]
    }
   ],
   "source": [
    "# list of numbers\n",
    "list1 = range(10)\n",
    "\n",
    "\n",
    "  \n",
    "even_count, odd_count = 0, 0\n",
    "  \n",
    "# iterating each number in list\n",
    "for num in list1:\n",
    "      \n",
    "    # checking condition\n",
    "    if num % 2 == 0:\n",
    "        even_count += 1\n",
    "  \n",
    "    else:\n",
    "        odd_count += 1\n",
    "          \n",
    "print(\"Even numbers in the list: \", even_count)\n",
    "print(\"Odd numbers in the list: \", odd_count)"
   ]
  },
  {
   "cell_type": "markdown",
   "id": "db9df1a9",
   "metadata": {
    "collapsed": true
   },
   "source": [
    "## Problem 2\n",
    "Write a Python function that takes a list of numbers and returns a list containing only the even numbers from the original list. Test your function by running it on a list of integers from 1 to 9."
   ]
  },
  {
   "cell_type": "code",
   "execution_count": 4,
   "id": "45fcfd00",
   "metadata": {},
   "outputs": [
    {
     "name": "stdout",
     "output_type": "stream",
     "text": [
      "[2, 4, 6, 8]\n"
     ]
    }
   ],
   "source": [
    "def evens1():\n",
    "    return [x for x in range(1, 10) if x % 2 == 0]\n",
    "\n",
    "\n",
    "print(generate_evens1())"
   ]
  },
  {
   "cell_type": "markdown",
   "id": "6a6f4ef0",
   "metadata": {},
   "source": [
    "## Problem 3\n",
    "\n",
    "1. Create a function that accepts a list of integers as an argument and returns a list of floats which equals each number as a fraction of the sum of all the items in the original list.\n",
    "\n",
    "2. Next, create a second function which is the same as the first, but limit each number in the output list to two decimals.\n",
    "\n",
    "3. Create another function which builds on the previous one by allowing a \"user\" pass in an argument that defines the number of decimal places to use in the output list.\n",
    "\n",
    "4. Test each of these functions with a list of integers"
   ]
  },
  {
   "cell_type": "code",
   "execution_count": 23,
   "id": "6856ee58",
   "metadata": {},
   "outputs": [
    {
     "name": "stdout",
     "output_type": "stream",
     "text": [
      "[0.029411764705882353, 0.0392156862745098, 0.049019607843137254, 0.058823529411764705, 0.06862745098039216, 0.0784313725490196, 0.08823529411764706, 0.09803921568627451, 0.10784313725490197, 0.11764705882352941, 0.12745098039215685, 0.13725490196078433]\n"
     ]
    }
   ],
   "source": [
    "\n",
    "#Step 1\n",
    "def fracsum(numbers):\n",
    " ls2 = [int(x) for x in numbers]\n",
    " tot = sum(ls2)\n",
    " result = [x/tot for x in ls2]\n",
    " print(result)\n",
    "\n",
    "foo1 = range(3,15)\n",
    "fracsum(foo)"
   ]
  },
  {
   "cell_type": "code",
   "execution_count": 25,
   "id": "c286c273",
   "metadata": {},
   "outputs": [
    {
     "name": "stdout",
     "output_type": "stream",
     "text": [
      "[0.03, 0.04, 0.05, 0.06, 0.07, 0.08, 0.09, 0.1, 0.11, 0.12, 0.13, 0.14]\n"
     ]
    }
   ],
   "source": [
    "#Step 2\n",
    "def fracsumrd(numbers):\n",
    " ls2 = [int(x) for x in numbers]\n",
    " tot = sum(ls2)\n",
    " result = [round(x/tot,2) for x in ls2]\n",
    "\n",
    " print(result)\n",
    "\n",
    "foo2 = range(3,15)\n",
    "fracsumrd(foo)"
   ]
  },
  {
   "cell_type": "code",
   "execution_count": 26,
   "id": "77bb0d19",
   "metadata": {},
   "outputs": [
    {
     "name": "stdout",
     "output_type": "stream",
     "text": [
      "[0.0294, 0.0392, 0.049, 0.0588, 0.0686, 0.0784, 0.0882, 0.098, 0.1078, 0.1176, 0.1275, 0.1373]\n"
     ]
    }
   ],
   "source": [
    "#Step 3\n",
    "def fracsumrd(numbers,z):\n",
    " ls2 = [int(x) for x in numbers]\n",
    " tot = sum(ls2)\n",
    " result = [round(x/tot,z) for x in ls2]\n",
    " print(result)\n",
    "\n",
    "foo3 = range(3,15)\n",
    "fracsumrd(foo3,4)"
   ]
  },
  {
   "cell_type": "markdown",
   "id": "17e43098",
   "metadata": {},
   "source": [
    "## Problem 4\n",
    "A prime number is any whole number greater than 1 that has no positive divisors besides 1 and itself. In other words, a prime number must be:\n",
    "1. an integer\n",
    "2. greater than 1\n",
    "3. divisible only by 1 and itself.\n",
    "\n",
    "Write a function is_prime(n) that accepts an argument `n` and returns `True` (boolean) if `n` is a prime number and `False` if n is not prime. For example, `is_prime(11)` should return `True` and `is_prime(12)` should return `False`.\n"
   ]
  },
  {
   "cell_type": "code",
   "execution_count": 81,
   "id": "7b43bc6c",
   "metadata": {},
   "outputs": [
    {
     "name": "stdout",
     "output_type": "stream",
     "text": [
      "Is the number 12 prime? False\n",
      "Is the number 11 prime? True\n",
      "\n",
      "Houston we have a problem: 4 is definitely [false] and yet returns: True\n"
     ]
    }
   ],
   "source": [
    "def is_prime(n):\n",
    "    if n==2 or n==3:\n",
    "        return True\n",
    "    if not isinstance(n, int) :\n",
    "        return False\n",
    "    if n<=1 :\n",
    "        return False\n",
    "    for i in range(3,n):\n",
    "        if n%i == 0:\n",
    "            return False\n",
    "        else:\n",
    "            return True\n",
    "        \n",
    "print('Is the number 12 prime?', is_prime(12))\n",
    "print('Is the number 11 prime?', is_prime(11))\n",
    "print('')\n",
    "#Irene/Max--I know there's something wrong here that I couldn't troubleshoot. The function works for most numbers, but not all numbers.\n",
    "print('Houston we have a problem: 4 is definitely [false] and yet returns:', is_prime(4))\n"
   ]
  },
  {
   "cell_type": "markdown",
   "id": "e556b42f",
   "metadata": {},
   "source": [
    "## Problem 5"
   ]
  },
  {
   "cell_type": "markdown",
   "id": "fd5f4463",
   "metadata": {},
   "source": [
    "1. Create a class called `Housing`, and add the following attributes to it:\n",
    "  - type\n",
    "  - area\n",
    "  - number of bedrooms\n",
    "  - value (price)\n",
    "  - year built.\n",
    "2. Create two instances of your class and populate their attributes (make 'em up)\n",
    "3. Create a method called `rent()` that calculates the estimated monthly rent for each house (assume that monthly rent is 0.4% of the value of the house)\n",
    "4. Print the rent for both instances."
   ]
  },
  {
   "cell_type": "code",
   "execution_count": 71,
   "id": "efa713df",
   "metadata": {},
   "outputs": [
    {
     "name": "stdout",
     "output_type": "stream",
     "text": [
      "Studio rent: 1000.0\n",
      "Shed rent: 2.6\n",
      "McMansion rent: 8400.0\n"
     ]
    }
   ],
   "source": [
    "class Housing:\n",
    "    pass\n",
    "\n",
    "    def __init__(self, typ, area, rooms, value, yearb):\n",
    "        self.typ = typ\n",
    "        self.area = area\n",
    "        self.rooms = rooms\n",
    "        self.value = value\n",
    "        self.yearb = yearb\n",
    "\n",
    "    def rent(self):\n",
    "        v=int(self.value)\n",
    "        r=v*0.004\n",
    "        return r\n",
    "    \n",
    "instance1 = Housing('Studio',850,1,250000,1991)\n",
    "instance2 = Housing('Shed',100,0,650,2008)\n",
    "instance3 = Housing('McMansion',3500,7,2100000, 2016)\n",
    "\n",
    "\n",
    "\n",
    "print('Studio rent:', instance1.rent())\n",
    "print('Shed rent:', instance2.rent())\n",
    "print('McMansion rent:', instance3.rent())\n",
    "        "
   ]
  },
  {
   "cell_type": "code",
   "execution_count": null,
   "id": "31a146a0",
   "metadata": {},
   "outputs": [],
   "source": []
  }
 ],
 "metadata": {
  "kernelspec": {
   "display_name": "Python 3 (ipykernel)",
   "language": "python",
   "name": "python3"
  },
  "language_info": {
   "codemirror_mode": {
    "name": "ipython",
    "version": 3
   },
   "file_extension": ".py",
   "mimetype": "text/x-python",
   "name": "python",
   "nbconvert_exporter": "python",
   "pygments_lexer": "ipython3",
   "version": "3.9.7"
  },
  "toc": {
   "base_numbering": 1,
   "nav_menu": {},
   "number_sections": false,
   "sideBar": false,
   "skip_h1_title": true,
   "title_cell": "Table of Contents",
   "title_sidebar": "Contents",
   "toc_cell": false,
   "toc_position": {},
   "toc_section_display": true,
   "toc_window_display": false
  }
 },
 "nbformat": 4,
 "nbformat_minor": 5
}
