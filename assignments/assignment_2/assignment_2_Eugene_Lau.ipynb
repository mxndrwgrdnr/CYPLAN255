{
 "cells": [
  {
   "cell_type": "markdown",
   "id": "f96bdfc7",
   "metadata": {},
   "source": [
    "# Assignment 2 | Programming Logic\n",
    "\n",
    "Reminder: in all of the assignments this semester, the answer is not the only consideration, but also how you get to it. It's OK (suggested even!) to use the internet for help. But you _should_ be able to answer all of these questions using only the programming techniques you have learned in class and from the readings.\n",
    "\n",
    "A few keys for success:\n",
    "- Avoid manual data entry\n",
    "- Emphasize logic and clarity\n",
    "- Use comments, docstrings, and descriptive variable names\n",
    "- In general, less code is better. But if more lines of code makes your program easier to read or understand what its doing, then go for it."
   ]
  },
  {
   "cell_type": "markdown",
   "id": "078a9000",
   "metadata": {},
   "source": [
    "## Problem 1 \n",
    "Write a Python program to count the number of even and odd numbers from a list of numbers. Test your code by running it on a list of integers from 1 to 9. No need to make this a function unless you want to."
   ]
  },
  {
   "cell_type": "code",
   "execution_count": 3,
   "id": "870c8508",
   "metadata": {},
   "outputs": [],
   "source": [
    "import random"
   ]
  },
  {
   "cell_type": "code",
   "execution_count": 24,
   "id": "b5c15b32",
   "metadata": {},
   "outputs": [
    {
     "name": "stdout",
     "output_type": "stream",
     "text": [
      "<class 'list'>\n"
     ]
    }
   ],
   "source": [
    "list_ran=[random.randrange(0,100) for i in range(9)]\n",
    "print (list)"
   ]
  },
  {
   "cell_type": "code",
   "execution_count": 82,
   "id": "393a1665",
   "metadata": {},
   "outputs": [],
   "source": [
    "even_count, odd_count = 0, 0"
   ]
  },
  {
   "cell_type": "code",
   "execution_count": 49,
   "id": "3ceab0e6",
   "metadata": {},
   "outputs": [
    {
     "name": "stdout",
     "output_type": "stream",
     "text": [
      "even 5\n",
      "odd 4\n"
     ]
    }
   ],
   "source": [
    "#program for problem 1\n",
    "for i in list_ran:\n",
    "    if i % 2 == 0:\n",
    "        even_count +=1\n",
    "    else:\n",
    "        odd_count +=1\n",
    "print(\"even\", even_count)\n",
    "print(\"odd\", odd_count)"
   ]
  },
  {
   "cell_type": "code",
   "execution_count": 67,
   "id": "2862f934",
   "metadata": {},
   "outputs": [],
   "source": [
    "list= [1,2,3,4,5,6,7,8,9]"
   ]
  },
  {
   "cell_type": "code",
   "execution_count": 110,
   "id": "7bc0d675",
   "metadata": {},
   "outputs": [],
   "source": [
    "#function for problem 1\n",
    "def get_count(lists):\n",
    "    global e_count, o_count\n",
    "    e_count, o_count = 0, 0\n",
    "    for i in lists:\n",
    "        if i % 2 ==0:\n",
    "            e_count = e_count + 1\n",
    "        else:\n",
    "            o_count= o_count + 1\n",
    "    \n",
    "    print ('evens', e_count)\n",
    "    print('odds', o_count)"
   ]
  },
  {
   "cell_type": "code",
   "execution_count": 111,
   "id": "d5f4a64b",
   "metadata": {},
   "outputs": [
    {
     "name": "stdout",
     "output_type": "stream",
     "text": [
      "evens 4\n",
      "odds 5\n"
     ]
    }
   ],
   "source": [
    "get_count(list)"
   ]
  },
  {
   "cell_type": "code",
   "execution_count": 112,
   "metadata": {},
   "outputs": [
    {
     "name": "stdout",
     "output_type": "stream",
     "text": [
      "evens 5\n",
      "odds 4\n"
     ]
    }
   ],
   "source": [
    "get_count(list_ran)"
   ]
  },
  {
   "cell_type": "markdown",
   "id": "db9df1a9",
   "metadata": {
    "collapsed": true
   },
   "source": [
    "## Problem 2\n",
    "Write a Python function that takes a list of numbers and returns a list containing only the even numbers from the original list. Test your function by running it on a list of integers from 1 to 9."
   ]
  },
  {
   "cell_type": "code",
   "execution_count": 34,
   "id": "0762582b",
   "metadata": {},
   "outputs": [
    {
     "name": "stdout",
     "output_type": "stream",
     "text": [
      "[1, 2, 3, 4, 5, 6, 7, 8, 9]\n"
     ]
    }
   ],
   "source": [
    "listtest= [1,2,3,4,5,6,7,8,9]\n",
    "print(listtest)"
   ]
  },
  {
   "cell_type": "code",
   "execution_count": 40,
   "id": "45fcfd00",
   "metadata": {},
   "outputs": [
    {
     "name": "stdout",
     "output_type": "stream",
     "text": [
      "[2, 4, 6, 8]\n"
     ]
    }
   ],
   "source": [
    "def evens(lists):\n",
    "    result=[]\n",
    "    for x in lists:\n",
    "        if x % 2 == 0:\n",
    "         result.append(x)\n",
    "    return result\n",
    "\n",
    "print(evens(listtest))"
   ]
  },
  {
   "cell_type": "markdown",
   "id": "6a6f4ef0",
   "metadata": {},
   "source": [
    "## Problem 3\n",
    "\n",
    "1. Create a function that accepts a list of integers as an argument and returns a list of floats which equals each number as a fraction of the sum of all the items in the original list.\n",
    "\n",
    "2. Next, create a second function which is the same as the first, but limit each number in the output list to two decimals.\n",
    "\n",
    "3. Create another function which builds on the previous one by allowing a \"user\" pass in an argument that defines the number of decimal places to use in the output list.\n",
    "\n",
    "4. Test each of these functions with a list of integers"
   ]
  },
  {
   "cell_type": "code",
   "execution_count": 4,
   "id": "9c4cf727",
   "metadata": {},
   "outputs": [
    {
     "name": "stdout",
     "output_type": "stream",
     "text": [
      "[6, 47, 78, 38, 71, 48, 38, 32, 61]\n"
     ]
    }
   ],
   "source": [
    "list_r=[random.randrange(0,100) for i in range(9)]\n",
    "print(list_r)"
   ]
  },
  {
   "cell_type": "code",
   "execution_count": 5,
   "id": "6856ee58",
   "metadata": {
    "collapsed": true
   },
   "outputs": [
    {
     "name": "stdout",
     "output_type": "stream",
     "text": [
      "[0.014319809069212411, 0.11217183770883055, 0.18615751789976134, 0.09069212410501193, 0.16945107398568018, 0.11455847255369929, 0.09069212410501193, 0.07637231503579953, 0.14558472553699284]\n"
     ]
    }
   ],
   "source": [
    "def d_sum():\n",
    "    result=[]\n",
    "    for x in list_r:\n",
    "        y= x/sum(list_r)\n",
    "        result.append(y)\n",
    "    return result\n",
    "\n",
    "print(d_sum())"
   ]
  },
  {
   "cell_type": "code",
   "execution_count": 6,
   "id": "a42e9880",
   "metadata": {},
   "outputs": [
    {
     "name": "stdout",
     "output_type": "stream",
     "text": [
      "[0.01, 0.11, 0.19, 0.09, 0.17, 0.11, 0.09, 0.08, 0.15]\n"
     ]
    }
   ],
   "source": [
    "def d_sum2():\n",
    "    result=[]\n",
    "    for x in list_r:\n",
    "        y= x/sum(list_r)\n",
    "        result.append(round(y,2))\n",
    "    return result\n",
    "\n",
    "print(d_sum2())"
   ]
  },
  {
   "cell_type": "code",
   "execution_count": 7,
   "id": "b3e4f4e3",
   "metadata": {},
   "outputs": [
    {
     "name": "stdout",
     "output_type": "stream",
     "text": [
      "[0.01432, 0.11217183770883055, 0.18615751789976134, 0.09069212410501193, 0.16945107398568018, 0.11455847255369929, 0.09069212410501193, 0.07637231503579953, 0.14558472553699284]\n"
     ]
    }
   ],
   "source": [
    "def d_sum3(x):\n",
    "    result=[]\n",
    "    for x in list_r:\n",
    "        y= x/sum(list_r)\n",
    "        result.append(round(y,x))\n",
    "    return result\n",
    "\n",
    "print(d_sum3(4))"
   ]
  },
  {
   "cell_type": "code",
   "execution_count": 8,
   "id": "4f58c3bd",
   "metadata": {},
   "outputs": [
    {
     "name": "stdout",
     "output_type": "stream",
     "text": [
      "[0.01432, 0.11217183770883055, 0.18615751789976134, 0.09069212410501193, 0.16945107398568018, 0.11455847255369929, 0.09069212410501193, 0.07637231503579953, 0.14558472553699284]\n"
     ]
    }
   ],
   "source": [
    "def d_sum4(list, x):\n",
    "    result=[]\n",
    "    for x in list:\n",
    "        y= x/sum(list)\n",
    "        result.append(round(y,x))\n",
    "    return result\n",
    "\n",
    "print(d_sum4(list_r,4))"
   ]
  },
  {
   "cell_type": "markdown",
   "id": "17e43098",
   "metadata": {},
   "source": [
    "## Problem 4\n",
    "A prime number is any whole number greater than 1 that has no positive divisors besides 1 and itself. In other words, a prime number must be:\n",
    "1. an integer\n",
    "2. greater than 1\n",
    "3. divisible only by 1 and itself.\n",
    "\n",
    "Write a function is_prime(n) that accepts an argument `n` and returns `True` (boolean) if `n` is a prime number and `False` if n is not prime. For example, `is_prime(11)` should return `True` and `is_prime(12)` should return `False`.\n"
   ]
  },
  {
   "cell_type": "code",
   "execution_count": 13,
   "id": "fa589d63",
   "metadata": {},
   "outputs": [],
   "source": [
    "def is_prime(n):\n",
    "    if n > 1 and int(n) == n:\n",
    "        for i in range(2,n):\n",
    "            if (n % i) == 0:\n",
    "                print(\"false\")\n",
    "                break\n",
    "        else:\n",
    "            print(\"true\")\n",
    "    else:\n",
    "        print(\"false\")"
   ]
  },
  {
   "cell_type": "code",
   "execution_count": 14,
   "id": "e30bbf23",
   "metadata": {},
   "outputs": [
    {
     "name": "stdout",
     "output_type": "stream",
     "text": [
      "true\n"
     ]
    }
   ],
   "source": [
    "is_prime(3)"
   ]
  },
  {
   "cell_type": "code",
   "execution_count": 15,
   "id": "eb8009d5",
   "metadata": {},
   "outputs": [
    {
     "name": "stdout",
     "output_type": "stream",
     "text": [
      "false\n"
     ]
    }
   ],
   "source": [
    "is_prime(12)"
   ]
  },
  {
   "cell_type": "code",
   "execution_count": 16,
   "id": "e5526316",
   "metadata": {},
   "outputs": [
    {
     "name": "stdout",
     "output_type": "stream",
     "text": [
      "false\n"
     ]
    }
   ],
   "source": [
    "is_prime(2.1)"
   ]
  },
  {
   "cell_type": "markdown",
   "id": "e556b42f",
   "metadata": {},
   "source": [
    "## Problem 5"
   ]
  },
  {
   "cell_type": "markdown",
   "id": "fd5f4463",
   "metadata": {},
   "source": [
    "1. Create a class called `Housing`, and add the following attributes to it:\n",
    "  - type\n",
    "  - area\n",
    "  - number of bedrooms\n",
    "  - value (price)\n",
    "  - year built.\n",
    "2. Create two instances of your class and populate their attributes (make 'em up)\n",
    "3. Create a method called `rent()` that calculates the estimated monthly rent for each house (assume that monthly rent is 0.4% of the value of the house)\n",
    "4. Print the rent for both instances."
   ]
  },
  {
   "cell_type": "code",
   "execution_count": 1,
   "id": "efa713df",
   "metadata": {
    "collapsed": true
   },
   "outputs": [],
   "source": [
    "class Housing:\n",
    "    def __init__(self, type, area, bath, price, year):\n",
    "        self.type = type\n",
    "        self.area = area\n",
    "        self.bath = bath\n",
    "        self.price = price\n",
    "        self.year = year\n",
    "\n",
    "    def rent(self):\n",
    "        return round(self.price * .004)\n"
   ]
  },
  {
   "cell_type": "code",
   "execution_count": 5,
   "id": "15a7eead",
   "metadata": {},
   "outputs": [],
   "source": [
    "house_1 = Housing('SFH', '4000 sq ft', '3', 1200000, '1970' )\n",
    "house_2 = Housing('Duplex', '5000 sq ft', '4', 2000000, '1990' )"
   ]
  },
  {
   "cell_type": "code",
   "execution_count": 11,
   "id": "e7daa344",
   "metadata": {},
   "outputs": [
    {
     "name": "stdout",
     "output_type": "stream",
     "text": [
      "The rent for the single family home is 4800 dollars per month.\n",
      "The rent for the duplex 8000 dollars per month.\n"
     ]
    }
   ],
   "source": [
    "print('The rent for the single family home is', house_1.rent(), 'dollars per month.')\n",
    "print('The rent for the duplex', house_2.rent(), 'dollars per month.')"
   ]
  },
  {
   "cell_type": "code",
   "execution_count": null,
   "id": "dd7f2feb",
   "metadata": {},
   "outputs": [],
   "source": []
  }
 ],
 "metadata": {
  "interpreter": {
   "hash": "59c4425b48aca83028dbeaa3510d3a1811d90bc3b179896ec2c1ba38a7007cd2"
  },
  "kernelspec": {
   "display_name": "Python [conda env:cp255] *",
   "language": "python",
   "name": "python3"
  },
  "language_info": {
   "codemirror_mode": {
    "name": "ipython",
    "version": 3
   },
   "file_extension": ".py",
   "mimetype": "text/x-python",
   "name": "python",
   "nbconvert_exporter": "python",
   "pygments_lexer": "ipython3",
   "version": "3.10.2"
  },
  "toc": {
   "base_numbering": 1,
   "nav_menu": {},
   "number_sections": false,
   "sideBar": false,
   "skip_h1_title": true,
   "title_cell": "Table of Contents",
   "title_sidebar": "Contents",
   "toc_cell": false,
   "toc_position": {},
   "toc_section_display": true,
   "toc_window_display": false
  }
 },
 "nbformat": 4,
 "nbformat_minor": 5
}
